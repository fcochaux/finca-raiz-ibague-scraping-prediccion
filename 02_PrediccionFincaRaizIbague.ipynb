{
 "cells": [
  {
   "cell_type": "markdown",
   "id": "5a7ea07f",
   "metadata": {},
   "source": [
    "# Introducción"
   ]
  },
  {
   "cell_type": "markdown",
   "id": "06c361f3",
   "metadata": {},
   "source": [
    "Este cuaderno tiene como objetivo documentar el proceso de predicción de precios de arriendo de apartamentos en la ciudad de Ibagué, utilizando algoritmos de machine learning. A lo largo del análisis, se realiza una exhaustiva ingeniería de características para transformar y adecuar los datos, así como la imputación de valores faltantes y la depuración de la información. Todo esto permite construir un conjunto de datos robusto y confiable, que facilita la obtención de resultados precisos y útiles para la toma de decisiones en el mercado inmobiliario local.\n",
    "\n",
    "Los datos analizados en este estudio provienen de la recopilación más actualizada realizada mediante técnicas de web scraping, usando la plataforma Finca Raíz, cuyo proceso y consideraciones se encuentran detalladamente descritos en el archivo `01_WSFincaRaizIbague.ipynb`. Esta información constituye la base fundamental para el desarrollo y validación de los modelos predictivos presentados a continuación."
   ]
  },
  {
   "cell_type": "markdown",
   "id": "5c6de81a",
   "metadata": {},
   "source": [
    "# Preparación del entorno de trabajo"
   ]
  },
  {
   "cell_type": "markdown",
   "id": "7504d21c",
   "metadata": {},
   "source": [
    "Se realiza la carga de las librerías necesarias:"
   ]
  },
  {
   "cell_type": "code",
   "execution_count": 1,
   "id": "9e8ea3c0",
   "metadata": {},
   "outputs": [],
   "source": [
    "# procesamiento de datos\n",
    "import pandas as pd\n",
    "import numpy as np\n",
    "\n",
    "# visualización de datos\n",
    "import plotly.graph_objects as go\n",
    "import seaborn as sns\n",
    "import matplotlib.pyplot as plt\n",
    "from ipywidgets import interact\n",
    "import folium\n",
    "\n",
    "# transformación de datos\n",
    "from sklearn.model_selection import train_test_split, cross_val_score, KFold\n",
    "from sklearn.preprocessing import StandardScaler, MinMaxScaler, OneHotEncoder\n",
    "from sklearn.impute import SimpleImputer\n",
    "\n",
    "# machine learning\n",
    "from sklearn.impute import KNNImputer\n",
    "from sklearn.linear_model import LinearRegression, Ridge, Lasso\n",
    "from sklearn.ensemble import RandomForestRegressor, GradientBoostingRegressor\n",
    "from sklearn.tree import DecisionTreeRegressor\n",
    "\n",
    "# evaluación de modelos\n",
    "from sklearn.metrics import mean_squared_error, mean_absolute_error, r2_score\n",
    "\n",
    "# manejo de fechas y advertencias\n",
    "from datetime import datetime\n",
    "import warnings\n",
    "import os\n",
    "warnings.filterwarnings('ignore')"
   ]
  },
  {
   "cell_type": "markdown",
   "id": "3a5baba0",
   "metadata": {},
   "source": [
    "Se define de fecha más reciente de la información descargada."
   ]
  },
  {
   "cell_type": "code",
   "execution_count": 2,
   "id": "7a7165fc",
   "metadata": {},
   "outputs": [
    {
     "name": "stdout",
     "output_type": "stream",
     "text": [
      "2025-09-12\n"
     ]
    }
   ],
   "source": [
    "# busqueda del archivo más reciente\n",
    "archivos_apartamentos = [f for f in os.listdir() if f.endswith('_apartamentos_ibague.csv')]\n",
    "if archivos_apartamentos:\n",
    "    # Encontrar el archivo con la fecha de modificación más reciente\n",
    "    archivo_mas_reciente = max(archivos_apartamentos, key=lambda f: os.path.getmtime(f))\n",
    "    fecha_actual = datetime.fromtimestamp(os.path.getmtime(archivo_mas_reciente)).strftime('%Y%m%d')\n",
    "else:\n",
    "    fecha_actual = None  # No se encontró el archivo\n",
    "# impresión del resultado\n",
    "print(fecha_actual[:4] + '-' + fecha_actual[4:6] + '-' + fecha_actual[6:8])"
   ]
  },
  {
   "cell_type": "markdown",
   "id": "3c2f9299",
   "metadata": {},
   "source": [
    "# Preparación de datos"
   ]
  },
  {
   "cell_type": "markdown",
   "id": "fae74f8d",
   "metadata": {},
   "source": [
    "Se inicia con la importación de la información:"
   ]
  },
  {
   "cell_type": "code",
   "execution_count": 3,
   "id": "46594dcb",
   "metadata": {},
   "outputs": [
    {
     "data": {
      "text/html": [
       "<div>\n",
       "<style scoped>\n",
       "    .dataframe tbody tr th:only-of-type {\n",
       "        vertical-align: middle;\n",
       "    }\n",
       "\n",
       "    .dataframe tbody tr th {\n",
       "        vertical-align: top;\n",
       "    }\n",
       "\n",
       "    .dataframe thead th {\n",
       "        text-align: right;\n",
       "    }\n",
       "</style>\n",
       "<table border=\"1\" class=\"dataframe\">\n",
       "  <thead>\n",
       "    <tr style=\"text-align: right;\">\n",
       "      <th></th>\n",
       "      <th>Identificador</th>\n",
       "      <th>Área Construida (metros cuadrados)</th>\n",
       "      <th>Área Privada (metros cuadrados)</th>\n",
       "      <th>Habitaciones</th>\n",
       "      <th>Baños</th>\n",
       "      <th>Estrato</th>\n",
       "      <th>Parqueaderos</th>\n",
       "      <th>Antigüedad</th>\n",
       "      <th>Administración</th>\n",
       "      <th>Piso N°</th>\n",
       "      <th>Estado</th>\n",
       "      <th>Cantidad de pisos</th>\n",
       "      <th>Latitud</th>\n",
       "      <th>Longitud</th>\n",
       "      <th>Precio</th>\n",
       "    </tr>\n",
       "  </thead>\n",
       "  <tbody>\n",
       "    <tr>\n",
       "      <th>44</th>\n",
       "      <td>191707560</td>\n",
       "      <td>49.0</td>\n",
       "      <td>NaN</td>\n",
       "      <td>2</td>\n",
       "      <td>2</td>\n",
       "      <td>3</td>\n",
       "      <td>NaN</td>\n",
       "      <td>1 a 8 años</td>\n",
       "      <td>171000.0</td>\n",
       "      <td>NaN</td>\n",
       "      <td>Usado</td>\n",
       "      <td>NaN</td>\n",
       "      <td>4.449719</td>\n",
       "      <td>-75.143251</td>\n",
       "      <td>529000</td>\n",
       "    </tr>\n",
       "    <tr>\n",
       "      <th>47</th>\n",
       "      <td>191344794</td>\n",
       "      <td>200.0</td>\n",
       "      <td>196.0</td>\n",
       "      <td>4</td>\n",
       "      <td>3</td>\n",
       "      <td>3</td>\n",
       "      <td>NaN</td>\n",
       "      <td>16 a 30 años</td>\n",
       "      <td>NaN</td>\n",
       "      <td>NaN</td>\n",
       "      <td>NaN</td>\n",
       "      <td>NaN</td>\n",
       "      <td>4.440993</td>\n",
       "      <td>-75.226098</td>\n",
       "      <td>3000000</td>\n",
       "    </tr>\n",
       "    <tr>\n",
       "      <th>4</th>\n",
       "      <td>192592371</td>\n",
       "      <td>40.0</td>\n",
       "      <td>35.0</td>\n",
       "      <td>2</td>\n",
       "      <td>1</td>\n",
       "      <td>3</td>\n",
       "      <td>NaN</td>\n",
       "      <td>1 a 8 años</td>\n",
       "      <td>134000.0</td>\n",
       "      <td>NaN</td>\n",
       "      <td>Usado</td>\n",
       "      <td>NaN</td>\n",
       "      <td>4.419924</td>\n",
       "      <td>-75.170624</td>\n",
       "      <td>616000</td>\n",
       "    </tr>\n",
       "    <tr>\n",
       "      <th>55</th>\n",
       "      <td>192650939</td>\n",
       "      <td>120.0</td>\n",
       "      <td>NaN</td>\n",
       "      <td>3</td>\n",
       "      <td>3</td>\n",
       "      <td>3</td>\n",
       "      <td>1.0</td>\n",
       "      <td>16 a 30 años</td>\n",
       "      <td>NaN</td>\n",
       "      <td>4.0</td>\n",
       "      <td>NaN</td>\n",
       "      <td>NaN</td>\n",
       "      <td>4.439575</td>\n",
       "      <td>-75.228605</td>\n",
       "      <td>1500000</td>\n",
       "    </tr>\n",
       "    <tr>\n",
       "      <th>26</th>\n",
       "      <td>192835541</td>\n",
       "      <td>75.0</td>\n",
       "      <td>75.0</td>\n",
       "      <td>3</td>\n",
       "      <td>2</td>\n",
       "      <td>2</td>\n",
       "      <td>NaN</td>\n",
       "      <td>16 a 30 años</td>\n",
       "      <td>NaN</td>\n",
       "      <td>4.0</td>\n",
       "      <td>Usado</td>\n",
       "      <td>NaN</td>\n",
       "      <td>4.446831</td>\n",
       "      <td>-75.194156</td>\n",
       "      <td>1400000</td>\n",
       "    </tr>\n",
       "    <tr>\n",
       "      <th>64</th>\n",
       "      <td>192861055</td>\n",
       "      <td>90.0</td>\n",
       "      <td>NaN</td>\n",
       "      <td>3</td>\n",
       "      <td>1</td>\n",
       "      <td>3</td>\n",
       "      <td>NaN</td>\n",
       "      <td>1 a 8 años</td>\n",
       "      <td>NaN</td>\n",
       "      <td>1.0</td>\n",
       "      <td>Usado</td>\n",
       "      <td>NaN</td>\n",
       "      <td>4.437587</td>\n",
       "      <td>-75.167863</td>\n",
       "      <td>800000</td>\n",
       "    </tr>\n",
       "    <tr>\n",
       "      <th>73</th>\n",
       "      <td>192676131</td>\n",
       "      <td>106.0</td>\n",
       "      <td>106.0</td>\n",
       "      <td>3</td>\n",
       "      <td>2</td>\n",
       "      <td>110</td>\n",
       "      <td>1.0</td>\n",
       "      <td>NaN</td>\n",
       "      <td>NaN</td>\n",
       "      <td>NaN</td>\n",
       "      <td>NaN</td>\n",
       "      <td>NaN</td>\n",
       "      <td>4.437001</td>\n",
       "      <td>-75.206974</td>\n",
       "      <td>1950000</td>\n",
       "    </tr>\n",
       "    <tr>\n",
       "      <th>10</th>\n",
       "      <td>192737003</td>\n",
       "      <td>56.0</td>\n",
       "      <td>50.0</td>\n",
       "      <td>3</td>\n",
       "      <td>2</td>\n",
       "      <td>3</td>\n",
       "      <td>1.0</td>\n",
       "      <td>9 a 15 años</td>\n",
       "      <td>185000.0</td>\n",
       "      <td>NaN</td>\n",
       "      <td>Usado</td>\n",
       "      <td>NaN</td>\n",
       "      <td>4.444200</td>\n",
       "      <td>-75.166085</td>\n",
       "      <td>615000</td>\n",
       "    </tr>\n",
       "    <tr>\n",
       "      <th>40</th>\n",
       "      <td>192666097</td>\n",
       "      <td>57.0</td>\n",
       "      <td>NaN</td>\n",
       "      <td>2</td>\n",
       "      <td>2</td>\n",
       "      <td>3</td>\n",
       "      <td>NaN</td>\n",
       "      <td>1 a 8 años</td>\n",
       "      <td>NaN</td>\n",
       "      <td>5.0</td>\n",
       "      <td>Usado</td>\n",
       "      <td>NaN</td>\n",
       "      <td>4.418958</td>\n",
       "      <td>-75.170131</td>\n",
       "      <td>1100000</td>\n",
       "    </tr>\n",
       "    <tr>\n",
       "      <th>107</th>\n",
       "      <td>192747728</td>\n",
       "      <td>38.0</td>\n",
       "      <td>38.0</td>\n",
       "      <td>1</td>\n",
       "      <td>1</td>\n",
       "      <td>4</td>\n",
       "      <td>1.0</td>\n",
       "      <td>9 a 15 años</td>\n",
       "      <td>NaN</td>\n",
       "      <td>NaN</td>\n",
       "      <td>Usado</td>\n",
       "      <td>NaN</td>\n",
       "      <td>4.436552</td>\n",
       "      <td>-75.205586</td>\n",
       "      <td>1250000</td>\n",
       "    </tr>\n",
       "  </tbody>\n",
       "</table>\n",
       "</div>"
      ],
      "text/plain": [
       "     Identificador  Área Construida (metros cuadrados)  \\\n",
       "44       191707560                                49.0   \n",
       "47       191344794                               200.0   \n",
       "4        192592371                                40.0   \n",
       "55       192650939                               120.0   \n",
       "26       192835541                                75.0   \n",
       "64       192861055                                90.0   \n",
       "73       192676131                               106.0   \n",
       "10       192737003                                56.0   \n",
       "40       192666097                                57.0   \n",
       "107      192747728                                38.0   \n",
       "\n",
       "     Área Privada (metros cuadrados)  Habitaciones  Baños  Estrato  \\\n",
       "44                               NaN             2      2        3   \n",
       "47                             196.0             4      3        3   \n",
       "4                               35.0             2      1        3   \n",
       "55                               NaN             3      3        3   \n",
       "26                              75.0             3      2        2   \n",
       "64                               NaN             3      1        3   \n",
       "73                             106.0             3      2      110   \n",
       "10                              50.0             3      2        3   \n",
       "40                               NaN             2      2        3   \n",
       "107                             38.0             1      1        4   \n",
       "\n",
       "     Parqueaderos    Antigüedad  Administración  Piso N° Estado  \\\n",
       "44            NaN    1 a 8 años        171000.0      NaN  Usado   \n",
       "47            NaN  16 a 30 años             NaN      NaN    NaN   \n",
       "4             NaN    1 a 8 años        134000.0      NaN  Usado   \n",
       "55            1.0  16 a 30 años             NaN      4.0    NaN   \n",
       "26            NaN  16 a 30 años             NaN      4.0  Usado   \n",
       "64            NaN    1 a 8 años             NaN      1.0  Usado   \n",
       "73            1.0           NaN             NaN      NaN    NaN   \n",
       "10            1.0   9 a 15 años        185000.0      NaN  Usado   \n",
       "40            NaN    1 a 8 años             NaN      5.0  Usado   \n",
       "107           1.0   9 a 15 años             NaN      NaN  Usado   \n",
       "\n",
       "     Cantidad de pisos   Latitud   Longitud   Precio  \n",
       "44                 NaN  4.449719 -75.143251   529000  \n",
       "47                 NaN  4.440993 -75.226098  3000000  \n",
       "4                  NaN  4.419924 -75.170624   616000  \n",
       "55                 NaN  4.439575 -75.228605  1500000  \n",
       "26                 NaN  4.446831 -75.194156  1400000  \n",
       "64                 NaN  4.437587 -75.167863   800000  \n",
       "73                 NaN  4.437001 -75.206974  1950000  \n",
       "10                 NaN  4.444200 -75.166085   615000  \n",
       "40                 NaN  4.418958 -75.170131  1100000  \n",
       "107                NaN  4.436552 -75.205586  1250000  "
      ]
     },
     "execution_count": 3,
     "metadata": {},
     "output_type": "execute_result"
    }
   ],
   "source": [
    "# lectura de datos\n",
    "datos_apartamentos = pd.read_csv(f'{fecha_actual}_apartamentos_ibague.csv')\n",
    "# revisión de observaciones al azar\n",
    "datos_apartamentos.sample(10, random_state=42)"
   ]
  },
  {
   "cell_type": "markdown",
   "id": "a4420968",
   "metadata": {},
   "source": [
    "## Análisis exploratorio de datos"
   ]
  },
  {
   "cell_type": "markdown",
   "id": "4ce55036",
   "metadata": {},
   "source": [
    "Se revisa la información general de la base:"
   ]
  },
  {
   "cell_type": "code",
   "execution_count": 4,
   "id": "e1a25706",
   "metadata": {},
   "outputs": [
    {
     "name": "stdout",
     "output_type": "stream",
     "text": [
      "<class 'pandas.core.frame.DataFrame'>\n",
      "RangeIndex: 120 entries, 0 to 119\n",
      "Data columns (total 15 columns):\n",
      " #   Column                              Non-Null Count  Dtype  \n",
      "---  ------                              --------------  -----  \n",
      " 0   Identificador                       120 non-null    int64  \n",
      " 1   Área Construida (metros cuadrados)  120 non-null    float64\n",
      " 2   Área Privada (metros cuadrados)     90 non-null     float64\n",
      " 3   Habitaciones                        120 non-null    int64  \n",
      " 4   Baños                               120 non-null    int64  \n",
      " 5   Estrato                             120 non-null    int64  \n",
      " 6   Parqueaderos                        81 non-null     float64\n",
      " 7   Antigüedad                          109 non-null    object \n",
      " 8   Administración                      50 non-null     float64\n",
      " 9   Piso N°                             48 non-null     float64\n",
      " 10  Estado                              84 non-null     object \n",
      " 11  Cantidad de pisos                   8 non-null      float64\n",
      " 12  Latitud                             120 non-null    float64\n",
      " 13  Longitud                            120 non-null    float64\n",
      " 14  Precio                              120 non-null    int64  \n",
      "dtypes: float64(8), int64(5), object(2)\n",
      "memory usage: 14.2+ KB\n"
     ]
    }
   ],
   "source": [
    "datos_apartamentos.info()"
   ]
  },
  {
   "cell_type": "markdown",
   "id": "d2861d44",
   "metadata": {},
   "source": [
    "Se evidencia la presencia de valores faltantes en varias columnas. Para más detalle, se calcula el porcentaje de valores faltantes por cada columna que tuvo un mínimo de 1 faltante:"
   ]
  },
  {
   "cell_type": "code",
   "execution_count": 5,
   "id": "9cfd2470",
   "metadata": {},
   "outputs": [
    {
     "data": {
      "text/plain": [
       "Área Privada (metros cuadrados)    25.00\n",
       "Parqueaderos                       32.50\n",
       "Antigüedad                          9.17\n",
       "Administración                     58.33\n",
       "Piso N°                            60.00\n",
       "Estado                             30.00\n",
       "Cantidad de pisos                  93.33\n",
       "dtype: object"
      ]
     },
     "execution_count": 5,
     "metadata": {},
     "output_type": "execute_result"
    }
   ],
   "source": [
    "porcentaje_faltantes = (datos_apartamentos.isnull().sum() / len(datos_apartamentos)) * 100\n",
    "porcentaje_faltantes[porcentaje_faltantes > 0].apply(lambda x: f\"{x:.2f}\")"
   ]
  },
  {
   "cell_type": "markdown",
   "id": "90ab3e91",
   "metadata": {},
   "source": [
    "Se observa lo siguiente:\n",
    "\n",
    "- `Área Privada (metros cuadrados)` está muy relacionada con `Área Construida (metros cuadrados)`, algo que se revisará más adelante con detalle, por lo que puede ser viable excluirla del análisis.\n",
    "- `Parqueaderos` es, probablemente, una variable con muy poca variabilidad, por lo que también puede excluirse, eventualmente.\n",
    "- `Antigüedad` tiene muy pocos valores faltantes, por lo que puede ser viable una imputación. Desde luego, considerando que se trata de una variable categórica, al final se terminará transformado.\n",
    "- `Piso N°` tiene un porcentaje muy alto de valores faltantes, por lo que puede excluirse.\n",
    "- `Estado` tiene una situación similar a la variable anterior.\n",
    "- `Cantidad de pisos` tiene un porcentaje de faltantes alto, por lo que también es viable exluirlo.\n",
    "\n",
    "Ya se revisarán en detalle las variables. Por el momento, se revisa que no existan filas duplicadas:"
   ]
  },
  {
   "cell_type": "code",
   "execution_count": 6,
   "id": "e702561d",
   "metadata": {},
   "outputs": [
    {
     "name": "stdout",
     "output_type": "stream",
     "text": [
      "Hay 0 filas duplicadas.\n"
     ]
    }
   ],
   "source": [
    "print(f'Hay {datos_apartamentos.duplicated().sum()} filas duplicadas.')"
   ]
  },
  {
   "cell_type": "markdown",
   "id": "bc689618",
   "metadata": {},
   "source": [
    "A continuación, se definen las variables numéricas y categóricas desde el punto de vista conceptual. Es decir, se hace la clasificación que tiene sentido desde el punto de vista económico más allá de la lectura que hace Python:"
   ]
  },
  {
   "cell_type": "code",
   "execution_count": 7,
   "id": "76468176",
   "metadata": {},
   "outputs": [],
   "source": [
    "variables_numericas=[\n",
    "    'Área Construida (metros cuadrados)', 'Área Privada (metros cuadrados)', 'Habitaciones',\n",
    "    'Baños', 'Parqueaderos', 'Administración', 'Cantidad de pisos', 'Latitud', 'Longitud', 'Precio'\n",
    "]\n",
    "variables_categoricas = [col for col in datos_apartamentos.columns if col not in variables_numericas and col != 'Identificador']"
   ]
  },
  {
   "cell_type": "markdown",
   "id": "2d9830c4",
   "metadata": {},
   "source": [
    "De esta forma, se inicia con la revisión de las variables categóricas:"
   ]
  },
  {
   "cell_type": "code",
   "execution_count": 8,
   "id": "dea518fe",
   "metadata": {},
   "outputs": [
    {
     "data": {
      "application/vnd.plotly.v1+json": {
       "config": {
        "plotlyServerURL": "https://plot.ly"
       },
       "data": [
        {
         "hovertemplate": "%{y:.2f}%<extra></extra>",
         "name": "Estrato",
         "type": "bar",
         "visible": true,
         "x": [
          "3",
          "4",
          "2",
          "5",
          "Sin información",
          "6"
         ],
         "y": [
          50,
          34.166666666666664,
          7.5,
          5,
          1.6666666666666667,
          1.6666666666666667
         ]
        },
        {
         "hovertemplate": "%{y:.2f}%<extra></extra>",
         "name": "Antigüedad",
         "type": "bar",
         "visible": false,
         "x": [
          "1 a 8 años",
          "9 a 15 años",
          "menor a 1 año",
          "16 a 30 años",
          "Sin información",
          "más de 30 años"
         ],
         "y": [
          51.66666666666667,
          17.5,
          10.833333333333334,
          9.166666666666666,
          9.166666666666666,
          1.6666666666666667
         ]
        },
        {
         "hovertemplate": "%{y:.2f}%<extra></extra>",
         "name": "Piso N°",
         "type": "bar",
         "visible": false,
         "x": [
          "Sin información",
          "2.0",
          "4.0",
          "1.0",
          "5.0",
          "8.0",
          "6.0",
          "15.0",
          "10.0",
          "12.0",
          "7.0",
          "3.0",
          "11.0",
          "18.0",
          "9.0"
         ],
         "y": [
          60,
          4.166666666666666,
          4.166666666666666,
          4.166666666666666,
          4.166666666666666,
          3.3333333333333335,
          3.3333333333333335,
          3.3333333333333335,
          3.3333333333333335,
          2.5,
          2.5,
          1.6666666666666667,
          1.6666666666666667,
          0.8333333333333334,
          0.8333333333333334
         ]
        },
        {
         "hovertemplate": "%{y:.2f}%<extra></extra>",
         "name": "Estado",
         "type": "bar",
         "visible": false,
         "x": [
          "Usado",
          "Sin información",
          "A estrenar"
         ],
         "y": [
          68.33333333333333,
          30,
          1.6666666666666667
         ]
        }
       ],
       "layout": {
        "paper_bgcolor": "white",
        "plot_bgcolor": "white",
        "showlegend": false,
        "template": {
         "data": {
          "bar": [
           {
            "error_x": {
             "color": "#2a3f5f"
            },
            "error_y": {
             "color": "#2a3f5f"
            },
            "marker": {
             "line": {
              "color": "#E5ECF6",
              "width": 0.5
             },
             "pattern": {
              "fillmode": "overlay",
              "size": 10,
              "solidity": 0.2
             }
            },
            "type": "bar"
           }
          ],
          "barpolar": [
           {
            "marker": {
             "line": {
              "color": "#E5ECF6",
              "width": 0.5
             },
             "pattern": {
              "fillmode": "overlay",
              "size": 10,
              "solidity": 0.2
             }
            },
            "type": "barpolar"
           }
          ],
          "carpet": [
           {
            "aaxis": {
             "endlinecolor": "#2a3f5f",
             "gridcolor": "white",
             "linecolor": "white",
             "minorgridcolor": "white",
             "startlinecolor": "#2a3f5f"
            },
            "baxis": {
             "endlinecolor": "#2a3f5f",
             "gridcolor": "white",
             "linecolor": "white",
             "minorgridcolor": "white",
             "startlinecolor": "#2a3f5f"
            },
            "type": "carpet"
           }
          ],
          "choropleth": [
           {
            "colorbar": {
             "outlinewidth": 0,
             "ticks": ""
            },
            "type": "choropleth"
           }
          ],
          "contour": [
           {
            "colorbar": {
             "outlinewidth": 0,
             "ticks": ""
            },
            "colorscale": [
             [
              0,
              "#0d0887"
             ],
             [
              0.1111111111111111,
              "#46039f"
             ],
             [
              0.2222222222222222,
              "#7201a8"
             ],
             [
              0.3333333333333333,
              "#9c179e"
             ],
             [
              0.4444444444444444,
              "#bd3786"
             ],
             [
              0.5555555555555556,
              "#d8576b"
             ],
             [
              0.6666666666666666,
              "#ed7953"
             ],
             [
              0.7777777777777778,
              "#fb9f3a"
             ],
             [
              0.8888888888888888,
              "#fdca26"
             ],
             [
              1,
              "#f0f921"
             ]
            ],
            "type": "contour"
           }
          ],
          "contourcarpet": [
           {
            "colorbar": {
             "outlinewidth": 0,
             "ticks": ""
            },
            "type": "contourcarpet"
           }
          ],
          "heatmap": [
           {
            "colorbar": {
             "outlinewidth": 0,
             "ticks": ""
            },
            "colorscale": [
             [
              0,
              "#0d0887"
             ],
             [
              0.1111111111111111,
              "#46039f"
             ],
             [
              0.2222222222222222,
              "#7201a8"
             ],
             [
              0.3333333333333333,
              "#9c179e"
             ],
             [
              0.4444444444444444,
              "#bd3786"
             ],
             [
              0.5555555555555556,
              "#d8576b"
             ],
             [
              0.6666666666666666,
              "#ed7953"
             ],
             [
              0.7777777777777778,
              "#fb9f3a"
             ],
             [
              0.8888888888888888,
              "#fdca26"
             ],
             [
              1,
              "#f0f921"
             ]
            ],
            "type": "heatmap"
           }
          ],
          "heatmapgl": [
           {
            "colorbar": {
             "outlinewidth": 0,
             "ticks": ""
            },
            "colorscale": [
             [
              0,
              "#0d0887"
             ],
             [
              0.1111111111111111,
              "#46039f"
             ],
             [
              0.2222222222222222,
              "#7201a8"
             ],
             [
              0.3333333333333333,
              "#9c179e"
             ],
             [
              0.4444444444444444,
              "#bd3786"
             ],
             [
              0.5555555555555556,
              "#d8576b"
             ],
             [
              0.6666666666666666,
              "#ed7953"
             ],
             [
              0.7777777777777778,
              "#fb9f3a"
             ],
             [
              0.8888888888888888,
              "#fdca26"
             ],
             [
              1,
              "#f0f921"
             ]
            ],
            "type": "heatmapgl"
           }
          ],
          "histogram": [
           {
            "marker": {
             "pattern": {
              "fillmode": "overlay",
              "size": 10,
              "solidity": 0.2
             }
            },
            "type": "histogram"
           }
          ],
          "histogram2d": [
           {
            "colorbar": {
             "outlinewidth": 0,
             "ticks": ""
            },
            "colorscale": [
             [
              0,
              "#0d0887"
             ],
             [
              0.1111111111111111,
              "#46039f"
             ],
             [
              0.2222222222222222,
              "#7201a8"
             ],
             [
              0.3333333333333333,
              "#9c179e"
             ],
             [
              0.4444444444444444,
              "#bd3786"
             ],
             [
              0.5555555555555556,
              "#d8576b"
             ],
             [
              0.6666666666666666,
              "#ed7953"
             ],
             [
              0.7777777777777778,
              "#fb9f3a"
             ],
             [
              0.8888888888888888,
              "#fdca26"
             ],
             [
              1,
              "#f0f921"
             ]
            ],
            "type": "histogram2d"
           }
          ],
          "histogram2dcontour": [
           {
            "colorbar": {
             "outlinewidth": 0,
             "ticks": ""
            },
            "colorscale": [
             [
              0,
              "#0d0887"
             ],
             [
              0.1111111111111111,
              "#46039f"
             ],
             [
              0.2222222222222222,
              "#7201a8"
             ],
             [
              0.3333333333333333,
              "#9c179e"
             ],
             [
              0.4444444444444444,
              "#bd3786"
             ],
             [
              0.5555555555555556,
              "#d8576b"
             ],
             [
              0.6666666666666666,
              "#ed7953"
             ],
             [
              0.7777777777777778,
              "#fb9f3a"
             ],
             [
              0.8888888888888888,
              "#fdca26"
             ],
             [
              1,
              "#f0f921"
             ]
            ],
            "type": "histogram2dcontour"
           }
          ],
          "mesh3d": [
           {
            "colorbar": {
             "outlinewidth": 0,
             "ticks": ""
            },
            "type": "mesh3d"
           }
          ],
          "parcoords": [
           {
            "line": {
             "colorbar": {
              "outlinewidth": 0,
              "ticks": ""
             }
            },
            "type": "parcoords"
           }
          ],
          "pie": [
           {
            "automargin": true,
            "type": "pie"
           }
          ],
          "scatter": [
           {
            "fillpattern": {
             "fillmode": "overlay",
             "size": 10,
             "solidity": 0.2
            },
            "type": "scatter"
           }
          ],
          "scatter3d": [
           {
            "line": {
             "colorbar": {
              "outlinewidth": 0,
              "ticks": ""
             }
            },
            "marker": {
             "colorbar": {
              "outlinewidth": 0,
              "ticks": ""
             }
            },
            "type": "scatter3d"
           }
          ],
          "scattercarpet": [
           {
            "marker": {
             "colorbar": {
              "outlinewidth": 0,
              "ticks": ""
             }
            },
            "type": "scattercarpet"
           }
          ],
          "scattergeo": [
           {
            "marker": {
             "colorbar": {
              "outlinewidth": 0,
              "ticks": ""
             }
            },
            "type": "scattergeo"
           }
          ],
          "scattergl": [
           {
            "marker": {
             "colorbar": {
              "outlinewidth": 0,
              "ticks": ""
             }
            },
            "type": "scattergl"
           }
          ],
          "scattermapbox": [
           {
            "marker": {
             "colorbar": {
              "outlinewidth": 0,
              "ticks": ""
             }
            },
            "type": "scattermapbox"
           }
          ],
          "scatterpolar": [
           {
            "marker": {
             "colorbar": {
              "outlinewidth": 0,
              "ticks": ""
             }
            },
            "type": "scatterpolar"
           }
          ],
          "scatterpolargl": [
           {
            "marker": {
             "colorbar": {
              "outlinewidth": 0,
              "ticks": ""
             }
            },
            "type": "scatterpolargl"
           }
          ],
          "scatterternary": [
           {
            "marker": {
             "colorbar": {
              "outlinewidth": 0,
              "ticks": ""
             }
            },
            "type": "scatterternary"
           }
          ],
          "surface": [
           {
            "colorbar": {
             "outlinewidth": 0,
             "ticks": ""
            },
            "colorscale": [
             [
              0,
              "#0d0887"
             ],
             [
              0.1111111111111111,
              "#46039f"
             ],
             [
              0.2222222222222222,
              "#7201a8"
             ],
             [
              0.3333333333333333,
              "#9c179e"
             ],
             [
              0.4444444444444444,
              "#bd3786"
             ],
             [
              0.5555555555555556,
              "#d8576b"
             ],
             [
              0.6666666666666666,
              "#ed7953"
             ],
             [
              0.7777777777777778,
              "#fb9f3a"
             ],
             [
              0.8888888888888888,
              "#fdca26"
             ],
             [
              1,
              "#f0f921"
             ]
            ],
            "type": "surface"
           }
          ],
          "table": [
           {
            "cells": {
             "fill": {
              "color": "#EBF0F8"
             },
             "line": {
              "color": "white"
             }
            },
            "header": {
             "fill": {
              "color": "#C8D4E3"
             },
             "line": {
              "color": "white"
             }
            },
            "type": "table"
           }
          ]
         },
         "layout": {
          "annotationdefaults": {
           "arrowcolor": "#2a3f5f",
           "arrowhead": 0,
           "arrowwidth": 1
          },
          "autotypenumbers": "strict",
          "coloraxis": {
           "colorbar": {
            "outlinewidth": 0,
            "ticks": ""
           }
          },
          "colorscale": {
           "diverging": [
            [
             0,
             "#8e0152"
            ],
            [
             0.1,
             "#c51b7d"
            ],
            [
             0.2,
             "#de77ae"
            ],
            [
             0.3,
             "#f1b6da"
            ],
            [
             0.4,
             "#fde0ef"
            ],
            [
             0.5,
             "#f7f7f7"
            ],
            [
             0.6,
             "#e6f5d0"
            ],
            [
             0.7,
             "#b8e186"
            ],
            [
             0.8,
             "#7fbc41"
            ],
            [
             0.9,
             "#4d9221"
            ],
            [
             1,
             "#276419"
            ]
           ],
           "sequential": [
            [
             0,
             "#0d0887"
            ],
            [
             0.1111111111111111,
             "#46039f"
            ],
            [
             0.2222222222222222,
             "#7201a8"
            ],
            [
             0.3333333333333333,
             "#9c179e"
            ],
            [
             0.4444444444444444,
             "#bd3786"
            ],
            [
             0.5555555555555556,
             "#d8576b"
            ],
            [
             0.6666666666666666,
             "#ed7953"
            ],
            [
             0.7777777777777778,
             "#fb9f3a"
            ],
            [
             0.8888888888888888,
             "#fdca26"
            ],
            [
             1,
             "#f0f921"
            ]
           ],
           "sequentialminus": [
            [
             0,
             "#0d0887"
            ],
            [
             0.1111111111111111,
             "#46039f"
            ],
            [
             0.2222222222222222,
             "#7201a8"
            ],
            [
             0.3333333333333333,
             "#9c179e"
            ],
            [
             0.4444444444444444,
             "#bd3786"
            ],
            [
             0.5555555555555556,
             "#d8576b"
            ],
            [
             0.6666666666666666,
             "#ed7953"
            ],
            [
             0.7777777777777778,
             "#fb9f3a"
            ],
            [
             0.8888888888888888,
             "#fdca26"
            ],
            [
             1,
             "#f0f921"
            ]
           ]
          },
          "colorway": [
           "#636efa",
           "#EF553B",
           "#00cc96",
           "#ab63fa",
           "#FFA15A",
           "#19d3f3",
           "#FF6692",
           "#B6E880",
           "#FF97FF",
           "#FECB52"
          ],
          "font": {
           "color": "#2a3f5f"
          },
          "geo": {
           "bgcolor": "white",
           "lakecolor": "white",
           "landcolor": "#E5ECF6",
           "showlakes": true,
           "showland": true,
           "subunitcolor": "white"
          },
          "hoverlabel": {
           "align": "left"
          },
          "hovermode": "closest",
          "mapbox": {
           "style": "light"
          },
          "paper_bgcolor": "white",
          "plot_bgcolor": "#E5ECF6",
          "polar": {
           "angularaxis": {
            "gridcolor": "white",
            "linecolor": "white",
            "ticks": ""
           },
           "bgcolor": "#E5ECF6",
           "radialaxis": {
            "gridcolor": "white",
            "linecolor": "white",
            "ticks": ""
           }
          },
          "scene": {
           "xaxis": {
            "backgroundcolor": "#E5ECF6",
            "gridcolor": "white",
            "gridwidth": 2,
            "linecolor": "white",
            "showbackground": true,
            "ticks": "",
            "zerolinecolor": "white"
           },
           "yaxis": {
            "backgroundcolor": "#E5ECF6",
            "gridcolor": "white",
            "gridwidth": 2,
            "linecolor": "white",
            "showbackground": true,
            "ticks": "",
            "zerolinecolor": "white"
           },
           "zaxis": {
            "backgroundcolor": "#E5ECF6",
            "gridcolor": "white",
            "gridwidth": 2,
            "linecolor": "white",
            "showbackground": true,
            "ticks": "",
            "zerolinecolor": "white"
           }
          },
          "shapedefaults": {
           "line": {
            "color": "#2a3f5f"
           }
          },
          "ternary": {
           "aaxis": {
            "gridcolor": "white",
            "linecolor": "white",
            "ticks": ""
           },
           "baxis": {
            "gridcolor": "white",
            "linecolor": "white",
            "ticks": ""
           },
           "bgcolor": "#E5ECF6",
           "caxis": {
            "gridcolor": "white",
            "linecolor": "white",
            "ticks": ""
           }
          },
          "title": {
           "x": 0.05
          },
          "xaxis": {
           "automargin": true,
           "gridcolor": "white",
           "linecolor": "white",
           "ticks": "",
           "title": {
            "standoff": 15
           },
           "zerolinecolor": "white",
           "zerolinewidth": 2
          },
          "yaxis": {
           "automargin": true,
           "gridcolor": "white",
           "linecolor": "white",
           "ticks": "",
           "title": {
            "standoff": 15
           },
           "zerolinecolor": "white",
           "zerolinewidth": 2
          }
         }
        },
        "title": {
         "text": "Frecuencia relativa (%) de Estrato"
        },
        "updatemenus": [
         {
          "active": 0,
          "buttons": [
           {
            "args": [
             {
              "visible": [
               true,
               false,
               false,
               false
              ]
             },
             {
              "title": "Frecuencia relativa (%) de Estrato"
             }
            ],
            "label": "Estrato",
            "method": "update"
           },
           {
            "args": [
             {
              "visible": [
               false,
               true,
               false,
               false
              ]
             },
             {
              "title": "Frecuencia relativa (%) de Antigüedad"
             }
            ],
            "label": "Antigüedad",
            "method": "update"
           },
           {
            "args": [
             {
              "visible": [
               false,
               false,
               true,
               false
              ]
             },
             {
              "title": "Frecuencia relativa (%) de Piso N°"
             }
            ],
            "label": "Piso N°",
            "method": "update"
           },
           {
            "args": [
             {
              "visible": [
               false,
               false,
               false,
               true
              ]
             },
             {
              "title": "Frecuencia relativa (%) de Estado"
             }
            ],
            "label": "Estado",
            "method": "update"
           }
          ],
          "x": 1.15,
          "y": 1.15
         }
        ],
        "xaxis": {
         "showgrid": false,
         "showline": false,
         "title": {
          "text": "Categoría"
         },
         "zeroline": false
        },
        "yaxis": {
         "showgrid": false,
         "showline": false,
         "title": {
          "text": "Frecuencia relativa (%)"
         },
         "zeroline": false
        }
       }
      }
     },
     "metadata": {},
     "output_type": "display_data"
    }
   ],
   "source": [
    "# conversión a texto de variables categóricas leídas como numéricas\n",
    "for var in variables_categoricas:\n",
    "    datos_apartamentos[var] = datos_apartamentos[var].astype(str)\n",
    "\n",
    "# reemplazo de los valores nulos como \"Sin información\"\n",
    "for var in variables_categoricas:\n",
    "    datos_apartamentos[var] = datos_apartamentos[var].replace(['nan', 'None', 'NaN'], \"Sin información\")\n",
    "    datos_apartamentos[var] = datos_apartamentos[var].replace({pd.NA: \"Sin información\", None: \"Sin información\"})\n",
    "\n",
    "# para la variable estrato, conversión de las categorías nulas\n",
    "if 'Estrato' in datos_apartamentos.columns:\n",
    "    datos_apartamentos['Estrato'] = datos_apartamentos['Estrato'].replace(\"Sin Definir\", \"Sin información\")\n",
    "    datos_apartamentos['Estrato'] = datos_apartamentos['Estrato'].replace(\"110\", \"Sin información\")\n",
    "\n",
    "# creación de diccionario para almacenar las frecuencias relativas\n",
    "frecuencias_relativas = {}\n",
    "\n",
    "# cálculo de frecuencias relativas\n",
    "for var in variables_categoricas:\n",
    "    frecuencias_relativas[var] = datos_apartamentos[var].value_counts(normalize=True, dropna=False) * 100\n",
    "\n",
    "# creación de gráfico interactivo\n",
    "fig = go.Figure()\n",
    "\n",
    "# adicion de una barra para cada variable categórica\n",
    "for i, var in enumerate(variables_categoricas):\n",
    "    valores = frecuencias_relativas[var].index.astype(str)\n",
    "    frecuencias = frecuencias_relativas[var].values\n",
    "    fig.add_trace(\n",
    "        go.Bar(\n",
    "            x=valores,\n",
    "            y=frecuencias,\n",
    "            name=var,\n",
    "            visible=True if i == 0 else False,\n",
    "            hovertemplate='%{y:.2f}%<extra></extra>'\n",
    "        )\n",
    "    )\n",
    "\n",
    "# creación los botones para la barra desplegable\n",
    "botones = []\n",
    "for i, var in enumerate(variables_categoricas):\n",
    "    visibilidad = [False] * len(variables_categoricas)\n",
    "    visibilidad[i] = True\n",
    "    botones.append(\n",
    "        dict(\n",
    "            label=var,\n",
    "            method=\"update\",\n",
    "            args=[{\"visible\": visibilidad},\n",
    "                  {\"title\": f\"Frecuencia relativa (%) de {var}\"}]\n",
    "        )\n",
    "    )\n",
    "\n",
    "fig.update_layout(\n",
    "    updatemenus=[\n",
    "        dict(\n",
    "            active=0,\n",
    "            buttons=botones,\n",
    "            x=1.15,\n",
    "            y=1.15\n",
    "        )\n",
    "    ],\n",
    "    title=f\"Frecuencia relativa (%) de {variables_categoricas[0]}\",\n",
    "    xaxis_title=\"Categoría\",\n",
    "    yaxis_title=\"Frecuencia relativa (%)\",\n",
    "    showlegend=False,\n",
    "    plot_bgcolor='white',\n",
    "    paper_bgcolor='white',\n",
    "    xaxis=dict(showgrid=False, zeroline=False, showline=False),\n",
    "    yaxis=dict(showgrid=False, zeroline=False, showline=False)\n",
    ")\n",
    "\n",
    "# impresión del gráfico\n",
    "fig.show()"
   ]
  },
  {
   "cell_type": "markdown",
   "id": "c2b9740a",
   "metadata": {},
   "source": [
    "En el caso del estrato, la mayor parte de los apartamentos pertenece a los estratos 3 y 4. Menos del 1% aparece sin información, lo que significa que es más viable realizar una imputación de esos casos de acuerdo al sector en el que se encuentre el apartamento.\n",
    "\n",
    "En el caso de la antigüedad, la mayor parte de los apartamentos tiene de 1 a 15 años de antigüedad. Cerca del 7% de los apartamentos aparece sin información, lo que hace viable realizar una imputación de acuerdo a otras características similares.\n",
    "\n",
    "En el número de piso del apartamento, más de la mitad de observaciones no tiene información, de forma que es mejor eliminar la variable. Una situación similar se presenta con el estado del apartamento, aunque su porcentaje de faltantes es más bajo, sigue siendo demasiado alto para considerar una imputación."
   ]
  },
  {
   "cell_type": "markdown",
   "id": "e293469a",
   "metadata": {},
   "source": [
    "A continuación, se revisan las variables numéricas:"
   ]
  },
  {
   "cell_type": "code",
   "execution_count": 9,
   "id": "ae676ee8",
   "metadata": {},
   "outputs": [
    {
     "data": {
      "application/vnd.plotly.v1+json": {
       "config": {
        "plotlyServerURL": "https://plot.ly"
       },
       "data": [
        {
         "box": {
          "visible": true
         },
         "fillcolor": "lightblue",
         "line": {
          "color": "blue"
         },
         "meanline": {
          "visible": true
         },
         "name": "Área Construida (metros cuadrados)",
         "opacity": 0.7,
         "type": "violin",
         "visible": true,
         "y": [
          60,
          77,
          120,
          72,
          40,
          236,
          44,
          60,
          80,
          58,
          56,
          60,
          40,
          77,
          58,
          73,
          90,
          66,
          8450,
          100,
          97,
          56,
          78,
          60,
          95,
          56,
          75,
          40,
          1,
          77,
          76,
          50,
          80,
          98,
          96,
          210,
          80,
          100,
          53,
          30,
          57,
          85,
          105,
          68,
          49,
          63,
          52,
          200,
          58,
          5435,
          78,
          170,
          57,
          250,
          74,
          120,
          79,
          74,
          60,
          53,
          80,
          51,
          70,
          58,
          90,
          90,
          52,
          150,
          72,
          51,
          155,
          47,
          53,
          106,
          150,
          41,
          53,
          38,
          85,
          119.68,
          92,
          60,
          45,
          56,
          74,
          57,
          232,
          300,
          68,
          60,
          50,
          45,
          67,
          94,
          63,
          90,
          42,
          42,
          212,
          57,
          55,
          56,
          60,
          69,
          61,
          63,
          90,
          38,
          60,
          56,
          90,
          36,
          60,
          66,
          44,
          74,
          69,
          65,
          75,
          56
         ]
        },
        {
         "box": {
          "visible": true
         },
         "fillcolor": "lightblue",
         "line": {
          "color": "blue"
         },
         "meanline": {
          "visible": true
         },
         "name": "Área Privada (metros cuadrados)",
         "opacity": 0.7,
         "type": "violin",
         "visible": false,
         "y": [
          60,
          77,
          120,
          72,
          35,
          157,
          44,
          58,
          80,
          58,
          50,
          null,
          40,
          77,
          58,
          73,
          90,
          55,
          80,
          100,
          91,
          56,
          69,
          56,
          null,
          56,
          75,
          null,
          1,
          77,
          76,
          50,
          80,
          98,
          96,
          180,
          78,
          100,
          53,
          30,
          null,
          null,
          null,
          60,
          null,
          null,
          52,
          196,
          58,
          null,
          null,
          170,
          57,
          250,
          77,
          null,
          79,
          null,
          null,
          49,
          80,
          51,
          null,
          null,
          null,
          null,
          52,
          null,
          72,
          51,
          null,
          null,
          null,
          106,
          150,
          null,
          null,
          null,
          85,
          null,
          92,
          null,
          null,
          56,
          null,
          null,
          232,
          300,
          68,
          54,
          50,
          null,
          64,
          84,
          58,
          90,
          41,
          42,
          212,
          57,
          55,
          56,
          60,
          65,
          57,
          60,
          82,
          38,
          60,
          56,
          85,
          36,
          60,
          66,
          44,
          74,
          69,
          65,
          75,
          56
         ]
        },
        {
         "box": {
          "visible": true
         },
         "fillcolor": "lightblue",
         "line": {
          "color": "blue"
         },
         "meanline": {
          "visible": true
         },
         "name": "Habitaciones",
         "opacity": 0.7,
         "type": "violin",
         "visible": false,
         "y": [
          2,
          3,
          4,
          3,
          2,
          5,
          3,
          3,
          3,
          2,
          3,
          3,
          2,
          3,
          3,
          3,
          3,
          3,
          3,
          3,
          2,
          1,
          3,
          1,
          3,
          2,
          3,
          2,
          3,
          3,
          3,
          3,
          3,
          3,
          3,
          4,
          3,
          3,
          3,
          1,
          2,
          3,
          3,
          3,
          2,
          2,
          2,
          4,
          3,
          2,
          3,
          4,
          2,
          4,
          3,
          3,
          3,
          3,
          3,
          2,
          3,
          2,
          3,
          3,
          3,
          2,
          3,
          2,
          3,
          3,
          3,
          3,
          3,
          3,
          4,
          3,
          2,
          3,
          3,
          3,
          3,
          3,
          2,
          3,
          3,
          2,
          5,
          8,
          3,
          2,
          2,
          2,
          3,
          3,
          3,
          3,
          3,
          2,
          4,
          1,
          3,
          3,
          3,
          3,
          3,
          3,
          3,
          1,
          3,
          3,
          3,
          2,
          2,
          3,
          2,
          3,
          3,
          3,
          3,
          2
         ]
        },
        {
         "box": {
          "visible": true
         },
         "fillcolor": "lightblue",
         "line": {
          "color": "blue"
         },
         "meanline": {
          "visible": true
         },
         "name": "Baños",
         "opacity": 0.7,
         "type": "violin",
         "visible": false,
         "y": [
          1,
          2,
          4,
          2,
          1,
          5,
          2,
          2,
          2,
          1,
          2,
          2,
          1,
          2,
          2,
          2,
          2,
          2,
          2,
          3,
          2,
          2,
          2,
          2,
          2,
          1,
          2,
          1,
          2,
          2,
          2,
          2,
          2,
          2,
          2,
          4,
          2,
          2,
          2,
          1,
          2,
          2,
          2,
          2,
          2,
          2,
          1,
          3,
          2,
          1,
          2,
          3,
          2,
          4,
          2,
          3,
          2,
          2,
          2,
          2,
          2,
          2,
          1,
          2,
          1,
          2,
          2,
          1,
          2,
          2,
          3,
          2,
          2,
          2,
          4,
          2,
          2,
          1,
          2,
          2,
          2,
          2,
          1,
          2,
          2,
          2,
          4,
          3,
          2,
          2,
          1,
          2,
          2,
          2,
          2,
          2,
          1,
          1,
          4,
          1,
          2,
          2,
          2,
          2,
          2,
          2,
          2,
          1,
          2,
          2,
          1,
          1,
          2,
          2,
          2,
          2,
          2,
          2,
          1,
          2
         ]
        },
        {
         "box": {
          "visible": true
         },
         "fillcolor": "lightblue",
         "line": {
          "color": "blue"
         },
         "meanline": {
          "visible": true
         },
         "name": "Parqueaderos",
         "opacity": 0.7,
         "type": "violin",
         "visible": false,
         "y": [
          null,
          2,
          2,
          1,
          null,
          1,
          null,
          1,
          1,
          null,
          1,
          null,
          null,
          1,
          1,
          1,
          1,
          1,
          2,
          1,
          1,
          1,
          2,
          1,
          1,
          1,
          null,
          null,
          1,
          1,
          1,
          null,
          1,
          2,
          1,
          1,
          1,
          2,
          1,
          1,
          null,
          null,
          null,
          1,
          null,
          1,
          1,
          null,
          null,
          null,
          1,
          2,
          1,
          5,
          null,
          1,
          1,
          1,
          1,
          null,
          1,
          null,
          1,
          1,
          null,
          1,
          1,
          null,
          null,
          null,
          1,
          null,
          1,
          1,
          2,
          1,
          null,
          null,
          1,
          1,
          1,
          null,
          null,
          1,
          1,
          null,
          2,
          null,
          1,
          null,
          1,
          null,
          1,
          1,
          1,
          1,
          null,
          null,
          2,
          1,
          1,
          null,
          1,
          1,
          1,
          1,
          1,
          1,
          1,
          1,
          null,
          null,
          1,
          1,
          1,
          1,
          1,
          1,
          null,
          null
         ]
        },
        {
         "box": {
          "visible": true
         },
         "fillcolor": "lightblue",
         "line": {
          "color": "blue"
         },
         "meanline": {
          "visible": true
         },
         "name": "Administración",
         "opacity": 0.7,
         "type": "violin",
         "visible": false,
         "y": [
          null,
          456000,
          null,
          null,
          134000,
          null,
          138000,
          151000,
          null,
          140000,
          185000,
          null,
          134000,
          235600,
          145000,
          null,
          null,
          160000,
          null,
          null,
          null,
          null,
          328500,
          null,
          null,
          null,
          null,
          null,
          null,
          null,
          306500,
          153000,
          281000,
          null,
          null,
          null,
          null,
          500000,
          null,
          null,
          null,
          null,
          null,
          190000,
          171000,
          null,
          null,
          null,
          190000,
          null,
          null,
          null,
          null,
          null,
          212400,
          null,
          220000,
          null,
          null,
          170000,
          250000,
          null,
          null,
          null,
          null,
          null,
          null,
          null,
          null,
          189100,
          null,
          167000,
          162500,
          null,
          null,
          175300,
          null,
          104000,
          null,
          null,
          null,
          null,
          97300,
          null,
          null,
          null,
          null,
          null,
          null,
          291693,
          233200,
          null,
          268950,
          466000,
          206400,
          380000,
          null,
          125000,
          null,
          150000,
          207500,
          187591,
          190000,
          330000,
          184000,
          196000,
          422000,
          null,
          218200,
          190000,
          null,
          null,
          242000,
          246000,
          207400,
          239500,
          210000,
          null,
          null,
          null
         ]
        },
        {
         "box": {
          "visible": true
         },
         "fillcolor": "lightblue",
         "line": {
          "color": "blue"
         },
         "meanline": {
          "visible": true
         },
         "name": "Cantidad de pisos",
         "opacity": 0.7,
         "type": "violin",
         "visible": false,
         "y": [
          null,
          null,
          null,
          null,
          null,
          null,
          null,
          null,
          null,
          null,
          null,
          null,
          null,
          null,
          null,
          null,
          null,
          null,
          null,
          null,
          null,
          15,
          null,
          null,
          null,
          null,
          null,
          3,
          8,
          null,
          null,
          null,
          null,
          null,
          null,
          null,
          null,
          null,
          null,
          null,
          null,
          null,
          null,
          null,
          null,
          null,
          null,
          null,
          null,
          null,
          null,
          null,
          null,
          null,
          5,
          null,
          null,
          null,
          null,
          null,
          null,
          null,
          null,
          null,
          null,
          null,
          null,
          null,
          null,
          null,
          null,
          null,
          null,
          null,
          null,
          null,
          null,
          null,
          null,
          null,
          3,
          4,
          null,
          null,
          null,
          null,
          7,
          null,
          null,
          null,
          null,
          9,
          null,
          null,
          null,
          null,
          null,
          null,
          null,
          null,
          null,
          null,
          null,
          null,
          null,
          null,
          null,
          null,
          null,
          null,
          null,
          null,
          null,
          null,
          null,
          null,
          null,
          null,
          null,
          null
         ]
        },
        {
         "box": {
          "visible": true
         },
         "fillcolor": "lightblue",
         "line": {
          "color": "blue"
         },
         "meanline": {
          "visible": true
         },
         "name": "Latitud",
         "opacity": 0.7,
         "type": "violin",
         "visible": false,
         "y": [
          4.4435743474833,
          4.3897289628639,
          4.4491471528864,
          4.4432817079147,
          4.4199241938459,
          4.4496067,
          4.4517669714068,
          4.3972882,
          4.4230877205406,
          4.4406673746246,
          4.4441996004139,
          4.4319257,
          4.4199241938459,
          4.4309793870922,
          4.4617480011795,
          4.4302462,
          4.4317549024315,
          4.432456370876,
          4.4483461,
          4.4416567,
          4.4527283,
          4.4426556,
          4.4062426959788,
          4.4389163,
          4.5805,
          4.4453177939481,
          4.4468313557957,
          4.4199215,
          4.451486,
          4.4059501941585,
          4.4435898,
          4.4311933224394,
          4.4062176,
          4.454062,
          4.4325493,
          4.4370692,
          4.4354689,
          4.434979,
          4.4470212,
          4.4493542183419,
          4.4189575,
          4.436722014544,
          4.4415602278174,
          4.4469263,
          4.4497190813049,
          4.4278904,
          4.4202018412393,
          4.4409932555375,
          4.4216570942606,
          4.4382063,
          4.4311275,
          4.441244,
          4.4188866,
          4.4506916,
          4.4476712356496,
          4.4395746120202,
          4.4176778354272,
          4.4250928,
          4.4496238451596,
          4.4216570942606,
          4.4322335,
          4.4265606,
          4.4365597386275,
          4.4466481,
          4.4375866219326,
          4.4475546,
          4.444676,
          4.447338,
          4.4164199,
          4.4199862026016,
          4.444676,
          4.4516024694949,
          4.4513286231022,
          4.4370011707642,
          4.4355673,
          4.45159,
          4.4187502,
          4.451919,
          4.4322335,
          4.4389163,
          4.4293682,
          4.390834,
          4.404815631174,
          4.4216524,
          4.4311275,
          4.4188866,
          4.44444,
          4.4409932555375,
          4.4434885,
          4.407550987977,
          4.4380822,
          4.4572585,
          4.4302563,
          4.4400254554759,
          4.4530625361833,
          4.4467302113487,
          4.450532821731,
          4.4265273,
          4.4548702337828,
          4.4418979691216,
          4.4323945348373,
          4.4217770752068,
          4.4474568,
          4.4078178,
          4.410013,
          4.426997513032,
          4.4457240673077,
          4.4365522,
          4.4466229116676,
          4.4101631822371,
          4.4422041636374,
          4.4489411746247,
          4.4402667986557,
          4.4458263531101,
          4.4286311083139,
          4.4255454,
          4.4461857,
          4.3924753677863,
          4.44108375555,
          4.4189575
         ]
        },
        {
         "box": {
          "visible": true
         },
         "fillcolor": "lightblue",
         "line": {
          "color": "blue"
         },
         "meanline": {
          "visible": true
         },
         "name": "Longitud",
         "opacity": 0.7,
         "type": "violin",
         "visible": false,
         "y": [
          -75.217651050068,
          -75.166443182526,
          -75.245538633621,
          -75.171347377531,
          -75.170624256134,
          -75.2480578,
          -75.141644787901,
          -75.146605,
          -75.176848187064,
          -75.198977311724,
          -75.1660849687,
          -75.1798906,
          -75.170624256134,
          -75.175495147705,
          -75.204420089722,
          -75.2409001,
          -75.181202888489,
          -75.181154588043,
          -75.1752578,
          -75.2055919,
          -75.1900626,
          -75.2044118,
          -75.168144225846,
          -75.1989264,
          -75.3754,
          -75.1638600047,
          -75.194155555523,
          -75.1706055,
          -75.141432,
          -75.168250966658,
          -75.1982539,
          -75.184507369995,
          -75.1681415,
          -75.2273097,
          -75.2092508,
          -75.2034429,
          -75.1782045,
          -75.1891849,
          -75.1529419,
          -75.246643949738,
          -75.1701309,
          -75.17269916072,
          -75.239811348122,
          -75.1549713,
          -75.143250853167,
          -75.1944134,
          -75.170597713745,
          -75.226097522809,
          -75.171632766724,
          -75.2167637,
          -75.1802893,
          -75.2012671,
          -75.1699607,
          -75.1975684,
          -75.210792609161,
          -75.228604956223,
          -75.17858505249,
          -75.1409698,
          -75.143888048647,
          -75.171632766724,
          -75.1769936,
          -75.1775612,
          -75.224654726503,
          -75.152505,
          -75.167863419215,
          -75.199221,
          -75.242438,
          -75.2018875,
          -75.14889,
          -75.17050171271,
          -75.242438,
          -75.142068903363,
          -75.145226838067,
          -75.206973832405,
          -75.2076206,
          -75.14192,
          -75.1698692,
          -75.1309956,
          -75.1769936,
          -75.1989264,
          -75.2123785,
          -75.1435111,
          -75.141540057957,
          -75.1715956,
          -75.1802893,
          -75.1699607,
          -75.2400164,
          -75.226097522809,
          -75.171384,
          -75.166782864913,
          -75.2164781,
          -75.2048613,
          -75.1969424,
          -75.199466720223,
          -75.203765630722,
          -75.188477039337,
          -75.14365196228,
          -75.1774323,
          -75.194254517555,
          -75.207027117622,
          -75.179664138705,
          -75.171541607904,
          -75.1527595,
          -75.1634725,
          -75.169859,
          -75.172644554492,
          -75.233808048069,
          -75.2055862,
          -75.172883514315,
          -75.170001983643,
          -75.193590779406,
          -75.244697690941,
          -75.205204440745,
          -75.188798904419,
          -75.179198272526,
          -75.1778643,
          -75.1548884,
          -75.140519142151,
          -75.222452029224,
          -75.1701309
         ]
        },
        {
         "box": {
          "visible": true
         },
         "fillcolor": "lightblue",
         "line": {
          "color": "blue"
         },
         "meanline": {
          "visible": true
         },
         "name": "Precio",
         "opacity": 0.7,
         "type": "violin",
         "visible": false,
         "y": [
          650000,
          1144000,
          3200000,
          1350000,
          616000,
          3000000,
          562000,
          900000,
          1850000,
          760000,
          615000,
          1450000,
          616000,
          1714400,
          793000,
          1270000,
          1900000,
          1140000,
          2200000,
          2500000,
          4750000,
          2100000,
          1671500,
          3500000,
          2200000,
          750000,
          1400000,
          1400000,
          650000,
          1600000,
          1073500,
          1047000,
          1719000,
          2200000,
          1600000,
          4500000,
          2000000,
          3100000,
          880000,
          1100000,
          1100000,
          1800000,
          700000,
          910000,
          529000,
          1400000,
          850000,
          3000000,
          1090000,
          1100000,
          1700000,
          4500000,
          1300000,
          8000000,
          1437600,
          1500000,
          2300000,
          1050000,
          600000,
          1130000,
          1750000,
          1250000,
          1350000,
          800000,
          800000,
          1720000,
          1200000,
          1000000,
          700000,
          972000,
          3000000,
          460000,
          587500,
          1950000,
          1600000,
          554700,
          1150000,
          446000,
          1700000,
          4000000,
          1800000,
          900000,
          402700,
          1200000,
          1500000,
          1150000,
          3200000,
          5000000,
          1300000,
          908307,
          1200000,
          1500000,
          1106756,
          2534000,
          980000,
          2400000,
          850000,
          625000,
          5500000,
          1550000,
          742500,
          972409,
          710000,
          789000,
          1140000,
          894000,
          1378000,
          1250000,
          950000,
          1300000,
          1200000,
          900000,
          1258000,
          1054000,
          1242600,
          1060500,
          762000,
          200000,
          900000,
          1000000
         ]
        }
       ],
       "layout": {
        "paper_bgcolor": "white",
        "plot_bgcolor": "white",
        "showlegend": false,
        "template": {
         "data": {
          "bar": [
           {
            "error_x": {
             "color": "#2a3f5f"
            },
            "error_y": {
             "color": "#2a3f5f"
            },
            "marker": {
             "line": {
              "color": "#E5ECF6",
              "width": 0.5
             },
             "pattern": {
              "fillmode": "overlay",
              "size": 10,
              "solidity": 0.2
             }
            },
            "type": "bar"
           }
          ],
          "barpolar": [
           {
            "marker": {
             "line": {
              "color": "#E5ECF6",
              "width": 0.5
             },
             "pattern": {
              "fillmode": "overlay",
              "size": 10,
              "solidity": 0.2
             }
            },
            "type": "barpolar"
           }
          ],
          "carpet": [
           {
            "aaxis": {
             "endlinecolor": "#2a3f5f",
             "gridcolor": "white",
             "linecolor": "white",
             "minorgridcolor": "white",
             "startlinecolor": "#2a3f5f"
            },
            "baxis": {
             "endlinecolor": "#2a3f5f",
             "gridcolor": "white",
             "linecolor": "white",
             "minorgridcolor": "white",
             "startlinecolor": "#2a3f5f"
            },
            "type": "carpet"
           }
          ],
          "choropleth": [
           {
            "colorbar": {
             "outlinewidth": 0,
             "ticks": ""
            },
            "type": "choropleth"
           }
          ],
          "contour": [
           {
            "colorbar": {
             "outlinewidth": 0,
             "ticks": ""
            },
            "colorscale": [
             [
              0,
              "#0d0887"
             ],
             [
              0.1111111111111111,
              "#46039f"
             ],
             [
              0.2222222222222222,
              "#7201a8"
             ],
             [
              0.3333333333333333,
              "#9c179e"
             ],
             [
              0.4444444444444444,
              "#bd3786"
             ],
             [
              0.5555555555555556,
              "#d8576b"
             ],
             [
              0.6666666666666666,
              "#ed7953"
             ],
             [
              0.7777777777777778,
              "#fb9f3a"
             ],
             [
              0.8888888888888888,
              "#fdca26"
             ],
             [
              1,
              "#f0f921"
             ]
            ],
            "type": "contour"
           }
          ],
          "contourcarpet": [
           {
            "colorbar": {
             "outlinewidth": 0,
             "ticks": ""
            },
            "type": "contourcarpet"
           }
          ],
          "heatmap": [
           {
            "colorbar": {
             "outlinewidth": 0,
             "ticks": ""
            },
            "colorscale": [
             [
              0,
              "#0d0887"
             ],
             [
              0.1111111111111111,
              "#46039f"
             ],
             [
              0.2222222222222222,
              "#7201a8"
             ],
             [
              0.3333333333333333,
              "#9c179e"
             ],
             [
              0.4444444444444444,
              "#bd3786"
             ],
             [
              0.5555555555555556,
              "#d8576b"
             ],
             [
              0.6666666666666666,
              "#ed7953"
             ],
             [
              0.7777777777777778,
              "#fb9f3a"
             ],
             [
              0.8888888888888888,
              "#fdca26"
             ],
             [
              1,
              "#f0f921"
             ]
            ],
            "type": "heatmap"
           }
          ],
          "heatmapgl": [
           {
            "colorbar": {
             "outlinewidth": 0,
             "ticks": ""
            },
            "colorscale": [
             [
              0,
              "#0d0887"
             ],
             [
              0.1111111111111111,
              "#46039f"
             ],
             [
              0.2222222222222222,
              "#7201a8"
             ],
             [
              0.3333333333333333,
              "#9c179e"
             ],
             [
              0.4444444444444444,
              "#bd3786"
             ],
             [
              0.5555555555555556,
              "#d8576b"
             ],
             [
              0.6666666666666666,
              "#ed7953"
             ],
             [
              0.7777777777777778,
              "#fb9f3a"
             ],
             [
              0.8888888888888888,
              "#fdca26"
             ],
             [
              1,
              "#f0f921"
             ]
            ],
            "type": "heatmapgl"
           }
          ],
          "histogram": [
           {
            "marker": {
             "pattern": {
              "fillmode": "overlay",
              "size": 10,
              "solidity": 0.2
             }
            },
            "type": "histogram"
           }
          ],
          "histogram2d": [
           {
            "colorbar": {
             "outlinewidth": 0,
             "ticks": ""
            },
            "colorscale": [
             [
              0,
              "#0d0887"
             ],
             [
              0.1111111111111111,
              "#46039f"
             ],
             [
              0.2222222222222222,
              "#7201a8"
             ],
             [
              0.3333333333333333,
              "#9c179e"
             ],
             [
              0.4444444444444444,
              "#bd3786"
             ],
             [
              0.5555555555555556,
              "#d8576b"
             ],
             [
              0.6666666666666666,
              "#ed7953"
             ],
             [
              0.7777777777777778,
              "#fb9f3a"
             ],
             [
              0.8888888888888888,
              "#fdca26"
             ],
             [
              1,
              "#f0f921"
             ]
            ],
            "type": "histogram2d"
           }
          ],
          "histogram2dcontour": [
           {
            "colorbar": {
             "outlinewidth": 0,
             "ticks": ""
            },
            "colorscale": [
             [
              0,
              "#0d0887"
             ],
             [
              0.1111111111111111,
              "#46039f"
             ],
             [
              0.2222222222222222,
              "#7201a8"
             ],
             [
              0.3333333333333333,
              "#9c179e"
             ],
             [
              0.4444444444444444,
              "#bd3786"
             ],
             [
              0.5555555555555556,
              "#d8576b"
             ],
             [
              0.6666666666666666,
              "#ed7953"
             ],
             [
              0.7777777777777778,
              "#fb9f3a"
             ],
             [
              0.8888888888888888,
              "#fdca26"
             ],
             [
              1,
              "#f0f921"
             ]
            ],
            "type": "histogram2dcontour"
           }
          ],
          "mesh3d": [
           {
            "colorbar": {
             "outlinewidth": 0,
             "ticks": ""
            },
            "type": "mesh3d"
           }
          ],
          "parcoords": [
           {
            "line": {
             "colorbar": {
              "outlinewidth": 0,
              "ticks": ""
             }
            },
            "type": "parcoords"
           }
          ],
          "pie": [
           {
            "automargin": true,
            "type": "pie"
           }
          ],
          "scatter": [
           {
            "fillpattern": {
             "fillmode": "overlay",
             "size": 10,
             "solidity": 0.2
            },
            "type": "scatter"
           }
          ],
          "scatter3d": [
           {
            "line": {
             "colorbar": {
              "outlinewidth": 0,
              "ticks": ""
             }
            },
            "marker": {
             "colorbar": {
              "outlinewidth": 0,
              "ticks": ""
             }
            },
            "type": "scatter3d"
           }
          ],
          "scattercarpet": [
           {
            "marker": {
             "colorbar": {
              "outlinewidth": 0,
              "ticks": ""
             }
            },
            "type": "scattercarpet"
           }
          ],
          "scattergeo": [
           {
            "marker": {
             "colorbar": {
              "outlinewidth": 0,
              "ticks": ""
             }
            },
            "type": "scattergeo"
           }
          ],
          "scattergl": [
           {
            "marker": {
             "colorbar": {
              "outlinewidth": 0,
              "ticks": ""
             }
            },
            "type": "scattergl"
           }
          ],
          "scattermapbox": [
           {
            "marker": {
             "colorbar": {
              "outlinewidth": 0,
              "ticks": ""
             }
            },
            "type": "scattermapbox"
           }
          ],
          "scatterpolar": [
           {
            "marker": {
             "colorbar": {
              "outlinewidth": 0,
              "ticks": ""
             }
            },
            "type": "scatterpolar"
           }
          ],
          "scatterpolargl": [
           {
            "marker": {
             "colorbar": {
              "outlinewidth": 0,
              "ticks": ""
             }
            },
            "type": "scatterpolargl"
           }
          ],
          "scatterternary": [
           {
            "marker": {
             "colorbar": {
              "outlinewidth": 0,
              "ticks": ""
             }
            },
            "type": "scatterternary"
           }
          ],
          "surface": [
           {
            "colorbar": {
             "outlinewidth": 0,
             "ticks": ""
            },
            "colorscale": [
             [
              0,
              "#0d0887"
             ],
             [
              0.1111111111111111,
              "#46039f"
             ],
             [
              0.2222222222222222,
              "#7201a8"
             ],
             [
              0.3333333333333333,
              "#9c179e"
             ],
             [
              0.4444444444444444,
              "#bd3786"
             ],
             [
              0.5555555555555556,
              "#d8576b"
             ],
             [
              0.6666666666666666,
              "#ed7953"
             ],
             [
              0.7777777777777778,
              "#fb9f3a"
             ],
             [
              0.8888888888888888,
              "#fdca26"
             ],
             [
              1,
              "#f0f921"
             ]
            ],
            "type": "surface"
           }
          ],
          "table": [
           {
            "cells": {
             "fill": {
              "color": "#EBF0F8"
             },
             "line": {
              "color": "white"
             }
            },
            "header": {
             "fill": {
              "color": "#C8D4E3"
             },
             "line": {
              "color": "white"
             }
            },
            "type": "table"
           }
          ]
         },
         "layout": {
          "annotationdefaults": {
           "arrowcolor": "#2a3f5f",
           "arrowhead": 0,
           "arrowwidth": 1
          },
          "autotypenumbers": "strict",
          "coloraxis": {
           "colorbar": {
            "outlinewidth": 0,
            "ticks": ""
           }
          },
          "colorscale": {
           "diverging": [
            [
             0,
             "#8e0152"
            ],
            [
             0.1,
             "#c51b7d"
            ],
            [
             0.2,
             "#de77ae"
            ],
            [
             0.3,
             "#f1b6da"
            ],
            [
             0.4,
             "#fde0ef"
            ],
            [
             0.5,
             "#f7f7f7"
            ],
            [
             0.6,
             "#e6f5d0"
            ],
            [
             0.7,
             "#b8e186"
            ],
            [
             0.8,
             "#7fbc41"
            ],
            [
             0.9,
             "#4d9221"
            ],
            [
             1,
             "#276419"
            ]
           ],
           "sequential": [
            [
             0,
             "#0d0887"
            ],
            [
             0.1111111111111111,
             "#46039f"
            ],
            [
             0.2222222222222222,
             "#7201a8"
            ],
            [
             0.3333333333333333,
             "#9c179e"
            ],
            [
             0.4444444444444444,
             "#bd3786"
            ],
            [
             0.5555555555555556,
             "#d8576b"
            ],
            [
             0.6666666666666666,
             "#ed7953"
            ],
            [
             0.7777777777777778,
             "#fb9f3a"
            ],
            [
             0.8888888888888888,
             "#fdca26"
            ],
            [
             1,
             "#f0f921"
            ]
           ],
           "sequentialminus": [
            [
             0,
             "#0d0887"
            ],
            [
             0.1111111111111111,
             "#46039f"
            ],
            [
             0.2222222222222222,
             "#7201a8"
            ],
            [
             0.3333333333333333,
             "#9c179e"
            ],
            [
             0.4444444444444444,
             "#bd3786"
            ],
            [
             0.5555555555555556,
             "#d8576b"
            ],
            [
             0.6666666666666666,
             "#ed7953"
            ],
            [
             0.7777777777777778,
             "#fb9f3a"
            ],
            [
             0.8888888888888888,
             "#fdca26"
            ],
            [
             1,
             "#f0f921"
            ]
           ]
          },
          "colorway": [
           "#636efa",
           "#EF553B",
           "#00cc96",
           "#ab63fa",
           "#FFA15A",
           "#19d3f3",
           "#FF6692",
           "#B6E880",
           "#FF97FF",
           "#FECB52"
          ],
          "font": {
           "color": "#2a3f5f"
          },
          "geo": {
           "bgcolor": "white",
           "lakecolor": "white",
           "landcolor": "#E5ECF6",
           "showlakes": true,
           "showland": true,
           "subunitcolor": "white"
          },
          "hoverlabel": {
           "align": "left"
          },
          "hovermode": "closest",
          "mapbox": {
           "style": "light"
          },
          "paper_bgcolor": "white",
          "plot_bgcolor": "#E5ECF6",
          "polar": {
           "angularaxis": {
            "gridcolor": "white",
            "linecolor": "white",
            "ticks": ""
           },
           "bgcolor": "#E5ECF6",
           "radialaxis": {
            "gridcolor": "white",
            "linecolor": "white",
            "ticks": ""
           }
          },
          "scene": {
           "xaxis": {
            "backgroundcolor": "#E5ECF6",
            "gridcolor": "white",
            "gridwidth": 2,
            "linecolor": "white",
            "showbackground": true,
            "ticks": "",
            "zerolinecolor": "white"
           },
           "yaxis": {
            "backgroundcolor": "#E5ECF6",
            "gridcolor": "white",
            "gridwidth": 2,
            "linecolor": "white",
            "showbackground": true,
            "ticks": "",
            "zerolinecolor": "white"
           },
           "zaxis": {
            "backgroundcolor": "#E5ECF6",
            "gridcolor": "white",
            "gridwidth": 2,
            "linecolor": "white",
            "showbackground": true,
            "ticks": "",
            "zerolinecolor": "white"
           }
          },
          "shapedefaults": {
           "line": {
            "color": "#2a3f5f"
           }
          },
          "ternary": {
           "aaxis": {
            "gridcolor": "white",
            "linecolor": "white",
            "ticks": ""
           },
           "baxis": {
            "gridcolor": "white",
            "linecolor": "white",
            "ticks": ""
           },
           "bgcolor": "#E5ECF6",
           "caxis": {
            "gridcolor": "white",
            "linecolor": "white",
            "ticks": ""
           }
          },
          "title": {
           "x": 0.05
          },
          "xaxis": {
           "automargin": true,
           "gridcolor": "white",
           "linecolor": "white",
           "ticks": "",
           "title": {
            "standoff": 15
           },
           "zerolinecolor": "white",
           "zerolinewidth": 2
          },
          "yaxis": {
           "automargin": true,
           "gridcolor": "white",
           "linecolor": "white",
           "ticks": "",
           "title": {
            "standoff": 15
           },
           "zerolinecolor": "white",
           "zerolinewidth": 2
          }
         }
        },
        "title": {
         "text": "Distribución de Área Construida (metros cuadrados)"
        },
        "updatemenus": [
         {
          "active": 0,
          "buttons": [
           {
            "args": [
             {
              "visible": [
               true,
               false,
               false,
               false,
               false,
               false,
               false,
               false,
               false,
               false
              ]
             },
             {
              "title": "Distribución de Área Construida (metros cuadrados) (diagrama de violín)"
             }
            ],
            "label": "Área Construida (metros cuadrados)",
            "method": "update"
           },
           {
            "args": [
             {
              "visible": [
               false,
               true,
               false,
               false,
               false,
               false,
               false,
               false,
               false,
               false
              ]
             },
             {
              "title": "Distribución de Área Privada (metros cuadrados) (diagrama de violín)"
             }
            ],
            "label": "Área Privada (metros cuadrados)",
            "method": "update"
           },
           {
            "args": [
             {
              "visible": [
               false,
               false,
               true,
               false,
               false,
               false,
               false,
               false,
               false,
               false
              ]
             },
             {
              "title": "Distribución de Habitaciones (diagrama de violín)"
             }
            ],
            "label": "Habitaciones",
            "method": "update"
           },
           {
            "args": [
             {
              "visible": [
               false,
               false,
               false,
               true,
               false,
               false,
               false,
               false,
               false,
               false
              ]
             },
             {
              "title": "Distribución de Baños (diagrama de violín)"
             }
            ],
            "label": "Baños",
            "method": "update"
           },
           {
            "args": [
             {
              "visible": [
               false,
               false,
               false,
               false,
               true,
               false,
               false,
               false,
               false,
               false
              ]
             },
             {
              "title": "Distribución de Parqueaderos (diagrama de violín)"
             }
            ],
            "label": "Parqueaderos",
            "method": "update"
           },
           {
            "args": [
             {
              "visible": [
               false,
               false,
               false,
               false,
               false,
               true,
               false,
               false,
               false,
               false
              ]
             },
             {
              "title": "Distribución de Administración (diagrama de violín)"
             }
            ],
            "label": "Administración",
            "method": "update"
           },
           {
            "args": [
             {
              "visible": [
               false,
               false,
               false,
               false,
               false,
               false,
               true,
               false,
               false,
               false
              ]
             },
             {
              "title": "Distribución de Cantidad de pisos (diagrama de violín)"
             }
            ],
            "label": "Cantidad de pisos",
            "method": "update"
           },
           {
            "args": [
             {
              "visible": [
               false,
               false,
               false,
               false,
               false,
               false,
               false,
               true,
               false,
               false
              ]
             },
             {
              "title": "Distribución de Latitud (diagrama de violín)"
             }
            ],
            "label": "Latitud",
            "method": "update"
           },
           {
            "args": [
             {
              "visible": [
               false,
               false,
               false,
               false,
               false,
               false,
               false,
               false,
               true,
               false
              ]
             },
             {
              "title": "Distribución de Longitud (diagrama de violín)"
             }
            ],
            "label": "Longitud",
            "method": "update"
           },
           {
            "args": [
             {
              "visible": [
               false,
               false,
               false,
               false,
               false,
               false,
               false,
               false,
               false,
               true
              ]
             },
             {
              "title": "Distribución de Precio (diagrama de violín)"
             }
            ],
            "label": "Precio",
            "method": "update"
           }
          ],
          "x": 1.15,
          "y": 1.15
         }
        ],
        "xaxis": {
         "showgrid": false,
         "showline": false,
         "zeroline": false
        },
        "yaxis": {
         "showgrid": true,
         "showline": false,
         "title": {
          "text": "Valor"
         },
         "zeroline": false
        }
       }
      }
     },
     "metadata": {},
     "output_type": "display_data"
    }
   ],
   "source": [
    "# creación de la figura\n",
    "fig = go.Figure()\n",
    "\n",
    "# adición del diagrama de violín para cada variable numérica\n",
    "for i, var in enumerate(variables_numericas):\n",
    "    fig.add_trace(\n",
    "        go.Violin(\n",
    "            y=datos_apartamentos[var],\n",
    "            name=var,\n",
    "            box_visible=True,\n",
    "            meanline_visible=True,\n",
    "            line_color='blue',\n",
    "            fillcolor='lightblue',\n",
    "            opacity=0.7,\n",
    "            visible=True if i == 0 else False\n",
    "        )\n",
    "    )\n",
    "\n",
    "# creación de los botones para la barra desplegable\n",
    "botones = []\n",
    "for i, var in enumerate(variables_numericas):\n",
    "    visibilidad = [False] * len(variables_numericas)\n",
    "    visibilidad[i] = True\n",
    "    botones.append(\n",
    "        dict(\n",
    "            label=var,\n",
    "            method=\"update\",\n",
    "            args=[{\"visible\": visibilidad},\n",
    "                  {\"title\": f\"Distribución de {var} (diagrama de violín)\"}]\n",
    "        )\n",
    "    )\n",
    "\n",
    "fig.update_layout(\n",
    "    updatemenus=[\n",
    "        dict(\n",
    "            active=0,\n",
    "            buttons=botones,\n",
    "            x=1.15,\n",
    "            y=1.15\n",
    "        )\n",
    "    ],\n",
    "    title=f\"Distribución de {variables_numericas[0]}\",\n",
    "    yaxis_title=\"Valor\",\n",
    "    showlegend=False,\n",
    "    plot_bgcolor='white', \n",
    "    paper_bgcolor='white',\n",
    "    xaxis=dict(showgrid=False, zeroline=False, showline=False),\n",
    "    yaxis=dict(showgrid=True, zeroline=False, showline=False)\n",
    ")\n",
    "\n",
    "# impresión del gráfico\n",
    "fig.show()"
   ]
  },
  {
   "cell_type": "markdown",
   "id": "0348da53",
   "metadata": {},
   "source": [
    "Se evidencia la presencia de valores atípicos (que ya serán revisados formalmente) en las variables de área (tanto construida como privada) y parqueaderos, latitud y longitud. También sucede con el precio, aunque es ese caso es un comportamiento esperado y se recomienda escalarla en vez de buscar algún tipo de imputación."
   ]
  },
  {
   "cell_type": "markdown",
   "id": "f27a5382",
   "metadata": {},
   "source": [
    "Ahora, se revisa la correlación entre variables mediante un mapa de calor de correlaciones y el uso de diagramas de dispersión entre variables:"
   ]
  },
  {
   "cell_type": "code",
   "execution_count": 10,
   "id": "a8ab9188",
   "metadata": {},
   "outputs": [
    {
     "data": {
      "image/png": "[encoded data removed]",
      "text/plain": [
       "<Figure size 1000x800 with 2 Axes>"
      ]
     },
     "metadata": {},
     "output_type": "display_data"
    },
    {
     "data": {
      "application/vnd.jupyter.widget-view+json": {
       "model_id": "7f1b69e5ee784df899fb293c624708e5",
       "version_major": 2,
       "version_minor": 0
      },
      "text/plain": [
       "interactive(children=(Dropdown(description='variable_x', options=('Área Construida (metros cuadrados)', 'Área …"
      ]
     },
     "metadata": {},
     "output_type": "display_data"
    },
    {
     "data": {
      "text/plain": [
       "<function __main__.<lambda>(variable_x, variable_y)>"
      ]
     },
     "execution_count": 10,
     "metadata": {},
     "output_type": "execute_result"
    }
   ],
   "source": [
    "###############\n",
    "# Mapa de calor\n",
    "###############\n",
    "\n",
    "# cálculo de la matriz de correlación\n",
    "matriz_correlacion = datos_apartamentos[variables_numericas].corr()\n",
    "\n",
    "# configuración del tamaño de la figura\n",
    "plt.figure(figsize=(10, 8))\n",
    "\n",
    "# generación del mapa de calor\n",
    "sns.heatmap(matriz_correlacion, annot=True, cmap='coolwarm', fmt=\".2f\", linewidths=0.5, square=True)\n",
    "\n",
    "plt.title('Mapa de calor de correlaciones entre variables numéricas')\n",
    "plt.show()\n",
    "\n",
    "#############################################\n",
    "# Diagrama de puntos interactivo\n",
    "#############################################\n",
    "\n",
    "# uso de interact para la creación de la visualización\n",
    "interact(\n",
    "    lambda variable_x, variable_y: go.Figure(\n",
    "        data=[\n",
    "            go.Scatter(\n",
    "                x=datos_apartamentos[variable_x],\n",
    "                y=datos_apartamentos[variable_y],\n",
    "                mode='markers',\n",
    "                marker=dict(color='rgba(99, 110, 250, 0.7)', size=8, line=dict(width=1, color='DarkSlateGrey'))\n",
    "            )\n",
    "        ],\n",
    "        layout=go.Layout(\n",
    "            title=dict(\n",
    "                text=f\"Diagrama de dispersión:<br>{variable_x} vs {variable_y}<br>Correlación lineal: {datos_apartamentos[variable_x].corr(datos_apartamentos[variable_y]):.2f}\",\n",
    "                x=0.5,\n",
    "                xanchor='center'\n",
    "            ),\n",
    "            xaxis_title=variable_x,\n",
    "            yaxis_title=variable_y,\n",
    "            plot_bgcolor='white',\n",
    "            paper_bgcolor='white'\n",
    "        )\n",
    "    ).show(),\n",
    "    variable_x=variables_numericas,\n",
    "    variable_y=variables_numericas\n",
    ")"
   ]
  },
  {
   "cell_type": "markdown",
   "id": "01325812",
   "metadata": {},
   "source": [
    "Contrario a lo esperado, la correlación entre el área construida y el área privada no es tan alta. Esto se debe a la presencia de valores atípicos influyentes que cambian la correlación. Se concluye, entonces, que se puede eliminar área privada, que es la variable con más valores faltantes, pero es necesario realizar un tratamiento a los valores atípicos del área construida.\n",
    "\n",
    "En general, la presencia de valores atípicos tiene efectos notables en la determinación de correlaciones entre variables. De ahí que muchas correlaciones sean más bien bajas. Algunas correlaciones altas son engañosas, como en el caso de cantidad de pisos y administración, pues se trata de muy pocos datos. La relación de administración con las áreas es extraña, ya que graficamente no se refleja lo mismo que el cálculo de correlación."
   ]
  },
  {
   "cell_type": "markdown",
   "id": "f428bf12",
   "metadata": {},
   "source": [
    "Con respecto a las coordenadas geográficas, se requiere una revisión adicional desde el punto de vista geográfico. La siguiente es la graficación de los puntos en el mapa:"
   ]
  },
  {
   "cell_type": "code",
   "execution_count": 11,
   "id": "fdaee648",
   "metadata": {},
   "outputs": [
    {
     "data": {
      "text/html": [
       "<div style=\"width:100%;\"><div style=\"position:relative;width:100%;height:0;padding-bottom:60%;\"><span style=\"color:#565656\">Make this Notebook Trusted to load map: File -> Trust Notebook</span><iframe srcdoc=\"&lt;!DOCTYPE html&gt;\n",
       "&lt;html&gt;\n",
       "&lt;head&gt;\n",
       "    \n",
       "    &lt;meta http-equiv=&quot;content-type&quot; content=&quot;text/html; charset=UTF-8&quot; /&gt;\n",
       "    &lt;script src=&quot;https://cdn.jsdelivr.net/npm/leaflet@1.9.3/dist/leaflet.js&quot;&gt;&lt;/script&gt;\n",
       "    &lt;script src=&quot;https://code.jquery.com/jquery-3.7.1.min.js&quot;&gt;&lt;/script&gt;\n",
       "    &lt;script src=&quot;https://cdn.jsdelivr.net/npm/bootstrap@5.2.2/dist/js/bootstrap.bundle.min.js&quot;&gt;&lt;/script&gt;\n",
       "    &lt;script src=&quot;https://cdnjs.cloudflare.com/ajax/libs/Leaflet.awesome-markers/2.0.2/leaflet.awesome-markers.js&quot;&gt;&lt;/script&gt;\n",
       "    &lt;link rel=&quot;stylesheet&quot; href=&quot;https://cdn.jsdelivr.net/npm/leaflet@1.9.3/dist/leaflet.css&quot;/&gt;\n",
       "    &lt;link rel=&quot;stylesheet&quot; href=&quot;https://cdn.jsdelivr.net/npm/bootstrap@5.2.2/dist/css/bootstrap.min.css&quot;/&gt;\n",
       "    &lt;link rel=&quot;stylesheet&quot; href=&quot;https://netdna.bootstrapcdn.com/bootstrap/3.0.0/css/bootstrap-glyphicons.css&quot;/&gt;\n",
       "    &lt;link rel=&quot;stylesheet&quot; href=&quot;https://cdn.jsdelivr.net/npm/@fortawesome/fontawesome-free@6.2.0/css/all.min.css&quot;/&gt;\n",
       "    &lt;link rel=&quot;stylesheet&quot; href=&quot;https://cdnjs.cloudflare.com/ajax/libs/Leaflet.awesome-markers/2.0.2/leaflet.awesome-markers.css&quot;/&gt;\n",
       "    &lt;link rel=&quot;stylesheet&quot; href=&quot;https://cdn.jsdelivr.net/gh/python-visualization/folium/folium/templates/leaflet.awesome.rotate.min.css&quot;/&gt;\n",
       "    \n",
       "            &lt;meta name=&quot;viewport&quot; content=&quot;width=device-width,\n",
       "                initial-scale=1.0, maximum-scale=1.0, user-scalable=no&quot; /&gt;\n",
       "            &lt;style&gt;\n",
       "                #map_6c285c78858decbf900c2b4189855eba {\n",
       "                    position: relative;\n",
       "                    width: 100.0%;\n",
       "                    height: 100.0%;\n",
       "                    left: 0.0%;\n",
       "                    top: 0.0%;\n",
       "                }\n",
       "                .leaflet-container { font-size: 1rem; }\n",
       "            &lt;/style&gt;\n",
       "\n",
       "            &lt;style&gt;html, body {\n",
       "                width: 100%;\n",
       "                height: 100%;\n",
       "                margin: 0;\n",
       "                padding: 0;\n",
       "            }\n",
       "            &lt;/style&gt;\n",
       "\n",
       "            &lt;style&gt;#map {\n",
       "                position:absolute;\n",
       "                top:0;\n",
       "                bottom:0;\n",
       "                right:0;\n",
       "                left:0;\n",
       "                }\n",
       "            &lt;/style&gt;\n",
       "\n",
       "            &lt;script&gt;\n",
       "                L_NO_TOUCH = false;\n",
       "                L_DISABLE_3D = false;\n",
       "            &lt;/script&gt;\n",
       "\n",
       "        \n",
       "&lt;/head&gt;\n",
       "&lt;body&gt;\n",
       "    \n",
       "    \n",
       "            &lt;div class=&quot;folium-map&quot; id=&quot;map_6c285c78858decbf900c2b4189855eba&quot; &gt;&lt;/div&gt;\n",
       "        \n",
       "&lt;/body&gt;\n",
       "&lt;script&gt;\n",
       "    \n",
       "    \n",
       "            var map_6c285c78858decbf900c2b4189855eba = L.map(\n",
       "                &quot;map_6c285c78858decbf900c2b4189855eba&quot;,\n",
       "                {\n",
       "                    center: [4.438889, -75.232222],\n",
       "                    crs: L.CRS.EPSG3857,\n",
       "                    ...{\n",
       "  &quot;zoom&quot;: 12,\n",
       "  &quot;zoomControl&quot;: true,\n",
       "  &quot;preferCanvas&quot;: false,\n",
       "}\n",
       "\n",
       "                }\n",
       "            );\n",
       "\n",
       "            \n",
       "\n",
       "        \n",
       "    \n",
       "            var tile_layer_eb75b5376c918e6c670c9777a639ab96 = L.tileLayer(\n",
       "                &quot;https://{s}.basemaps.cartocdn.com/light_all/{z}/{x}/{y}{r}.png&quot;,\n",
       "                {\n",
       "  &quot;minZoom&quot;: 0,\n",
       "  &quot;maxZoom&quot;: 20,\n",
       "  &quot;maxNativeZoom&quot;: 20,\n",
       "  &quot;noWrap&quot;: false,\n",
       "  &quot;attribution&quot;: &quot;\\u0026copy; \\u003ca href=\\&quot;https://www.openstreetmap.org/copyright\\&quot;\\u003eOpenStreetMap\\u003c/a\\u003e contributors \\u0026copy; \\u003ca href=\\&quot;https://carto.com/attributions\\&quot;\\u003eCARTO\\u003c/a\\u003e&quot;,\n",
       "  &quot;subdomains&quot;: &quot;abcd&quot;,\n",
       "  &quot;detectRetina&quot;: false,\n",
       "  &quot;tms&quot;: false,\n",
       "  &quot;opacity&quot;: 1,\n",
       "}\n",
       "\n",
       "            );\n",
       "        \n",
       "    \n",
       "            tile_layer_eb75b5376c918e6c670c9777a639ab96.addTo(map_6c285c78858decbf900c2b4189855eba);\n",
       "        \n",
       "    \n",
       "            var circle_marker_2b5a910299dea69c7458cb6319c81039 = L.circleMarker(\n",
       "                [4.4435743474833, -75.217651050068],\n",
       "                {&quot;bubblingMouseEvents&quot;: true, &quot;color&quot;: &quot;blue&quot;, &quot;dashArray&quot;: null, &quot;dashOffset&quot;: null, &quot;fill&quot;: true, &quot;fillColor&quot;: &quot;blue&quot;, &quot;fillOpacity&quot;: 0.6, &quot;fillRule&quot;: &quot;evenodd&quot;, &quot;lineCap&quot;: &quot;round&quot;, &quot;lineJoin&quot;: &quot;round&quot;, &quot;opacity&quot;: 1.0, &quot;radius&quot;: 4, &quot;stroke&quot;: true, &quot;weight&quot;: 3}\n",
       "            ).addTo(map_6c285c78858decbf900c2b4189855eba);\n",
       "        \n",
       "    \n",
       "        var popup_b53a4073d8ebb3978f3f6440626b5f19 = L.popup({\n",
       "  &quot;maxWidth&quot;: &quot;100%&quot;,\n",
       "});\n",
       "\n",
       "        \n",
       "            \n",
       "                var html_34f5cd0f24d0bde574781d2c4a1d3ac3 = $(`&lt;div id=&quot;html_34f5cd0f24d0bde574781d2c4a1d3ac3&quot; style=&quot;width: 100.0%; height: 100.0%;&quot;&gt;Precio: 650,000&lt;/div&gt;`)[0];\n",
       "                popup_b53a4073d8ebb3978f3f6440626b5f19.setContent(html_34f5cd0f24d0bde574781d2c4a1d3ac3);\n",
       "            \n",
       "        \n",
       "\n",
       "        circle_marker_2b5a910299dea69c7458cb6319c81039.bindPopup(popup_b53a4073d8ebb3978f3f6440626b5f19)\n",
       "        ;\n",
       "\n",
       "        \n",
       "    \n",
       "    \n",
       "            var circle_marker_8d50ad2a4507a3161c9d7b917585b8c4 = L.circleMarker(\n",
       "                [4.3897289628639, -75.166443182526],\n",
       "                {&quot;bubblingMouseEvents&quot;: true, &quot;color&quot;: &quot;blue&quot;, &quot;dashArray&quot;: null, &quot;dashOffset&quot;: null, &quot;fill&quot;: true, &quot;fillColor&quot;: &quot;blue&quot;, &quot;fillOpacity&quot;: 0.6, &quot;fillRule&quot;: &quot;evenodd&quot;, &quot;lineCap&quot;: &quot;round&quot;, &quot;lineJoin&quot;: &quot;round&quot;, &quot;opacity&quot;: 1.0, &quot;radius&quot;: 4, &quot;stroke&quot;: true, &quot;weight&quot;: 3}\n",
       "            ).addTo(map_6c285c78858decbf900c2b4189855eba);\n",
       "        \n",
       "    \n",
       "        var popup_df8d6610456a384d63fcd3c04930e135 = L.popup({\n",
       "  &quot;maxWidth&quot;: &quot;100%&quot;,\n",
       "});\n",
       "\n",
       "        \n",
       "            \n",
       "                var html_060768263a8e6aa4717ee6b575eccf59 = $(`&lt;div id=&quot;html_060768263a8e6aa4717ee6b575eccf59&quot; style=&quot;width: 100.0%; height: 100.0%;&quot;&gt;Precio: 1,144,000&lt;/div&gt;`)[0];\n",
       "                popup_df8d6610456a384d63fcd3c04930e135.setContent(html_060768263a8e6aa4717ee6b575eccf59);\n",
       "            \n",
       "        \n",
       "\n",
       "        circle_marker_8d50ad2a4507a3161c9d7b917585b8c4.bindPopup(popup_df8d6610456a384d63fcd3c04930e135)\n",
       "        ;\n",
       "\n",
       "        \n",
       "    \n",
       "    \n",
       "            var circle_marker_7ae6b9df356e3073b7a955b7976dc1c5 = L.circleMarker(\n",
       "                [4.4491471528864, -75.245538633621],\n",
       "                {&quot;bubblingMouseEvents&quot;: true, &quot;color&quot;: &quot;blue&quot;, &quot;dashArray&quot;: null, &quot;dashOffset&quot;: null, &quot;fill&quot;: true, &quot;fillColor&quot;: &quot;blue&quot;, &quot;fillOpacity&quot;: 0.6, &quot;fillRule&quot;: &quot;evenodd&quot;, &quot;lineCap&quot;: &quot;round&quot;, &quot;lineJoin&quot;: &quot;round&quot;, &quot;opacity&quot;: 1.0, &quot;radius&quot;: 4, &quot;stroke&quot;: true, &quot;weight&quot;: 3}\n",
       "            ).addTo(map_6c285c78858decbf900c2b4189855eba);\n",
       "        \n",
       "    \n",
       "        var popup_89294e52521a0b7455bdb9a72e583154 = L.popup({\n",
       "  &quot;maxWidth&quot;: &quot;100%&quot;,\n",
       "});\n",
       "\n",
       "        \n",
       "            \n",
       "                var html_b17aee817eaabcec72db818b8c1457c5 = $(`&lt;div id=&quot;html_b17aee817eaabcec72db818b8c1457c5&quot; style=&quot;width: 100.0%; height: 100.0%;&quot;&gt;Precio: 3,200,000&lt;/div&gt;`)[0];\n",
       "                popup_89294e52521a0b7455bdb9a72e583154.setContent(html_b17aee817eaabcec72db818b8c1457c5);\n",
       "            \n",
       "        \n",
       "\n",
       "        circle_marker_7ae6b9df356e3073b7a955b7976dc1c5.bindPopup(popup_89294e52521a0b7455bdb9a72e583154)\n",
       "        ;\n",
       "\n",
       "        \n",
       "    \n",
       "    \n",
       "            var circle_marker_f3e80a3adc2cdb65a0f89a2b8d1400fd = L.circleMarker(\n",
       "                [4.4432817079147, -75.171347377531],\n",
       "                {&quot;bubblingMouseEvents&quot;: true, &quot;color&quot;: &quot;blue&quot;, &quot;dashArray&quot;: null, &quot;dashOffset&quot;: null, &quot;fill&quot;: true, &quot;fillColor&quot;: &quot;blue&quot;, &quot;fillOpacity&quot;: 0.6, &quot;fillRule&quot;: &quot;evenodd&quot;, &quot;lineCap&quot;: &quot;round&quot;, &quot;lineJoin&quot;: &quot;round&quot;, &quot;opacity&quot;: 1.0, &quot;radius&quot;: 4, &quot;stroke&quot;: true, &quot;weight&quot;: 3}\n",
       "            ).addTo(map_6c285c78858decbf900c2b4189855eba);\n",
       "        \n",
       "    \n",
       "        var popup_087297315b8659a5630c92f2e08f6238 = L.popup({\n",
       "  &quot;maxWidth&quot;: &quot;100%&quot;,\n",
       "});\n",
       "\n",
       "        \n",
       "            \n",
       "                var html_751bb9874fce780e9d07e0fbcbde42f5 = $(`&lt;div id=&quot;html_751bb9874fce780e9d07e0fbcbde42f5&quot; style=&quot;width: 100.0%; height: 100.0%;&quot;&gt;Precio: 1,350,000&lt;/div&gt;`)[0];\n",
       "                popup_087297315b8659a5630c92f2e08f6238.setContent(html_751bb9874fce780e9d07e0fbcbde42f5);\n",
       "            \n",
       "        \n",
       "\n",
       "        circle_marker_f3e80a3adc2cdb65a0f89a2b8d1400fd.bindPopup(popup_087297315b8659a5630c92f2e08f6238)\n",
       "        ;\n",
       "\n",
       "        \n",
       "    \n",
       "    \n",
       "            var circle_marker_a06ddb940b830591588ab13bc10f717f = L.circleMarker(\n",
       "                [4.4199241938459, -75.170624256134],\n",
       "                {&quot;bubblingMouseEvents&quot;: true, &quot;color&quot;: &quot;blue&quot;, &quot;dashArray&quot;: null, &quot;dashOffset&quot;: null, &quot;fill&quot;: true, &quot;fillColor&quot;: &quot;blue&quot;, &quot;fillOpacity&quot;: 0.6, &quot;fillRule&quot;: &quot;evenodd&quot;, &quot;lineCap&quot;: &quot;round&quot;, &quot;lineJoin&quot;: &quot;round&quot;, &quot;opacity&quot;: 1.0, &quot;radius&quot;: 4, &quot;stroke&quot;: true, &quot;weight&quot;: 3}\n",
       "            ).addTo(map_6c285c78858decbf900c2b4189855eba);\n",
       "        \n",
       "    \n",
       "        var popup_df1c37ce833b8e1afc30824f27558047 = L.popup({\n",
       "  &quot;maxWidth&quot;: &quot;100%&quot;,\n",
       "});\n",
       "\n",
       "        \n",
       "            \n",
       "                var html_15d4a4f11468073fd83c2352241bac24 = $(`&lt;div id=&quot;html_15d4a4f11468073fd83c2352241bac24&quot; style=&quot;width: 100.0%; height: 100.0%;&quot;&gt;Precio: 616,000&lt;/div&gt;`)[0];\n",
       "                popup_df1c37ce833b8e1afc30824f27558047.setContent(html_15d4a4f11468073fd83c2352241bac24);\n",
       "            \n",
       "        \n",
       "\n",
       "        circle_marker_a06ddb940b830591588ab13bc10f717f.bindPopup(popup_df1c37ce833b8e1afc30824f27558047)\n",
       "        ;\n",
       "\n",
       "        \n",
       "    \n",
       "    \n",
       "            var circle_marker_96f4e9ee0f20c5fa61b27607f976f877 = L.circleMarker(\n",
       "                [4.4496067, -75.2480578],\n",
       "                {&quot;bubblingMouseEvents&quot;: true, &quot;color&quot;: &quot;blue&quot;, &quot;dashArray&quot;: null, &quot;dashOffset&quot;: null, &quot;fill&quot;: true, &quot;fillColor&quot;: &quot;blue&quot;, &quot;fillOpacity&quot;: 0.6, &quot;fillRule&quot;: &quot;evenodd&quot;, &quot;lineCap&quot;: &quot;round&quot;, &quot;lineJoin&quot;: &quot;round&quot;, &quot;opacity&quot;: 1.0, &quot;radius&quot;: 4, &quot;stroke&quot;: true, &quot;weight&quot;: 3}\n",
       "            ).addTo(map_6c285c78858decbf900c2b4189855eba);\n",
       "        \n",
       "    \n",
       "        var popup_48b39604953cbdb6f6218b997eaae5dd = L.popup({\n",
       "  &quot;maxWidth&quot;: &quot;100%&quot;,\n",
       "});\n",
       "\n",
       "        \n",
       "            \n",
       "                var html_44dbbdb5b1ad8e425744a6faba28dfa8 = $(`&lt;div id=&quot;html_44dbbdb5b1ad8e425744a6faba28dfa8&quot; style=&quot;width: 100.0%; height: 100.0%;&quot;&gt;Precio: 3,000,000&lt;/div&gt;`)[0];\n",
       "                popup_48b39604953cbdb6f6218b997eaae5dd.setContent(html_44dbbdb5b1ad8e425744a6faba28dfa8);\n",
       "            \n",
       "        \n",
       "\n",
       "        circle_marker_96f4e9ee0f20c5fa61b27607f976f877.bindPopup(popup_48b39604953cbdb6f6218b997eaae5dd)\n",
       "        ;\n",
       "\n",
       "        \n",
       "    \n",
       "    \n",
       "            var circle_marker_3590ca389e53884e9137680e2aa55dc4 = L.circleMarker(\n",
       "                [4.4517669714068, -75.141644787901],\n",
       "                {&quot;bubblingMouseEvents&quot;: true, &quot;color&quot;: &quot;blue&quot;, &quot;dashArray&quot;: null, &quot;dashOffset&quot;: null, &quot;fill&quot;: true, &quot;fillColor&quot;: &quot;blue&quot;, &quot;fillOpacity&quot;: 0.6, &quot;fillRule&quot;: &quot;evenodd&quot;, &quot;lineCap&quot;: &quot;round&quot;, &quot;lineJoin&quot;: &quot;round&quot;, &quot;opacity&quot;: 1.0, &quot;radius&quot;: 4, &quot;stroke&quot;: true, &quot;weight&quot;: 3}\n",
       "            ).addTo(map_6c285c78858decbf900c2b4189855eba);\n",
       "        \n",
       "    \n",
       "        var popup_4d1d2f5563b01d601decbb4f220e29d0 = L.popup({\n",
       "  &quot;maxWidth&quot;: &quot;100%&quot;,\n",
       "});\n",
       "\n",
       "        \n",
       "            \n",
       "                var html_2dae060fe548b3c7fa9803d89afe347d = $(`&lt;div id=&quot;html_2dae060fe548b3c7fa9803d89afe347d&quot; style=&quot;width: 100.0%; height: 100.0%;&quot;&gt;Precio: 562,000&lt;/div&gt;`)[0];\n",
       "                popup_4d1d2f5563b01d601decbb4f220e29d0.setContent(html_2dae060fe548b3c7fa9803d89afe347d);\n",
       "            \n",
       "        \n",
       "\n",
       "        circle_marker_3590ca389e53884e9137680e2aa55dc4.bindPopup(popup_4d1d2f5563b01d601decbb4f220e29d0)\n",
       "        ;\n",
       "\n",
       "        \n",
       "    \n",
       "    \n",
       "            var circle_marker_71a68da920b25e0ed52af4f4f1931d05 = L.circleMarker(\n",
       "                [4.3972882, -75.146605],\n",
       "                {&quot;bubblingMouseEvents&quot;: true, &quot;color&quot;: &quot;blue&quot;, &quot;dashArray&quot;: null, &quot;dashOffset&quot;: null, &quot;fill&quot;: true, &quot;fillColor&quot;: &quot;blue&quot;, &quot;fillOpacity&quot;: 0.6, &quot;fillRule&quot;: &quot;evenodd&quot;, &quot;lineCap&quot;: &quot;round&quot;, &quot;lineJoin&quot;: &quot;round&quot;, &quot;opacity&quot;: 1.0, &quot;radius&quot;: 4, &quot;stroke&quot;: true, &quot;weight&quot;: 3}\n",
       "            ).addTo(map_6c285c78858decbf900c2b4189855eba);\n",
       "        \n",
       "    \n",
       "        var popup_2f9053edef46fb7714463e376ee4df16 = L.popup({\n",
       "  &quot;maxWidth&quot;: &quot;100%&quot;,\n",
       "});\n",
       "\n",
       "        \n",
       "            \n",
       "                var html_e01a38715a68b160fe031b9e95f47f64 = $(`&lt;div id=&quot;html_e01a38715a68b160fe031b9e95f47f64&quot; style=&quot;width: 100.0%; height: 100.0%;&quot;&gt;Precio: 900,000&lt;/div&gt;`)[0];\n",
       "                popup_2f9053edef46fb7714463e376ee4df16.setContent(html_e01a38715a68b160fe031b9e95f47f64);\n",
       "            \n",
       "        \n",
       "\n",
       "        circle_marker_71a68da920b25e0ed52af4f4f1931d05.bindPopup(popup_2f9053edef46fb7714463e376ee4df16)\n",
       "        ;\n",
       "\n",
       "        \n",
       "    \n",
       "    \n",
       "            var circle_marker_87b0baea1dc46e8c15beace35c2670a0 = L.circleMarker(\n",
       "                [4.4230877205406, -75.176848187064],\n",
       "                {&quot;bubblingMouseEvents&quot;: true, &quot;color&quot;: &quot;blue&quot;, &quot;dashArray&quot;: null, &quot;dashOffset&quot;: null, &quot;fill&quot;: true, &quot;fillColor&quot;: &quot;blue&quot;, &quot;fillOpacity&quot;: 0.6, &quot;fillRule&quot;: &quot;evenodd&quot;, &quot;lineCap&quot;: &quot;round&quot;, &quot;lineJoin&quot;: &quot;round&quot;, &quot;opacity&quot;: 1.0, &quot;radius&quot;: 4, &quot;stroke&quot;: true, &quot;weight&quot;: 3}\n",
       "            ).addTo(map_6c285c78858decbf900c2b4189855eba);\n",
       "        \n",
       "    \n",
       "        var popup_8728bc76c8498a962504a07fb9055513 = L.popup({\n",
       "  &quot;maxWidth&quot;: &quot;100%&quot;,\n",
       "});\n",
       "\n",
       "        \n",
       "            \n",
       "                var html_09111855a7e00d4e0bff5008e4139476 = $(`&lt;div id=&quot;html_09111855a7e00d4e0bff5008e4139476&quot; style=&quot;width: 100.0%; height: 100.0%;&quot;&gt;Precio: 1,850,000&lt;/div&gt;`)[0];\n",
       "                popup_8728bc76c8498a962504a07fb9055513.setContent(html_09111855a7e00d4e0bff5008e4139476);\n",
       "            \n",
       "        \n",
       "\n",
       "        circle_marker_87b0baea1dc46e8c15beace35c2670a0.bindPopup(popup_8728bc76c8498a962504a07fb9055513)\n",
       "        ;\n",
       "\n",
       "        \n",
       "    \n",
       "    \n",
       "            var circle_marker_9f00db8df022c7133280a93fc5b0124e = L.circleMarker(\n",
       "                [4.4406673746246, -75.198977311724],\n",
       "                {&quot;bubblingMouseEvents&quot;: true, &quot;color&quot;: &quot;blue&quot;, &quot;dashArray&quot;: null, &quot;dashOffset&quot;: null, &quot;fill&quot;: true, &quot;fillColor&quot;: &quot;blue&quot;, &quot;fillOpacity&quot;: 0.6, &quot;fillRule&quot;: &quot;evenodd&quot;, &quot;lineCap&quot;: &quot;round&quot;, &quot;lineJoin&quot;: &quot;round&quot;, &quot;opacity&quot;: 1.0, &quot;radius&quot;: 4, &quot;stroke&quot;: true, &quot;weight&quot;: 3}\n",
       "            ).addTo(map_6c285c78858decbf900c2b4189855eba);\n",
       "        \n",
       "    \n",
       "        var popup_9c236d33d86d1041af4024a2cc553d8d = L.popup({\n",
       "  &quot;maxWidth&quot;: &quot;100%&quot;,\n",
       "});\n",
       "\n",
       "        \n",
       "            \n",
       "                var html_3f9113a4ac06f468f43c39c8ee2d9d75 = $(`&lt;div id=&quot;html_3f9113a4ac06f468f43c39c8ee2d9d75&quot; style=&quot;width: 100.0%; height: 100.0%;&quot;&gt;Precio: 760,000&lt;/div&gt;`)[0];\n",
       "                popup_9c236d33d86d1041af4024a2cc553d8d.setContent(html_3f9113a4ac06f468f43c39c8ee2d9d75);\n",
       "            \n",
       "        \n",
       "\n",
       "        circle_marker_9f00db8df022c7133280a93fc5b0124e.bindPopup(popup_9c236d33d86d1041af4024a2cc553d8d)\n",
       "        ;\n",
       "\n",
       "        \n",
       "    \n",
       "    \n",
       "            var circle_marker_28fc09f431205c71cc4e47082fa817bf = L.circleMarker(\n",
       "                [4.4441996004139, -75.1660849687],\n",
       "                {&quot;bubblingMouseEvents&quot;: true, &quot;color&quot;: &quot;blue&quot;, &quot;dashArray&quot;: null, &quot;dashOffset&quot;: null, &quot;fill&quot;: true, &quot;fillColor&quot;: &quot;blue&quot;, &quot;fillOpacity&quot;: 0.6, &quot;fillRule&quot;: &quot;evenodd&quot;, &quot;lineCap&quot;: &quot;round&quot;, &quot;lineJoin&quot;: &quot;round&quot;, &quot;opacity&quot;: 1.0, &quot;radius&quot;: 4, &quot;stroke&quot;: true, &quot;weight&quot;: 3}\n",
       "            ).addTo(map_6c285c78858decbf900c2b4189855eba);\n",
       "        \n",
       "    \n",
       "        var popup_7c84731692cad949af539c5612841752 = L.popup({\n",
       "  &quot;maxWidth&quot;: &quot;100%&quot;,\n",
       "});\n",
       "\n",
       "        \n",
       "            \n",
       "                var html_c2a9c6129e69938d60ef819350ff8a41 = $(`&lt;div id=&quot;html_c2a9c6129e69938d60ef819350ff8a41&quot; style=&quot;width: 100.0%; height: 100.0%;&quot;&gt;Precio: 615,000&lt;/div&gt;`)[0];\n",
       "                popup_7c84731692cad949af539c5612841752.setContent(html_c2a9c6129e69938d60ef819350ff8a41);\n",
       "            \n",
       "        \n",
       "\n",
       "        circle_marker_28fc09f431205c71cc4e47082fa817bf.bindPopup(popup_7c84731692cad949af539c5612841752)\n",
       "        ;\n",
       "\n",
       "        \n",
       "    \n",
       "    \n",
       "            var circle_marker_89701befcef639bd8b01d15d93dc017d = L.circleMarker(\n",
       "                [4.4319257, -75.1798906],\n",
       "                {&quot;bubblingMouseEvents&quot;: true, &quot;color&quot;: &quot;blue&quot;, &quot;dashArray&quot;: null, &quot;dashOffset&quot;: null, &quot;fill&quot;: true, &quot;fillColor&quot;: &quot;blue&quot;, &quot;fillOpacity&quot;: 0.6, &quot;fillRule&quot;: &quot;evenodd&quot;, &quot;lineCap&quot;: &quot;round&quot;, &quot;lineJoin&quot;: &quot;round&quot;, &quot;opacity&quot;: 1.0, &quot;radius&quot;: 4, &quot;stroke&quot;: true, &quot;weight&quot;: 3}\n",
       "            ).addTo(map_6c285c78858decbf900c2b4189855eba);\n",
       "        \n",
       "    \n",
       "        var popup_59cec90a06afa5c958745a8a97deec96 = L.popup({\n",
       "  &quot;maxWidth&quot;: &quot;100%&quot;,\n",
       "});\n",
       "\n",
       "        \n",
       "            \n",
       "                var html_310e84f4a0f1c2d6ac8f0f91530c5f1b = $(`&lt;div id=&quot;html_310e84f4a0f1c2d6ac8f0f91530c5f1b&quot; style=&quot;width: 100.0%; height: 100.0%;&quot;&gt;Precio: 1,450,000&lt;/div&gt;`)[0];\n",
       "                popup_59cec90a06afa5c958745a8a97deec96.setContent(html_310e84f4a0f1c2d6ac8f0f91530c5f1b);\n",
       "            \n",
       "        \n",
       "\n",
       "        circle_marker_89701befcef639bd8b01d15d93dc017d.bindPopup(popup_59cec90a06afa5c958745a8a97deec96)\n",
       "        ;\n",
       "\n",
       "        \n",
       "    \n",
       "    \n",
       "            var circle_marker_8a7a0d8bb1f8f4ed3935920dde43fb7e = L.circleMarker(\n",
       "                [4.4199241938459, -75.170624256134],\n",
       "                {&quot;bubblingMouseEvents&quot;: true, &quot;color&quot;: &quot;blue&quot;, &quot;dashArray&quot;: null, &quot;dashOffset&quot;: null, &quot;fill&quot;: true, &quot;fillColor&quot;: &quot;blue&quot;, &quot;fillOpacity&quot;: 0.6, &quot;fillRule&quot;: &quot;evenodd&quot;, &quot;lineCap&quot;: &quot;round&quot;, &quot;lineJoin&quot;: &quot;round&quot;, &quot;opacity&quot;: 1.0, &quot;radius&quot;: 4, &quot;stroke&quot;: true, &quot;weight&quot;: 3}\n",
       "            ).addTo(map_6c285c78858decbf900c2b4189855eba);\n",
       "        \n",
       "    \n",
       "        var popup_fabe2f818484586be0838516f2da12a2 = L.popup({\n",
       "  &quot;maxWidth&quot;: &quot;100%&quot;,\n",
       "});\n",
       "\n",
       "        \n",
       "            \n",
       "                var html_3b66bd551fe186ef5567031aaafc2953 = $(`&lt;div id=&quot;html_3b66bd551fe186ef5567031aaafc2953&quot; style=&quot;width: 100.0%; height: 100.0%;&quot;&gt;Precio: 616,000&lt;/div&gt;`)[0];\n",
       "                popup_fabe2f818484586be0838516f2da12a2.setContent(html_3b66bd551fe186ef5567031aaafc2953);\n",
       "            \n",
       "        \n",
       "\n",
       "        circle_marker_8a7a0d8bb1f8f4ed3935920dde43fb7e.bindPopup(popup_fabe2f818484586be0838516f2da12a2)\n",
       "        ;\n",
       "\n",
       "        \n",
       "    \n",
       "    \n",
       "            var circle_marker_300a8c6dce975992740f539521f12c8e = L.circleMarker(\n",
       "                [4.4309793870922, -75.175495147705],\n",
       "                {&quot;bubblingMouseEvents&quot;: true, &quot;color&quot;: &quot;blue&quot;, &quot;dashArray&quot;: null, &quot;dashOffset&quot;: null, &quot;fill&quot;: true, &quot;fillColor&quot;: &quot;blue&quot;, &quot;fillOpacity&quot;: 0.6, &quot;fillRule&quot;: &quot;evenodd&quot;, &quot;lineCap&quot;: &quot;round&quot;, &quot;lineJoin&quot;: &quot;round&quot;, &quot;opacity&quot;: 1.0, &quot;radius&quot;: 4, &quot;stroke&quot;: true, &quot;weight&quot;: 3}\n",
       "            ).addTo(map_6c285c78858decbf900c2b4189855eba);\n",
       "        \n",
       "    \n",
       "        var popup_1501a50e0729f19eaf8f310195835f78 = L.popup({\n",
       "  &quot;maxWidth&quot;: &quot;100%&quot;,\n",
       "});\n",
       "\n",
       "        \n",
       "            \n",
       "                var html_73d5a3fe7885f2d1162f511acc6296f8 = $(`&lt;div id=&quot;html_73d5a3fe7885f2d1162f511acc6296f8&quot; style=&quot;width: 100.0%; height: 100.0%;&quot;&gt;Precio: 1,714,400&lt;/div&gt;`)[0];\n",
       "                popup_1501a50e0729f19eaf8f310195835f78.setContent(html_73d5a3fe7885f2d1162f511acc6296f8);\n",
       "            \n",
       "        \n",
       "\n",
       "        circle_marker_300a8c6dce975992740f539521f12c8e.bindPopup(popup_1501a50e0729f19eaf8f310195835f78)\n",
       "        ;\n",
       "\n",
       "        \n",
       "    \n",
       "    \n",
       "            var circle_marker_3ca4479f20c94f557f04ffb36ce31924 = L.circleMarker(\n",
       "                [4.4617480011795, -75.204420089722],\n",
       "                {&quot;bubblingMouseEvents&quot;: true, &quot;color&quot;: &quot;blue&quot;, &quot;dashArray&quot;: null, &quot;dashOffset&quot;: null, &quot;fill&quot;: true, &quot;fillColor&quot;: &quot;blue&quot;, &quot;fillOpacity&quot;: 0.6, &quot;fillRule&quot;: &quot;evenodd&quot;, &quot;lineCap&quot;: &quot;round&quot;, &quot;lineJoin&quot;: &quot;round&quot;, &quot;opacity&quot;: 1.0, &quot;radius&quot;: 4, &quot;stroke&quot;: true, &quot;weight&quot;: 3}\n",
       "            ).addTo(map_6c285c78858decbf900c2b4189855eba);\n",
       "        \n",
       "    \n",
       "        var popup_e19f680dd8179de44a758b142a1f0a79 = L.popup({\n",
       "  &quot;maxWidth&quot;: &quot;100%&quot;,\n",
       "});\n",
       "\n",
       "        \n",
       "            \n",
       "                var html_8f38356186da91275f5a9adbe54b6ebb = $(`&lt;div id=&quot;html_8f38356186da91275f5a9adbe54b6ebb&quot; style=&quot;width: 100.0%; height: 100.0%;&quot;&gt;Precio: 793,000&lt;/div&gt;`)[0];\n",
       "                popup_e19f680dd8179de44a758b142a1f0a79.setContent(html_8f38356186da91275f5a9adbe54b6ebb);\n",
       "            \n",
       "        \n",
       "\n",
       "        circle_marker_3ca4479f20c94f557f04ffb36ce31924.bindPopup(popup_e19f680dd8179de44a758b142a1f0a79)\n",
       "        ;\n",
       "\n",
       "        \n",
       "    \n",
       "    \n",
       "            var circle_marker_18bcfc46f8215e1a6fd658844809449d = L.circleMarker(\n",
       "                [4.4302462, -75.2409001],\n",
       "                {&quot;bubblingMouseEvents&quot;: true, &quot;color&quot;: &quot;blue&quot;, &quot;dashArray&quot;: null, &quot;dashOffset&quot;: null, &quot;fill&quot;: true, &quot;fillColor&quot;: &quot;blue&quot;, &quot;fillOpacity&quot;: 0.6, &quot;fillRule&quot;: &quot;evenodd&quot;, &quot;lineCap&quot;: &quot;round&quot;, &quot;lineJoin&quot;: &quot;round&quot;, &quot;opacity&quot;: 1.0, &quot;radius&quot;: 4, &quot;stroke&quot;: true, &quot;weight&quot;: 3}\n",
       "            ).addTo(map_6c285c78858decbf900c2b4189855eba);\n",
       "        \n",
       "    \n",
       "        var popup_79a9e5b43b3afc611dbf9a9174ebca01 = L.popup({\n",
       "  &quot;maxWidth&quot;: &quot;100%&quot;,\n",
       "});\n",
       "\n",
       "        \n",
       "            \n",
       "                var html_d2eb3f9301336079e11bf70bfc2284f2 = $(`&lt;div id=&quot;html_d2eb3f9301336079e11bf70bfc2284f2&quot; style=&quot;width: 100.0%; height: 100.0%;&quot;&gt;Precio: 1,270,000&lt;/div&gt;`)[0];\n",
       "                popup_79a9e5b43b3afc611dbf9a9174ebca01.setContent(html_d2eb3f9301336079e11bf70bfc2284f2);\n",
       "            \n",
       "        \n",
       "\n",
       "        circle_marker_18bcfc46f8215e1a6fd658844809449d.bindPopup(popup_79a9e5b43b3afc611dbf9a9174ebca01)\n",
       "        ;\n",
       "\n",
       "        \n",
       "    \n",
       "    \n",
       "            var circle_marker_8f2b74b574eb0aa1c9dae32c9d3a5fe8 = L.circleMarker(\n",
       "                [4.4317549024315, -75.181202888489],\n",
       "                {&quot;bubblingMouseEvents&quot;: true, &quot;color&quot;: &quot;blue&quot;, &quot;dashArray&quot;: null, &quot;dashOffset&quot;: null, &quot;fill&quot;: true, &quot;fillColor&quot;: &quot;blue&quot;, &quot;fillOpacity&quot;: 0.6, &quot;fillRule&quot;: &quot;evenodd&quot;, &quot;lineCap&quot;: &quot;round&quot;, &quot;lineJoin&quot;: &quot;round&quot;, &quot;opacity&quot;: 1.0, &quot;radius&quot;: 4, &quot;stroke&quot;: true, &quot;weight&quot;: 3}\n",
       "            ).addTo(map_6c285c78858decbf900c2b4189855eba);\n",
       "        \n",
       "    \n",
       "        var popup_1691c6de52b1af181ea2114ac1a645e5 = L.popup({\n",
       "  &quot;maxWidth&quot;: &quot;100%&quot;,\n",
       "});\n",
       "\n",
       "        \n",
       "            \n",
       "                var html_0371f612c0ba9d918f5582a1450f1f46 = $(`&lt;div id=&quot;html_0371f612c0ba9d918f5582a1450f1f46&quot; style=&quot;width: 100.0%; height: 100.0%;&quot;&gt;Precio: 1,900,000&lt;/div&gt;`)[0];\n",
       "                popup_1691c6de52b1af181ea2114ac1a645e5.setContent(html_0371f612c0ba9d918f5582a1450f1f46);\n",
       "            \n",
       "        \n",
       "\n",
       "        circle_marker_8f2b74b574eb0aa1c9dae32c9d3a5fe8.bindPopup(popup_1691c6de52b1af181ea2114ac1a645e5)\n",
       "        ;\n",
       "\n",
       "        \n",
       "    \n",
       "    \n",
       "            var circle_marker_2f5bb8d2dfceb6c86dd874691d3fd868 = L.circleMarker(\n",
       "                [4.432456370876, -75.181154588043],\n",
       "                {&quot;bubblingMouseEvents&quot;: true, &quot;color&quot;: &quot;blue&quot;, &quot;dashArray&quot;: null, &quot;dashOffset&quot;: null, &quot;fill&quot;: true, &quot;fillColor&quot;: &quot;blue&quot;, &quot;fillOpacity&quot;: 0.6, &quot;fillRule&quot;: &quot;evenodd&quot;, &quot;lineCap&quot;: &quot;round&quot;, &quot;lineJoin&quot;: &quot;round&quot;, &quot;opacity&quot;: 1.0, &quot;radius&quot;: 4, &quot;stroke&quot;: true, &quot;weight&quot;: 3}\n",
       "            ).addTo(map_6c285c78858decbf900c2b4189855eba);\n",
       "        \n",
       "    \n",
       "        var popup_33f283501fb88c37a73037d90abc0ed8 = L.popup({\n",
       "  &quot;maxWidth&quot;: &quot;100%&quot;,\n",
       "});\n",
       "\n",
       "        \n",
       "            \n",
       "                var html_7829d59f089d673dcc0cfedf8e7cd737 = $(`&lt;div id=&quot;html_7829d59f089d673dcc0cfedf8e7cd737&quot; style=&quot;width: 100.0%; height: 100.0%;&quot;&gt;Precio: 1,140,000&lt;/div&gt;`)[0];\n",
       "                popup_33f283501fb88c37a73037d90abc0ed8.setContent(html_7829d59f089d673dcc0cfedf8e7cd737);\n",
       "            \n",
       "        \n",
       "\n",
       "        circle_marker_2f5bb8d2dfceb6c86dd874691d3fd868.bindPopup(popup_33f283501fb88c37a73037d90abc0ed8)\n",
       "        ;\n",
       "\n",
       "        \n",
       "    \n",
       "    \n",
       "            var circle_marker_c18543eccd439faf88f8de9c24a85302 = L.circleMarker(\n",
       "                [4.4483461, -75.1752578],\n",
       "                {&quot;bubblingMouseEvents&quot;: true, &quot;color&quot;: &quot;blue&quot;, &quot;dashArray&quot;: null, &quot;dashOffset&quot;: null, &quot;fill&quot;: true, &quot;fillColor&quot;: &quot;blue&quot;, &quot;fillOpacity&quot;: 0.6, &quot;fillRule&quot;: &quot;evenodd&quot;, &quot;lineCap&quot;: &quot;round&quot;, &quot;lineJoin&quot;: &quot;round&quot;, &quot;opacity&quot;: 1.0, &quot;radius&quot;: 4, &quot;stroke&quot;: true, &quot;weight&quot;: 3}\n",
       "            ).addTo(map_6c285c78858decbf900c2b4189855eba);\n",
       "        \n",
       "    \n",
       "        var popup_3209df77c3a0dbcfc62ae7c493417482 = L.popup({\n",
       "  &quot;maxWidth&quot;: &quot;100%&quot;,\n",
       "});\n",
       "\n",
       "        \n",
       "            \n",
       "                var html_40217191eeb468ae27c1c7bf9b183c58 = $(`&lt;div id=&quot;html_40217191eeb468ae27c1c7bf9b183c58&quot; style=&quot;width: 100.0%; height: 100.0%;&quot;&gt;Precio: 2,200,000&lt;/div&gt;`)[0];\n",
       "                popup_3209df77c3a0dbcfc62ae7c493417482.setContent(html_40217191eeb468ae27c1c7bf9b183c58);\n",
       "            \n",
       "        \n",
       "\n",
       "        circle_marker_c18543eccd439faf88f8de9c24a85302.bindPopup(popup_3209df77c3a0dbcfc62ae7c493417482)\n",
       "        ;\n",
       "\n",
       "        \n",
       "    \n",
       "    \n",
       "            var circle_marker_190ea036cb0d5a83a4b56dc2021d2262 = L.circleMarker(\n",
       "                [4.4416567, -75.2055919],\n",
       "                {&quot;bubblingMouseEvents&quot;: true, &quot;color&quot;: &quot;blue&quot;, &quot;dashArray&quot;: null, &quot;dashOffset&quot;: null, &quot;fill&quot;: true, &quot;fillColor&quot;: &quot;blue&quot;, &quot;fillOpacity&quot;: 0.6, &quot;fillRule&quot;: &quot;evenodd&quot;, &quot;lineCap&quot;: &quot;round&quot;, &quot;lineJoin&quot;: &quot;round&quot;, &quot;opacity&quot;: 1.0, &quot;radius&quot;: 4, &quot;stroke&quot;: true, &quot;weight&quot;: 3}\n",
       "            ).addTo(map_6c285c78858decbf900c2b4189855eba);\n",
       "        \n",
       "    \n",
       "        var popup_c4c7528a604e6858a6b86cb2ecac84c4 = L.popup({\n",
       "  &quot;maxWidth&quot;: &quot;100%&quot;,\n",
       "});\n",
       "\n",
       "        \n",
       "            \n",
       "                var html_8d18427557a4219e93b034ddb6a0c51a = $(`&lt;div id=&quot;html_8d18427557a4219e93b034ddb6a0c51a&quot; style=&quot;width: 100.0%; height: 100.0%;&quot;&gt;Precio: 2,500,000&lt;/div&gt;`)[0];\n",
       "                popup_c4c7528a604e6858a6b86cb2ecac84c4.setContent(html_8d18427557a4219e93b034ddb6a0c51a);\n",
       "            \n",
       "        \n",
       "\n",
       "        circle_marker_190ea036cb0d5a83a4b56dc2021d2262.bindPopup(popup_c4c7528a604e6858a6b86cb2ecac84c4)\n",
       "        ;\n",
       "\n",
       "        \n",
       "    \n",
       "    \n",
       "            var circle_marker_0ae64e94124f678ff7835c488385629a = L.circleMarker(\n",
       "                [4.4527283, -75.1900626],\n",
       "                {&quot;bubblingMouseEvents&quot;: true, &quot;color&quot;: &quot;blue&quot;, &quot;dashArray&quot;: null, &quot;dashOffset&quot;: null, &quot;fill&quot;: true, &quot;fillColor&quot;: &quot;blue&quot;, &quot;fillOpacity&quot;: 0.6, &quot;fillRule&quot;: &quot;evenodd&quot;, &quot;lineCap&quot;: &quot;round&quot;, &quot;lineJoin&quot;: &quot;round&quot;, &quot;opacity&quot;: 1.0, &quot;radius&quot;: 4, &quot;stroke&quot;: true, &quot;weight&quot;: 3}\n",
       "            ).addTo(map_6c285c78858decbf900c2b4189855eba);\n",
       "        \n",
       "    \n",
       "        var popup_7cfe6e47e4e052314776b0b154be613f = L.popup({\n",
       "  &quot;maxWidth&quot;: &quot;100%&quot;,\n",
       "});\n",
       "\n",
       "        \n",
       "            \n",
       "                var html_a64e5ce7eba24f61c69545a304490889 = $(`&lt;div id=&quot;html_a64e5ce7eba24f61c69545a304490889&quot; style=&quot;width: 100.0%; height: 100.0%;&quot;&gt;Precio: 4,750,000&lt;/div&gt;`)[0];\n",
       "                popup_7cfe6e47e4e052314776b0b154be613f.setContent(html_a64e5ce7eba24f61c69545a304490889);\n",
       "            \n",
       "        \n",
       "\n",
       "        circle_marker_0ae64e94124f678ff7835c488385629a.bindPopup(popup_7cfe6e47e4e052314776b0b154be613f)\n",
       "        ;\n",
       "\n",
       "        \n",
       "    \n",
       "    \n",
       "            var circle_marker_6751e57cf3316d41e85065bb334cb3d9 = L.circleMarker(\n",
       "                [4.4426556, -75.2044118],\n",
       "                {&quot;bubblingMouseEvents&quot;: true, &quot;color&quot;: &quot;blue&quot;, &quot;dashArray&quot;: null, &quot;dashOffset&quot;: null, &quot;fill&quot;: true, &quot;fillColor&quot;: &quot;blue&quot;, &quot;fillOpacity&quot;: 0.6, &quot;fillRule&quot;: &quot;evenodd&quot;, &quot;lineCap&quot;: &quot;round&quot;, &quot;lineJoin&quot;: &quot;round&quot;, &quot;opacity&quot;: 1.0, &quot;radius&quot;: 4, &quot;stroke&quot;: true, &quot;weight&quot;: 3}\n",
       "            ).addTo(map_6c285c78858decbf900c2b4189855eba);\n",
       "        \n",
       "    \n",
       "        var popup_cdf85c8f9c6a25a2dcac61f66c190352 = L.popup({\n",
       "  &quot;maxWidth&quot;: &quot;100%&quot;,\n",
       "});\n",
       "\n",
       "        \n",
       "            \n",
       "                var html_cce14c42d5fdcc2831b886a9bfbcbfee = $(`&lt;div id=&quot;html_cce14c42d5fdcc2831b886a9bfbcbfee&quot; style=&quot;width: 100.0%; height: 100.0%;&quot;&gt;Precio: 2,100,000&lt;/div&gt;`)[0];\n",
       "                popup_cdf85c8f9c6a25a2dcac61f66c190352.setContent(html_cce14c42d5fdcc2831b886a9bfbcbfee);\n",
       "            \n",
       "        \n",
       "\n",
       "        circle_marker_6751e57cf3316d41e85065bb334cb3d9.bindPopup(popup_cdf85c8f9c6a25a2dcac61f66c190352)\n",
       "        ;\n",
       "\n",
       "        \n",
       "    \n",
       "    \n",
       "            var circle_marker_b09917c5b036f521050a6a23a4da4830 = L.circleMarker(\n",
       "                [4.4062426959788, -75.168144225846],\n",
       "                {&quot;bubblingMouseEvents&quot;: true, &quot;color&quot;: &quot;blue&quot;, &quot;dashArray&quot;: null, &quot;dashOffset&quot;: null, &quot;fill&quot;: true, &quot;fillColor&quot;: &quot;blue&quot;, &quot;fillOpacity&quot;: 0.6, &quot;fillRule&quot;: &quot;evenodd&quot;, &quot;lineCap&quot;: &quot;round&quot;, &quot;lineJoin&quot;: &quot;round&quot;, &quot;opacity&quot;: 1.0, &quot;radius&quot;: 4, &quot;stroke&quot;: true, &quot;weight&quot;: 3}\n",
       "            ).addTo(map_6c285c78858decbf900c2b4189855eba);\n",
       "        \n",
       "    \n",
       "        var popup_81e23ba5dbfaf372da6e89524ca8807e = L.popup({\n",
       "  &quot;maxWidth&quot;: &quot;100%&quot;,\n",
       "});\n",
       "\n",
       "        \n",
       "            \n",
       "                var html_717c7b6274c5fa8d2c1b70b1c43abe01 = $(`&lt;div id=&quot;html_717c7b6274c5fa8d2c1b70b1c43abe01&quot; style=&quot;width: 100.0%; height: 100.0%;&quot;&gt;Precio: 1,671,500&lt;/div&gt;`)[0];\n",
       "                popup_81e23ba5dbfaf372da6e89524ca8807e.setContent(html_717c7b6274c5fa8d2c1b70b1c43abe01);\n",
       "            \n",
       "        \n",
       "\n",
       "        circle_marker_b09917c5b036f521050a6a23a4da4830.bindPopup(popup_81e23ba5dbfaf372da6e89524ca8807e)\n",
       "        ;\n",
       "\n",
       "        \n",
       "    \n",
       "    \n",
       "            var circle_marker_19a8bb2762a6c9b7b8cbe046016c2b1f = L.circleMarker(\n",
       "                [4.4389163, -75.1989264],\n",
       "                {&quot;bubblingMouseEvents&quot;: true, &quot;color&quot;: &quot;blue&quot;, &quot;dashArray&quot;: null, &quot;dashOffset&quot;: null, &quot;fill&quot;: true, &quot;fillColor&quot;: &quot;blue&quot;, &quot;fillOpacity&quot;: 0.6, &quot;fillRule&quot;: &quot;evenodd&quot;, &quot;lineCap&quot;: &quot;round&quot;, &quot;lineJoin&quot;: &quot;round&quot;, &quot;opacity&quot;: 1.0, &quot;radius&quot;: 4, &quot;stroke&quot;: true, &quot;weight&quot;: 3}\n",
       "            ).addTo(map_6c285c78858decbf900c2b4189855eba);\n",
       "        \n",
       "    \n",
       "        var popup_0bfe280d33f692a82225bcbad2d977f6 = L.popup({\n",
       "  &quot;maxWidth&quot;: &quot;100%&quot;,\n",
       "});\n",
       "\n",
       "        \n",
       "            \n",
       "                var html_3add7d1eb5d37c648f09656732fccb17 = $(`&lt;div id=&quot;html_3add7d1eb5d37c648f09656732fccb17&quot; style=&quot;width: 100.0%; height: 100.0%;&quot;&gt;Precio: 3,500,000&lt;/div&gt;`)[0];\n",
       "                popup_0bfe280d33f692a82225bcbad2d977f6.setContent(html_3add7d1eb5d37c648f09656732fccb17);\n",
       "            \n",
       "        \n",
       "\n",
       "        circle_marker_19a8bb2762a6c9b7b8cbe046016c2b1f.bindPopup(popup_0bfe280d33f692a82225bcbad2d977f6)\n",
       "        ;\n",
       "\n",
       "        \n",
       "    \n",
       "    \n",
       "            var circle_marker_6421ad552733c2f0f6e200ea196f54e2 = L.circleMarker(\n",
       "                [4.5805, -75.3754],\n",
       "                {&quot;bubblingMouseEvents&quot;: true, &quot;color&quot;: &quot;blue&quot;, &quot;dashArray&quot;: null, &quot;dashOffset&quot;: null, &quot;fill&quot;: true, &quot;fillColor&quot;: &quot;blue&quot;, &quot;fillOpacity&quot;: 0.6, &quot;fillRule&quot;: &quot;evenodd&quot;, &quot;lineCap&quot;: &quot;round&quot;, &quot;lineJoin&quot;: &quot;round&quot;, &quot;opacity&quot;: 1.0, &quot;radius&quot;: 4, &quot;stroke&quot;: true, &quot;weight&quot;: 3}\n",
       "            ).addTo(map_6c285c78858decbf900c2b4189855eba);\n",
       "        \n",
       "    \n",
       "        var popup_c119258a092a9237a927a4adbfcc93ea = L.popup({\n",
       "  &quot;maxWidth&quot;: &quot;100%&quot;,\n",
       "});\n",
       "\n",
       "        \n",
       "            \n",
       "                var html_b3f61a9c9eb636d89dd5e12d141cdcc2 = $(`&lt;div id=&quot;html_b3f61a9c9eb636d89dd5e12d141cdcc2&quot; style=&quot;width: 100.0%; height: 100.0%;&quot;&gt;Precio: 2,200,000&lt;/div&gt;`)[0];\n",
       "                popup_c119258a092a9237a927a4adbfcc93ea.setContent(html_b3f61a9c9eb636d89dd5e12d141cdcc2);\n",
       "            \n",
       "        \n",
       "\n",
       "        circle_marker_6421ad552733c2f0f6e200ea196f54e2.bindPopup(popup_c119258a092a9237a927a4adbfcc93ea)\n",
       "        ;\n",
       "\n",
       "        \n",
       "    \n",
       "    \n",
       "            var circle_marker_daa059e1c5dbc0236f763ea1a27bea5b = L.circleMarker(\n",
       "                [4.4453177939481, -75.1638600047],\n",
       "                {&quot;bubblingMouseEvents&quot;: true, &quot;color&quot;: &quot;blue&quot;, &quot;dashArray&quot;: null, &quot;dashOffset&quot;: null, &quot;fill&quot;: true, &quot;fillColor&quot;: &quot;blue&quot;, &quot;fillOpacity&quot;: 0.6, &quot;fillRule&quot;: &quot;evenodd&quot;, &quot;lineCap&quot;: &quot;round&quot;, &quot;lineJoin&quot;: &quot;round&quot;, &quot;opacity&quot;: 1.0, &quot;radius&quot;: 4, &quot;stroke&quot;: true, &quot;weight&quot;: 3}\n",
       "            ).addTo(map_6c285c78858decbf900c2b4189855eba);\n",
       "        \n",
       "    \n",
       "        var popup_da0c422f42af53948243e7137818693f = L.popup({\n",
       "  &quot;maxWidth&quot;: &quot;100%&quot;,\n",
       "});\n",
       "\n",
       "        \n",
       "            \n",
       "                var html_1a75c4d36a89a8c124f211412e5e08e7 = $(`&lt;div id=&quot;html_1a75c4d36a89a8c124f211412e5e08e7&quot; style=&quot;width: 100.0%; height: 100.0%;&quot;&gt;Precio: 750,000&lt;/div&gt;`)[0];\n",
       "                popup_da0c422f42af53948243e7137818693f.setContent(html_1a75c4d36a89a8c124f211412e5e08e7);\n",
       "            \n",
       "        \n",
       "\n",
       "        circle_marker_daa059e1c5dbc0236f763ea1a27bea5b.bindPopup(popup_da0c422f42af53948243e7137818693f)\n",
       "        ;\n",
       "\n",
       "        \n",
       "    \n",
       "    \n",
       "            var circle_marker_6b117c5f478bd09468c2461bcbb20bda = L.circleMarker(\n",
       "                [4.4468313557957, -75.194155555523],\n",
       "                {&quot;bubblingMouseEvents&quot;: true, &quot;color&quot;: &quot;blue&quot;, &quot;dashArray&quot;: null, &quot;dashOffset&quot;: null, &quot;fill&quot;: true, &quot;fillColor&quot;: &quot;blue&quot;, &quot;fillOpacity&quot;: 0.6, &quot;fillRule&quot;: &quot;evenodd&quot;, &quot;lineCap&quot;: &quot;round&quot;, &quot;lineJoin&quot;: &quot;round&quot;, &quot;opacity&quot;: 1.0, &quot;radius&quot;: 4, &quot;stroke&quot;: true, &quot;weight&quot;: 3}\n",
       "            ).addTo(map_6c285c78858decbf900c2b4189855eba);\n",
       "        \n",
       "    \n",
       "        var popup_2ac22b160f0cea0acab56a0571cdcb98 = L.popup({\n",
       "  &quot;maxWidth&quot;: &quot;100%&quot;,\n",
       "});\n",
       "\n",
       "        \n",
       "            \n",
       "                var html_092105a65f4ee78f4955f06c65599f1a = $(`&lt;div id=&quot;html_092105a65f4ee78f4955f06c65599f1a&quot; style=&quot;width: 100.0%; height: 100.0%;&quot;&gt;Precio: 1,400,000&lt;/div&gt;`)[0];\n",
       "                popup_2ac22b160f0cea0acab56a0571cdcb98.setContent(html_092105a65f4ee78f4955f06c65599f1a);\n",
       "            \n",
       "        \n",
       "\n",
       "        circle_marker_6b117c5f478bd09468c2461bcbb20bda.bindPopup(popup_2ac22b160f0cea0acab56a0571cdcb98)\n",
       "        ;\n",
       "\n",
       "        \n",
       "    \n",
       "    \n",
       "            var circle_marker_73181b963dd216ad3c665db574e20cf9 = L.circleMarker(\n",
       "                [4.4199215, -75.1706055],\n",
       "                {&quot;bubblingMouseEvents&quot;: true, &quot;color&quot;: &quot;blue&quot;, &quot;dashArray&quot;: null, &quot;dashOffset&quot;: null, &quot;fill&quot;: true, &quot;fillColor&quot;: &quot;blue&quot;, &quot;fillOpacity&quot;: 0.6, &quot;fillRule&quot;: &quot;evenodd&quot;, &quot;lineCap&quot;: &quot;round&quot;, &quot;lineJoin&quot;: &quot;round&quot;, &quot;opacity&quot;: 1.0, &quot;radius&quot;: 4, &quot;stroke&quot;: true, &quot;weight&quot;: 3}\n",
       "            ).addTo(map_6c285c78858decbf900c2b4189855eba);\n",
       "        \n",
       "    \n",
       "        var popup_063dbdca15a4f8851e2da4cb8f808203 = L.popup({\n",
       "  &quot;maxWidth&quot;: &quot;100%&quot;,\n",
       "});\n",
       "\n",
       "        \n",
       "            \n",
       "                var html_a1bae07e76992d3a4682e2cc4408ff20 = $(`&lt;div id=&quot;html_a1bae07e76992d3a4682e2cc4408ff20&quot; style=&quot;width: 100.0%; height: 100.0%;&quot;&gt;Precio: 1,400,000&lt;/div&gt;`)[0];\n",
       "                popup_063dbdca15a4f8851e2da4cb8f808203.setContent(html_a1bae07e76992d3a4682e2cc4408ff20);\n",
       "            \n",
       "        \n",
       "\n",
       "        circle_marker_73181b963dd216ad3c665db574e20cf9.bindPopup(popup_063dbdca15a4f8851e2da4cb8f808203)\n",
       "        ;\n",
       "\n",
       "        \n",
       "    \n",
       "    \n",
       "            var circle_marker_6be8cb015df287135f813d3897633ae3 = L.circleMarker(\n",
       "                [4.451486, -75.141432],\n",
       "                {&quot;bubblingMouseEvents&quot;: true, &quot;color&quot;: &quot;blue&quot;, &quot;dashArray&quot;: null, &quot;dashOffset&quot;: null, &quot;fill&quot;: true, &quot;fillColor&quot;: &quot;blue&quot;, &quot;fillOpacity&quot;: 0.6, &quot;fillRule&quot;: &quot;evenodd&quot;, &quot;lineCap&quot;: &quot;round&quot;, &quot;lineJoin&quot;: &quot;round&quot;, &quot;opacity&quot;: 1.0, &quot;radius&quot;: 4, &quot;stroke&quot;: true, &quot;weight&quot;: 3}\n",
       "            ).addTo(map_6c285c78858decbf900c2b4189855eba);\n",
       "        \n",
       "    \n",
       "        var popup_3f46fb4d83bb6174460177bb38e9c7c5 = L.popup({\n",
       "  &quot;maxWidth&quot;: &quot;100%&quot;,\n",
       "});\n",
       "\n",
       "        \n",
       "            \n",
       "                var html_24fba2fbe966504f3a51500222401f2c = $(`&lt;div id=&quot;html_24fba2fbe966504f3a51500222401f2c&quot; style=&quot;width: 100.0%; height: 100.0%;&quot;&gt;Precio: 650,000&lt;/div&gt;`)[0];\n",
       "                popup_3f46fb4d83bb6174460177bb38e9c7c5.setContent(html_24fba2fbe966504f3a51500222401f2c);\n",
       "            \n",
       "        \n",
       "\n",
       "        circle_marker_6be8cb015df287135f813d3897633ae3.bindPopup(popup_3f46fb4d83bb6174460177bb38e9c7c5)\n",
       "        ;\n",
       "\n",
       "        \n",
       "    \n",
       "    \n",
       "            var circle_marker_00b53b3b98831fb4486ea1aa0f3c98ee = L.circleMarker(\n",
       "                [4.4059501941585, -75.168250966658],\n",
       "                {&quot;bubblingMouseEvents&quot;: true, &quot;color&quot;: &quot;blue&quot;, &quot;dashArray&quot;: null, &quot;dashOffset&quot;: null, &quot;fill&quot;: true, &quot;fillColor&quot;: &quot;blue&quot;, &quot;fillOpacity&quot;: 0.6, &quot;fillRule&quot;: &quot;evenodd&quot;, &quot;lineCap&quot;: &quot;round&quot;, &quot;lineJoin&quot;: &quot;round&quot;, &quot;opacity&quot;: 1.0, &quot;radius&quot;: 4, &quot;stroke&quot;: true, &quot;weight&quot;: 3}\n",
       "            ).addTo(map_6c285c78858decbf900c2b4189855eba);\n",
       "        \n",
       "    \n",
       "        var popup_daac1d002581664cfc6a0d19161164a3 = L.popup({\n",
       "  &quot;maxWidth&quot;: &quot;100%&quot;,\n",
       "});\n",
       "\n",
       "        \n",
       "            \n",
       "                var html_b67bedc5bf7973c4ca6ed1dac2c31492 = $(`&lt;div id=&quot;html_b67bedc5bf7973c4ca6ed1dac2c31492&quot; style=&quot;width: 100.0%; height: 100.0%;&quot;&gt;Precio: 1,600,000&lt;/div&gt;`)[0];\n",
       "                popup_daac1d002581664cfc6a0d19161164a3.setContent(html_b67bedc5bf7973c4ca6ed1dac2c31492);\n",
       "            \n",
       "        \n",
       "\n",
       "        circle_marker_00b53b3b98831fb4486ea1aa0f3c98ee.bindPopup(popup_daac1d002581664cfc6a0d19161164a3)\n",
       "        ;\n",
       "\n",
       "        \n",
       "    \n",
       "    \n",
       "            var circle_marker_3cab89194b9075ee74d47cbad3539e43 = L.circleMarker(\n",
       "                [4.4435898, -75.1982539],\n",
       "                {&quot;bubblingMouseEvents&quot;: true, &quot;color&quot;: &quot;blue&quot;, &quot;dashArray&quot;: null, &quot;dashOffset&quot;: null, &quot;fill&quot;: true, &quot;fillColor&quot;: &quot;blue&quot;, &quot;fillOpacity&quot;: 0.6, &quot;fillRule&quot;: &quot;evenodd&quot;, &quot;lineCap&quot;: &quot;round&quot;, &quot;lineJoin&quot;: &quot;round&quot;, &quot;opacity&quot;: 1.0, &quot;radius&quot;: 4, &quot;stroke&quot;: true, &quot;weight&quot;: 3}\n",
       "            ).addTo(map_6c285c78858decbf900c2b4189855eba);\n",
       "        \n",
       "    \n",
       "        var popup_4116807acc704badd104ea756b314735 = L.popup({\n",
       "  &quot;maxWidth&quot;: &quot;100%&quot;,\n",
       "});\n",
       "\n",
       "        \n",
       "            \n",
       "                var html_26c9ffa312bfecafaf1f09469f325706 = $(`&lt;div id=&quot;html_26c9ffa312bfecafaf1f09469f325706&quot; style=&quot;width: 100.0%; height: 100.0%;&quot;&gt;Precio: 1,073,500&lt;/div&gt;`)[0];\n",
       "                popup_4116807acc704badd104ea756b314735.setContent(html_26c9ffa312bfecafaf1f09469f325706);\n",
       "            \n",
       "        \n",
       "\n",
       "        circle_marker_3cab89194b9075ee74d47cbad3539e43.bindPopup(popup_4116807acc704badd104ea756b314735)\n",
       "        ;\n",
       "\n",
       "        \n",
       "    \n",
       "    \n",
       "            var circle_marker_10efac96f5ff36c03f0266a5f5caa91c = L.circleMarker(\n",
       "                [4.4311933224394, -75.184507369995],\n",
       "                {&quot;bubblingMouseEvents&quot;: true, &quot;color&quot;: &quot;blue&quot;, &quot;dashArray&quot;: null, &quot;dashOffset&quot;: null, &quot;fill&quot;: true, &quot;fillColor&quot;: &quot;blue&quot;, &quot;fillOpacity&quot;: 0.6, &quot;fillRule&quot;: &quot;evenodd&quot;, &quot;lineCap&quot;: &quot;round&quot;, &quot;lineJoin&quot;: &quot;round&quot;, &quot;opacity&quot;: 1.0, &quot;radius&quot;: 4, &quot;stroke&quot;: true, &quot;weight&quot;: 3}\n",
       "            ).addTo(map_6c285c78858decbf900c2b4189855eba);\n",
       "        \n",
       "    \n",
       "        var popup_8dd4660e377810a78549b2028ad65fe8 = L.popup({\n",
       "  &quot;maxWidth&quot;: &quot;100%&quot;,\n",
       "});\n",
       "\n",
       "        \n",
       "            \n",
       "                var html_d6005840c40c68a220890d88b5b84c0a = $(`&lt;div id=&quot;html_d6005840c40c68a220890d88b5b84c0a&quot; style=&quot;width: 100.0%; height: 100.0%;&quot;&gt;Precio: 1,047,000&lt;/div&gt;`)[0];\n",
       "                popup_8dd4660e377810a78549b2028ad65fe8.setContent(html_d6005840c40c68a220890d88b5b84c0a);\n",
       "            \n",
       "        \n",
       "\n",
       "        circle_marker_10efac96f5ff36c03f0266a5f5caa91c.bindPopup(popup_8dd4660e377810a78549b2028ad65fe8)\n",
       "        ;\n",
       "\n",
       "        \n",
       "    \n",
       "    \n",
       "            var circle_marker_9359ce46adc03ff11c86b7ec64ac4ebd = L.circleMarker(\n",
       "                [4.4062176, -75.1681415],\n",
       "                {&quot;bubblingMouseEvents&quot;: true, &quot;color&quot;: &quot;blue&quot;, &quot;dashArray&quot;: null, &quot;dashOffset&quot;: null, &quot;fill&quot;: true, &quot;fillColor&quot;: &quot;blue&quot;, &quot;fillOpacity&quot;: 0.6, &quot;fillRule&quot;: &quot;evenodd&quot;, &quot;lineCap&quot;: &quot;round&quot;, &quot;lineJoin&quot;: &quot;round&quot;, &quot;opacity&quot;: 1.0, &quot;radius&quot;: 4, &quot;stroke&quot;: true, &quot;weight&quot;: 3}\n",
       "            ).addTo(map_6c285c78858decbf900c2b4189855eba);\n",
       "        \n",
       "    \n",
       "        var popup_c0e0d3d0365321ca2da6623cb8cd076e = L.popup({\n",
       "  &quot;maxWidth&quot;: &quot;100%&quot;,\n",
       "});\n",
       "\n",
       "        \n",
       "            \n",
       "                var html_eda81941c2fe6d59b42fc02b617a483d = $(`&lt;div id=&quot;html_eda81941c2fe6d59b42fc02b617a483d&quot; style=&quot;width: 100.0%; height: 100.0%;&quot;&gt;Precio: 1,719,000&lt;/div&gt;`)[0];\n",
       "                popup_c0e0d3d0365321ca2da6623cb8cd076e.setContent(html_eda81941c2fe6d59b42fc02b617a483d);\n",
       "            \n",
       "        \n",
       "\n",
       "        circle_marker_9359ce46adc03ff11c86b7ec64ac4ebd.bindPopup(popup_c0e0d3d0365321ca2da6623cb8cd076e)\n",
       "        ;\n",
       "\n",
       "        \n",
       "    \n",
       "    \n",
       "            var circle_marker_176c5c704923d7a6bbbb32053ec17b4a = L.circleMarker(\n",
       "                [4.454062, -75.2273097],\n",
       "                {&quot;bubblingMouseEvents&quot;: true, &quot;color&quot;: &quot;blue&quot;, &quot;dashArray&quot;: null, &quot;dashOffset&quot;: null, &quot;fill&quot;: true, &quot;fillColor&quot;: &quot;blue&quot;, &quot;fillOpacity&quot;: 0.6, &quot;fillRule&quot;: &quot;evenodd&quot;, &quot;lineCap&quot;: &quot;round&quot;, &quot;lineJoin&quot;: &quot;round&quot;, &quot;opacity&quot;: 1.0, &quot;radius&quot;: 4, &quot;stroke&quot;: true, &quot;weight&quot;: 3}\n",
       "            ).addTo(map_6c285c78858decbf900c2b4189855eba);\n",
       "        \n",
       "    \n",
       "        var popup_3bcd915382bb71f315cc8bfe96477738 = L.popup({\n",
       "  &quot;maxWidth&quot;: &quot;100%&quot;,\n",
       "});\n",
       "\n",
       "        \n",
       "            \n",
       "                var html_d90c595f9795af17ca193ffa59941c78 = $(`&lt;div id=&quot;html_d90c595f9795af17ca193ffa59941c78&quot; style=&quot;width: 100.0%; height: 100.0%;&quot;&gt;Precio: 2,200,000&lt;/div&gt;`)[0];\n",
       "                popup_3bcd915382bb71f315cc8bfe96477738.setContent(html_d90c595f9795af17ca193ffa59941c78);\n",
       "            \n",
       "        \n",
       "\n",
       "        circle_marker_176c5c704923d7a6bbbb32053ec17b4a.bindPopup(popup_3bcd915382bb71f315cc8bfe96477738)\n",
       "        ;\n",
       "\n",
       "        \n",
       "    \n",
       "    \n",
       "            var circle_marker_126c9be1949723ffc7174aa135f6c8e2 = L.circleMarker(\n",
       "                [4.4325493, -75.2092508],\n",
       "                {&quot;bubblingMouseEvents&quot;: true, &quot;color&quot;: &quot;blue&quot;, &quot;dashArray&quot;: null, &quot;dashOffset&quot;: null, &quot;fill&quot;: true, &quot;fillColor&quot;: &quot;blue&quot;, &quot;fillOpacity&quot;: 0.6, &quot;fillRule&quot;: &quot;evenodd&quot;, &quot;lineCap&quot;: &quot;round&quot;, &quot;lineJoin&quot;: &quot;round&quot;, &quot;opacity&quot;: 1.0, &quot;radius&quot;: 4, &quot;stroke&quot;: true, &quot;weight&quot;: 3}\n",
       "            ).addTo(map_6c285c78858decbf900c2b4189855eba);\n",
       "        \n",
       "    \n",
       "        var popup_7404e0e5dab750bb7960ced73d643ed6 = L.popup({\n",
       "  &quot;maxWidth&quot;: &quot;100%&quot;,\n",
       "});\n",
       "\n",
       "        \n",
       "            \n",
       "                var html_9caec574119d1abf138acf50f75151a5 = $(`&lt;div id=&quot;html_9caec574119d1abf138acf50f75151a5&quot; style=&quot;width: 100.0%; height: 100.0%;&quot;&gt;Precio: 1,600,000&lt;/div&gt;`)[0];\n",
       "                popup_7404e0e5dab750bb7960ced73d643ed6.setContent(html_9caec574119d1abf138acf50f75151a5);\n",
       "            \n",
       "        \n",
       "\n",
       "        circle_marker_126c9be1949723ffc7174aa135f6c8e2.bindPopup(popup_7404e0e5dab750bb7960ced73d643ed6)\n",
       "        ;\n",
       "\n",
       "        \n",
       "    \n",
       "    \n",
       "            var circle_marker_bd8d43023f07abe5836b253554a731de = L.circleMarker(\n",
       "                [4.4370692, -75.2034429],\n",
       "                {&quot;bubblingMouseEvents&quot;: true, &quot;color&quot;: &quot;blue&quot;, &quot;dashArray&quot;: null, &quot;dashOffset&quot;: null, &quot;fill&quot;: true, &quot;fillColor&quot;: &quot;blue&quot;, &quot;fillOpacity&quot;: 0.6, &quot;fillRule&quot;: &quot;evenodd&quot;, &quot;lineCap&quot;: &quot;round&quot;, &quot;lineJoin&quot;: &quot;round&quot;, &quot;opacity&quot;: 1.0, &quot;radius&quot;: 4, &quot;stroke&quot;: true, &quot;weight&quot;: 3}\n",
       "            ).addTo(map_6c285c78858decbf900c2b4189855eba);\n",
       "        \n",
       "    \n",
       "        var popup_fa1cdd3168ba99382ec9e0eb1f79089b = L.popup({\n",
       "  &quot;maxWidth&quot;: &quot;100%&quot;,\n",
       "});\n",
       "\n",
       "        \n",
       "            \n",
       "                var html_f44feefecff2346369a6211645a2a44e = $(`&lt;div id=&quot;html_f44feefecff2346369a6211645a2a44e&quot; style=&quot;width: 100.0%; height: 100.0%;&quot;&gt;Precio: 4,500,000&lt;/div&gt;`)[0];\n",
       "                popup_fa1cdd3168ba99382ec9e0eb1f79089b.setContent(html_f44feefecff2346369a6211645a2a44e);\n",
       "            \n",
       "        \n",
       "\n",
       "        circle_marker_bd8d43023f07abe5836b253554a731de.bindPopup(popup_fa1cdd3168ba99382ec9e0eb1f79089b)\n",
       "        ;\n",
       "\n",
       "        \n",
       "    \n",
       "    \n",
       "            var circle_marker_89a19b218cbc79f7ccc96ec0e6a399f7 = L.circleMarker(\n",
       "                [4.4354689, -75.1782045],\n",
       "                {&quot;bubblingMouseEvents&quot;: true, &quot;color&quot;: &quot;blue&quot;, &quot;dashArray&quot;: null, &quot;dashOffset&quot;: null, &quot;fill&quot;: true, &quot;fillColor&quot;: &quot;blue&quot;, &quot;fillOpacity&quot;: 0.6, &quot;fillRule&quot;: &quot;evenodd&quot;, &quot;lineCap&quot;: &quot;round&quot;, &quot;lineJoin&quot;: &quot;round&quot;, &quot;opacity&quot;: 1.0, &quot;radius&quot;: 4, &quot;stroke&quot;: true, &quot;weight&quot;: 3}\n",
       "            ).addTo(map_6c285c78858decbf900c2b4189855eba);\n",
       "        \n",
       "    \n",
       "        var popup_d480e69da2c07da4c3d85cb50a451497 = L.popup({\n",
       "  &quot;maxWidth&quot;: &quot;100%&quot;,\n",
       "});\n",
       "\n",
       "        \n",
       "            \n",
       "                var html_e35e4896751953e6ce83f50e22b140e5 = $(`&lt;div id=&quot;html_e35e4896751953e6ce83f50e22b140e5&quot; style=&quot;width: 100.0%; height: 100.0%;&quot;&gt;Precio: 2,000,000&lt;/div&gt;`)[0];\n",
       "                popup_d480e69da2c07da4c3d85cb50a451497.setContent(html_e35e4896751953e6ce83f50e22b140e5);\n",
       "            \n",
       "        \n",
       "\n",
       "        circle_marker_89a19b218cbc79f7ccc96ec0e6a399f7.bindPopup(popup_d480e69da2c07da4c3d85cb50a451497)\n",
       "        ;\n",
       "\n",
       "        \n",
       "    \n",
       "    \n",
       "            var circle_marker_daf10e054e07be4f212112082b24b061 = L.circleMarker(\n",
       "                [4.434979, -75.1891849],\n",
       "                {&quot;bubblingMouseEvents&quot;: true, &quot;color&quot;: &quot;blue&quot;, &quot;dashArray&quot;: null, &quot;dashOffset&quot;: null, &quot;fill&quot;: true, &quot;fillColor&quot;: &quot;blue&quot;, &quot;fillOpacity&quot;: 0.6, &quot;fillRule&quot;: &quot;evenodd&quot;, &quot;lineCap&quot;: &quot;round&quot;, &quot;lineJoin&quot;: &quot;round&quot;, &quot;opacity&quot;: 1.0, &quot;radius&quot;: 4, &quot;stroke&quot;: true, &quot;weight&quot;: 3}\n",
       "            ).addTo(map_6c285c78858decbf900c2b4189855eba);\n",
       "        \n",
       "    \n",
       "        var popup_5be699ff8d4ebdca63f9b377df16f7b9 = L.popup({\n",
       "  &quot;maxWidth&quot;: &quot;100%&quot;,\n",
       "});\n",
       "\n",
       "        \n",
       "            \n",
       "                var html_c18f851e7b1c13fb75401feed4c3b4fd = $(`&lt;div id=&quot;html_c18f851e7b1c13fb75401feed4c3b4fd&quot; style=&quot;width: 100.0%; height: 100.0%;&quot;&gt;Precio: 3,100,000&lt;/div&gt;`)[0];\n",
       "                popup_5be699ff8d4ebdca63f9b377df16f7b9.setContent(html_c18f851e7b1c13fb75401feed4c3b4fd);\n",
       "            \n",
       "        \n",
       "\n",
       "        circle_marker_daf10e054e07be4f212112082b24b061.bindPopup(popup_5be699ff8d4ebdca63f9b377df16f7b9)\n",
       "        ;\n",
       "\n",
       "        \n",
       "    \n",
       "    \n",
       "            var circle_marker_fc5ec4a652df62bd97078d122df8284e = L.circleMarker(\n",
       "                [4.4470212, -75.1529419],\n",
       "                {&quot;bubblingMouseEvents&quot;: true, &quot;color&quot;: &quot;blue&quot;, &quot;dashArray&quot;: null, &quot;dashOffset&quot;: null, &quot;fill&quot;: true, &quot;fillColor&quot;: &quot;blue&quot;, &quot;fillOpacity&quot;: 0.6, &quot;fillRule&quot;: &quot;evenodd&quot;, &quot;lineCap&quot;: &quot;round&quot;, &quot;lineJoin&quot;: &quot;round&quot;, &quot;opacity&quot;: 1.0, &quot;radius&quot;: 4, &quot;stroke&quot;: true, &quot;weight&quot;: 3}\n",
       "            ).addTo(map_6c285c78858decbf900c2b4189855eba);\n",
       "        \n",
       "    \n",
       "        var popup_bcae89f49e969203b4511ba910ab8224 = L.popup({\n",
       "  &quot;maxWidth&quot;: &quot;100%&quot;,\n",
       "});\n",
       "\n",
       "        \n",
       "            \n",
       "                var html_abed62c7b0985e3cd00f6b0cfc374f30 = $(`&lt;div id=&quot;html_abed62c7b0985e3cd00f6b0cfc374f30&quot; style=&quot;width: 100.0%; height: 100.0%;&quot;&gt;Precio: 880,000&lt;/div&gt;`)[0];\n",
       "                popup_bcae89f49e969203b4511ba910ab8224.setContent(html_abed62c7b0985e3cd00f6b0cfc374f30);\n",
       "            \n",
       "        \n",
       "\n",
       "        circle_marker_fc5ec4a652df62bd97078d122df8284e.bindPopup(popup_bcae89f49e969203b4511ba910ab8224)\n",
       "        ;\n",
       "\n",
       "        \n",
       "    \n",
       "    \n",
       "            var circle_marker_13058f4474895d3c88ded9aaa83bb646 = L.circleMarker(\n",
       "                [4.4493542183419, -75.246643949738],\n",
       "                {&quot;bubblingMouseEvents&quot;: true, &quot;color&quot;: &quot;blue&quot;, &quot;dashArray&quot;: null, &quot;dashOffset&quot;: null, &quot;fill&quot;: true, &quot;fillColor&quot;: &quot;blue&quot;, &quot;fillOpacity&quot;: 0.6, &quot;fillRule&quot;: &quot;evenodd&quot;, &quot;lineCap&quot;: &quot;round&quot;, &quot;lineJoin&quot;: &quot;round&quot;, &quot;opacity&quot;: 1.0, &quot;radius&quot;: 4, &quot;stroke&quot;: true, &quot;weight&quot;: 3}\n",
       "            ).addTo(map_6c285c78858decbf900c2b4189855eba);\n",
       "        \n",
       "    \n",
       "        var popup_4726ba52dc6da1408474c6c836c409a5 = L.popup({\n",
       "  &quot;maxWidth&quot;: &quot;100%&quot;,\n",
       "});\n",
       "\n",
       "        \n",
       "            \n",
       "                var html_bc76e06e10b60e27d267401e4d1bc509 = $(`&lt;div id=&quot;html_bc76e06e10b60e27d267401e4d1bc509&quot; style=&quot;width: 100.0%; height: 100.0%;&quot;&gt;Precio: 1,100,000&lt;/div&gt;`)[0];\n",
       "                popup_4726ba52dc6da1408474c6c836c409a5.setContent(html_bc76e06e10b60e27d267401e4d1bc509);\n",
       "            \n",
       "        \n",
       "\n",
       "        circle_marker_13058f4474895d3c88ded9aaa83bb646.bindPopup(popup_4726ba52dc6da1408474c6c836c409a5)\n",
       "        ;\n",
       "\n",
       "        \n",
       "    \n",
       "    \n",
       "            var circle_marker_5ed9cd1172c53e5097ec3f225da342cf = L.circleMarker(\n",
       "                [4.4189575, -75.1701309],\n",
       "                {&quot;bubblingMouseEvents&quot;: true, &quot;color&quot;: &quot;blue&quot;, &quot;dashArray&quot;: null, &quot;dashOffset&quot;: null, &quot;fill&quot;: true, &quot;fillColor&quot;: &quot;blue&quot;, &quot;fillOpacity&quot;: 0.6, &quot;fillRule&quot;: &quot;evenodd&quot;, &quot;lineCap&quot;: &quot;round&quot;, &quot;lineJoin&quot;: &quot;round&quot;, &quot;opacity&quot;: 1.0, &quot;radius&quot;: 4, &quot;stroke&quot;: true, &quot;weight&quot;: 3}\n",
       "            ).addTo(map_6c285c78858decbf900c2b4189855eba);\n",
       "        \n",
       "    \n",
       "        var popup_9b961cf889f3da3413b4b5d6ca2710d2 = L.popup({\n",
       "  &quot;maxWidth&quot;: &quot;100%&quot;,\n",
       "});\n",
       "\n",
       "        \n",
       "            \n",
       "                var html_5459367932a1ad7f23cd113b0e1f4e5c = $(`&lt;div id=&quot;html_5459367932a1ad7f23cd113b0e1f4e5c&quot; style=&quot;width: 100.0%; height: 100.0%;&quot;&gt;Precio: 1,100,000&lt;/div&gt;`)[0];\n",
       "                popup_9b961cf889f3da3413b4b5d6ca2710d2.setContent(html_5459367932a1ad7f23cd113b0e1f4e5c);\n",
       "            \n",
       "        \n",
       "\n",
       "        circle_marker_5ed9cd1172c53e5097ec3f225da342cf.bindPopup(popup_9b961cf889f3da3413b4b5d6ca2710d2)\n",
       "        ;\n",
       "\n",
       "        \n",
       "    \n",
       "    \n",
       "            var circle_marker_21990b00d9889705e9c3bacd6ebba1c8 = L.circleMarker(\n",
       "                [4.436722014544, -75.17269916072],\n",
       "                {&quot;bubblingMouseEvents&quot;: true, &quot;color&quot;: &quot;blue&quot;, &quot;dashArray&quot;: null, &quot;dashOffset&quot;: null, &quot;fill&quot;: true, &quot;fillColor&quot;: &quot;blue&quot;, &quot;fillOpacity&quot;: 0.6, &quot;fillRule&quot;: &quot;evenodd&quot;, &quot;lineCap&quot;: &quot;round&quot;, &quot;lineJoin&quot;: &quot;round&quot;, &quot;opacity&quot;: 1.0, &quot;radius&quot;: 4, &quot;stroke&quot;: true, &quot;weight&quot;: 3}\n",
       "            ).addTo(map_6c285c78858decbf900c2b4189855eba);\n",
       "        \n",
       "    \n",
       "        var popup_d465155b864530aa9a68007a9626a2f9 = L.popup({\n",
       "  &quot;maxWidth&quot;: &quot;100%&quot;,\n",
       "});\n",
       "\n",
       "        \n",
       "            \n",
       "                var html_01ff119930896a844330d69905e1bd70 = $(`&lt;div id=&quot;html_01ff119930896a844330d69905e1bd70&quot; style=&quot;width: 100.0%; height: 100.0%;&quot;&gt;Precio: 1,800,000&lt;/div&gt;`)[0];\n",
       "                popup_d465155b864530aa9a68007a9626a2f9.setContent(html_01ff119930896a844330d69905e1bd70);\n",
       "            \n",
       "        \n",
       "\n",
       "        circle_marker_21990b00d9889705e9c3bacd6ebba1c8.bindPopup(popup_d465155b864530aa9a68007a9626a2f9)\n",
       "        ;\n",
       "\n",
       "        \n",
       "    \n",
       "    \n",
       "            var circle_marker_fd0cb279376ea316607598e24c0c4c1c = L.circleMarker(\n",
       "                [4.4415602278174, -75.239811348122],\n",
       "                {&quot;bubblingMouseEvents&quot;: true, &quot;color&quot;: &quot;blue&quot;, &quot;dashArray&quot;: null, &quot;dashOffset&quot;: null, &quot;fill&quot;: true, &quot;fillColor&quot;: &quot;blue&quot;, &quot;fillOpacity&quot;: 0.6, &quot;fillRule&quot;: &quot;evenodd&quot;, &quot;lineCap&quot;: &quot;round&quot;, &quot;lineJoin&quot;: &quot;round&quot;, &quot;opacity&quot;: 1.0, &quot;radius&quot;: 4, &quot;stroke&quot;: true, &quot;weight&quot;: 3}\n",
       "            ).addTo(map_6c285c78858decbf900c2b4189855eba);\n",
       "        \n",
       "    \n",
       "        var popup_6c8247d88dbf2b45fd1ad6e068ae91bd = L.popup({\n",
       "  &quot;maxWidth&quot;: &quot;100%&quot;,\n",
       "});\n",
       "\n",
       "        \n",
       "            \n",
       "                var html_a8c1632cad530b8d8dc84639e0e5dc54 = $(`&lt;div id=&quot;html_a8c1632cad530b8d8dc84639e0e5dc54&quot; style=&quot;width: 100.0%; height: 100.0%;&quot;&gt;Precio: 700,000&lt;/div&gt;`)[0];\n",
       "                popup_6c8247d88dbf2b45fd1ad6e068ae91bd.setContent(html_a8c1632cad530b8d8dc84639e0e5dc54);\n",
       "            \n",
       "        \n",
       "\n",
       "        circle_marker_fd0cb279376ea316607598e24c0c4c1c.bindPopup(popup_6c8247d88dbf2b45fd1ad6e068ae91bd)\n",
       "        ;\n",
       "\n",
       "        \n",
       "    \n",
       "    \n",
       "            var circle_marker_e2a9add5775723ee569ccf12748892e9 = L.circleMarker(\n",
       "                [4.4469263, -75.1549713],\n",
       "                {&quot;bubblingMouseEvents&quot;: true, &quot;color&quot;: &quot;blue&quot;, &quot;dashArray&quot;: null, &quot;dashOffset&quot;: null, &quot;fill&quot;: true, &quot;fillColor&quot;: &quot;blue&quot;, &quot;fillOpacity&quot;: 0.6, &quot;fillRule&quot;: &quot;evenodd&quot;, &quot;lineCap&quot;: &quot;round&quot;, &quot;lineJoin&quot;: &quot;round&quot;, &quot;opacity&quot;: 1.0, &quot;radius&quot;: 4, &quot;stroke&quot;: true, &quot;weight&quot;: 3}\n",
       "            ).addTo(map_6c285c78858decbf900c2b4189855eba);\n",
       "        \n",
       "    \n",
       "        var popup_c41daa791dd5f856b788ca5f9c70e4f0 = L.popup({\n",
       "  &quot;maxWidth&quot;: &quot;100%&quot;,\n",
       "});\n",
       "\n",
       "        \n",
       "            \n",
       "                var html_b603d8773e972617d699174c054139ce = $(`&lt;div id=&quot;html_b603d8773e972617d699174c054139ce&quot; style=&quot;width: 100.0%; height: 100.0%;&quot;&gt;Precio: 910,000&lt;/div&gt;`)[0];\n",
       "                popup_c41daa791dd5f856b788ca5f9c70e4f0.setContent(html_b603d8773e972617d699174c054139ce);\n",
       "            \n",
       "        \n",
       "\n",
       "        circle_marker_e2a9add5775723ee569ccf12748892e9.bindPopup(popup_c41daa791dd5f856b788ca5f9c70e4f0)\n",
       "        ;\n",
       "\n",
       "        \n",
       "    \n",
       "    \n",
       "            var circle_marker_5cd9d01b43f6bb22ddf575db60d3c27c = L.circleMarker(\n",
       "                [4.4497190813049, -75.143250853167],\n",
       "                {&quot;bubblingMouseEvents&quot;: true, &quot;color&quot;: &quot;blue&quot;, &quot;dashArray&quot;: null, &quot;dashOffset&quot;: null, &quot;fill&quot;: true, &quot;fillColor&quot;: &quot;blue&quot;, &quot;fillOpacity&quot;: 0.6, &quot;fillRule&quot;: &quot;evenodd&quot;, &quot;lineCap&quot;: &quot;round&quot;, &quot;lineJoin&quot;: &quot;round&quot;, &quot;opacity&quot;: 1.0, &quot;radius&quot;: 4, &quot;stroke&quot;: true, &quot;weight&quot;: 3}\n",
       "            ).addTo(map_6c285c78858decbf900c2b4189855eba);\n",
       "        \n",
       "    \n",
       "        var popup_dc5822cbcba7bb2b267f3308b235f719 = L.popup({\n",
       "  &quot;maxWidth&quot;: &quot;100%&quot;,\n",
       "});\n",
       "\n",
       "        \n",
       "            \n",
       "                var html_a4e190b0c5ec74739f3e4048764210a4 = $(`&lt;div id=&quot;html_a4e190b0c5ec74739f3e4048764210a4&quot; style=&quot;width: 100.0%; height: 100.0%;&quot;&gt;Precio: 529,000&lt;/div&gt;`)[0];\n",
       "                popup_dc5822cbcba7bb2b267f3308b235f719.setContent(html_a4e190b0c5ec74739f3e4048764210a4);\n",
       "            \n",
       "        \n",
       "\n",
       "        circle_marker_5cd9d01b43f6bb22ddf575db60d3c27c.bindPopup(popup_dc5822cbcba7bb2b267f3308b235f719)\n",
       "        ;\n",
       "\n",
       "        \n",
       "    \n",
       "    \n",
       "            var circle_marker_10cce3fad788dd118f9a82aa9aef99e4 = L.circleMarker(\n",
       "                [4.4278904, -75.1944134],\n",
       "                {&quot;bubblingMouseEvents&quot;: true, &quot;color&quot;: &quot;blue&quot;, &quot;dashArray&quot;: null, &quot;dashOffset&quot;: null, &quot;fill&quot;: true, &quot;fillColor&quot;: &quot;blue&quot;, &quot;fillOpacity&quot;: 0.6, &quot;fillRule&quot;: &quot;evenodd&quot;, &quot;lineCap&quot;: &quot;round&quot;, &quot;lineJoin&quot;: &quot;round&quot;, &quot;opacity&quot;: 1.0, &quot;radius&quot;: 4, &quot;stroke&quot;: true, &quot;weight&quot;: 3}\n",
       "            ).addTo(map_6c285c78858decbf900c2b4189855eba);\n",
       "        \n",
       "    \n",
       "        var popup_3e9696182b4a06207bc2269fa429ea2b = L.popup({\n",
       "  &quot;maxWidth&quot;: &quot;100%&quot;,\n",
       "});\n",
       "\n",
       "        \n",
       "            \n",
       "                var html_dcaa7f6db8d870af016f86b72db54802 = $(`&lt;div id=&quot;html_dcaa7f6db8d870af016f86b72db54802&quot; style=&quot;width: 100.0%; height: 100.0%;&quot;&gt;Precio: 1,400,000&lt;/div&gt;`)[0];\n",
       "                popup_3e9696182b4a06207bc2269fa429ea2b.setContent(html_dcaa7f6db8d870af016f86b72db54802);\n",
       "            \n",
       "        \n",
       "\n",
       "        circle_marker_10cce3fad788dd118f9a82aa9aef99e4.bindPopup(popup_3e9696182b4a06207bc2269fa429ea2b)\n",
       "        ;\n",
       "\n",
       "        \n",
       "    \n",
       "    \n",
       "            var circle_marker_ad19d3d422a1d14173d1e661375452ad = L.circleMarker(\n",
       "                [4.4202018412393, -75.170597713745],\n",
       "                {&quot;bubblingMouseEvents&quot;: true, &quot;color&quot;: &quot;blue&quot;, &quot;dashArray&quot;: null, &quot;dashOffset&quot;: null, &quot;fill&quot;: true, &quot;fillColor&quot;: &quot;blue&quot;, &quot;fillOpacity&quot;: 0.6, &quot;fillRule&quot;: &quot;evenodd&quot;, &quot;lineCap&quot;: &quot;round&quot;, &quot;lineJoin&quot;: &quot;round&quot;, &quot;opacity&quot;: 1.0, &quot;radius&quot;: 4, &quot;stroke&quot;: true, &quot;weight&quot;: 3}\n",
       "            ).addTo(map_6c285c78858decbf900c2b4189855eba);\n",
       "        \n",
       "    \n",
       "        var popup_c8fb058c2abb419325aa26051ae6f9d7 = L.popup({\n",
       "  &quot;maxWidth&quot;: &quot;100%&quot;,\n",
       "});\n",
       "\n",
       "        \n",
       "            \n",
       "                var html_16e46e413791188a72bd4c975c83b864 = $(`&lt;div id=&quot;html_16e46e413791188a72bd4c975c83b864&quot; style=&quot;width: 100.0%; height: 100.0%;&quot;&gt;Precio: 850,000&lt;/div&gt;`)[0];\n",
       "                popup_c8fb058c2abb419325aa26051ae6f9d7.setContent(html_16e46e413791188a72bd4c975c83b864);\n",
       "            \n",
       "        \n",
       "\n",
       "        circle_marker_ad19d3d422a1d14173d1e661375452ad.bindPopup(popup_c8fb058c2abb419325aa26051ae6f9d7)\n",
       "        ;\n",
       "\n",
       "        \n",
       "    \n",
       "    \n",
       "            var circle_marker_d5ef18814a5c7dae0605dd8be8be10f6 = L.circleMarker(\n",
       "                [4.4409932555375, -75.226097522809],\n",
       "                {&quot;bubblingMouseEvents&quot;: true, &quot;color&quot;: &quot;blue&quot;, &quot;dashArray&quot;: null, &quot;dashOffset&quot;: null, &quot;fill&quot;: true, &quot;fillColor&quot;: &quot;blue&quot;, &quot;fillOpacity&quot;: 0.6, &quot;fillRule&quot;: &quot;evenodd&quot;, &quot;lineCap&quot;: &quot;round&quot;, &quot;lineJoin&quot;: &quot;round&quot;, &quot;opacity&quot;: 1.0, &quot;radius&quot;: 4, &quot;stroke&quot;: true, &quot;weight&quot;: 3}\n",
       "            ).addTo(map_6c285c78858decbf900c2b4189855eba);\n",
       "        \n",
       "    \n",
       "        var popup_76c04edb008110c11580e800a8da1c6b = L.popup({\n",
       "  &quot;maxWidth&quot;: &quot;100%&quot;,\n",
       "});\n",
       "\n",
       "        \n",
       "            \n",
       "                var html_1898bcf374c04bd74f0867888ae8d989 = $(`&lt;div id=&quot;html_1898bcf374c04bd74f0867888ae8d989&quot; style=&quot;width: 100.0%; height: 100.0%;&quot;&gt;Precio: 3,000,000&lt;/div&gt;`)[0];\n",
       "                popup_76c04edb008110c11580e800a8da1c6b.setContent(html_1898bcf374c04bd74f0867888ae8d989);\n",
       "            \n",
       "        \n",
       "\n",
       "        circle_marker_d5ef18814a5c7dae0605dd8be8be10f6.bindPopup(popup_76c04edb008110c11580e800a8da1c6b)\n",
       "        ;\n",
       "\n",
       "        \n",
       "    \n",
       "    \n",
       "            var circle_marker_261fae531b2421a7d5277438daa77eaf = L.circleMarker(\n",
       "                [4.4216570942606, -75.171632766724],\n",
       "                {&quot;bubblingMouseEvents&quot;: true, &quot;color&quot;: &quot;blue&quot;, &quot;dashArray&quot;: null, &quot;dashOffset&quot;: null, &quot;fill&quot;: true, &quot;fillColor&quot;: &quot;blue&quot;, &quot;fillOpacity&quot;: 0.6, &quot;fillRule&quot;: &quot;evenodd&quot;, &quot;lineCap&quot;: &quot;round&quot;, &quot;lineJoin&quot;: &quot;round&quot;, &quot;opacity&quot;: 1.0, &quot;radius&quot;: 4, &quot;stroke&quot;: true, &quot;weight&quot;: 3}\n",
       "            ).addTo(map_6c285c78858decbf900c2b4189855eba);\n",
       "        \n",
       "    \n",
       "        var popup_65e1ac1fa5b08a3de2675dbba2df0124 = L.popup({\n",
       "  &quot;maxWidth&quot;: &quot;100%&quot;,\n",
       "});\n",
       "\n",
       "        \n",
       "            \n",
       "                var html_3ca82de3920289e85c3c9ef291e93234 = $(`&lt;div id=&quot;html_3ca82de3920289e85c3c9ef291e93234&quot; style=&quot;width: 100.0%; height: 100.0%;&quot;&gt;Precio: 1,090,000&lt;/div&gt;`)[0];\n",
       "                popup_65e1ac1fa5b08a3de2675dbba2df0124.setContent(html_3ca82de3920289e85c3c9ef291e93234);\n",
       "            \n",
       "        \n",
       "\n",
       "        circle_marker_261fae531b2421a7d5277438daa77eaf.bindPopup(popup_65e1ac1fa5b08a3de2675dbba2df0124)\n",
       "        ;\n",
       "\n",
       "        \n",
       "    \n",
       "    \n",
       "            var circle_marker_f79104b473b8ae009a06614535e83cd7 = L.circleMarker(\n",
       "                [4.4382063, -75.2167637],\n",
       "                {&quot;bubblingMouseEvents&quot;: true, &quot;color&quot;: &quot;blue&quot;, &quot;dashArray&quot;: null, &quot;dashOffset&quot;: null, &quot;fill&quot;: true, &quot;fillColor&quot;: &quot;blue&quot;, &quot;fillOpacity&quot;: 0.6, &quot;fillRule&quot;: &quot;evenodd&quot;, &quot;lineCap&quot;: &quot;round&quot;, &quot;lineJoin&quot;: &quot;round&quot;, &quot;opacity&quot;: 1.0, &quot;radius&quot;: 4, &quot;stroke&quot;: true, &quot;weight&quot;: 3}\n",
       "            ).addTo(map_6c285c78858decbf900c2b4189855eba);\n",
       "        \n",
       "    \n",
       "        var popup_c3b4269d08ead2cc069f93ffcdc5d05b = L.popup({\n",
       "  &quot;maxWidth&quot;: &quot;100%&quot;,\n",
       "});\n",
       "\n",
       "        \n",
       "            \n",
       "                var html_18ce36e919bb810ef6fa1f82c2165ce7 = $(`&lt;div id=&quot;html_18ce36e919bb810ef6fa1f82c2165ce7&quot; style=&quot;width: 100.0%; height: 100.0%;&quot;&gt;Precio: 1,100,000&lt;/div&gt;`)[0];\n",
       "                popup_c3b4269d08ead2cc069f93ffcdc5d05b.setContent(html_18ce36e919bb810ef6fa1f82c2165ce7);\n",
       "            \n",
       "        \n",
       "\n",
       "        circle_marker_f79104b473b8ae009a06614535e83cd7.bindPopup(popup_c3b4269d08ead2cc069f93ffcdc5d05b)\n",
       "        ;\n",
       "\n",
       "        \n",
       "    \n",
       "    \n",
       "            var circle_marker_878302473bf9f33307b5c1f563648059 = L.circleMarker(\n",
       "                [4.4311275, -75.1802893],\n",
       "                {&quot;bubblingMouseEvents&quot;: true, &quot;color&quot;: &quot;blue&quot;, &quot;dashArray&quot;: null, &quot;dashOffset&quot;: null, &quot;fill&quot;: true, &quot;fillColor&quot;: &quot;blue&quot;, &quot;fillOpacity&quot;: 0.6, &quot;fillRule&quot;: &quot;evenodd&quot;, &quot;lineCap&quot;: &quot;round&quot;, &quot;lineJoin&quot;: &quot;round&quot;, &quot;opacity&quot;: 1.0, &quot;radius&quot;: 4, &quot;stroke&quot;: true, &quot;weight&quot;: 3}\n",
       "            ).addTo(map_6c285c78858decbf900c2b4189855eba);\n",
       "        \n",
       "    \n",
       "        var popup_49021deebfd1e2992e817356e03194ed = L.popup({\n",
       "  &quot;maxWidth&quot;: &quot;100%&quot;,\n",
       "});\n",
       "\n",
       "        \n",
       "            \n",
       "                var html_c6f87a545988351c94b0d32a9ec29cc1 = $(`&lt;div id=&quot;html_c6f87a545988351c94b0d32a9ec29cc1&quot; style=&quot;width: 100.0%; height: 100.0%;&quot;&gt;Precio: 1,700,000&lt;/div&gt;`)[0];\n",
       "                popup_49021deebfd1e2992e817356e03194ed.setContent(html_c6f87a545988351c94b0d32a9ec29cc1);\n",
       "            \n",
       "        \n",
       "\n",
       "        circle_marker_878302473bf9f33307b5c1f563648059.bindPopup(popup_49021deebfd1e2992e817356e03194ed)\n",
       "        ;\n",
       "\n",
       "        \n",
       "    \n",
       "    \n",
       "            var circle_marker_60d36b09e5528173d77c3ea7b1f58048 = L.circleMarker(\n",
       "                [4.441244, -75.2012671],\n",
       "                {&quot;bubblingMouseEvents&quot;: true, &quot;color&quot;: &quot;blue&quot;, &quot;dashArray&quot;: null, &quot;dashOffset&quot;: null, &quot;fill&quot;: true, &quot;fillColor&quot;: &quot;blue&quot;, &quot;fillOpacity&quot;: 0.6, &quot;fillRule&quot;: &quot;evenodd&quot;, &quot;lineCap&quot;: &quot;round&quot;, &quot;lineJoin&quot;: &quot;round&quot;, &quot;opacity&quot;: 1.0, &quot;radius&quot;: 4, &quot;stroke&quot;: true, &quot;weight&quot;: 3}\n",
       "            ).addTo(map_6c285c78858decbf900c2b4189855eba);\n",
       "        \n",
       "    \n",
       "        var popup_cccb3355ead427be25c4dcad730a6571 = L.popup({\n",
       "  &quot;maxWidth&quot;: &quot;100%&quot;,\n",
       "});\n",
       "\n",
       "        \n",
       "            \n",
       "                var html_714d59069095e01a97fbf8e9aa5756ab = $(`&lt;div id=&quot;html_714d59069095e01a97fbf8e9aa5756ab&quot; style=&quot;width: 100.0%; height: 100.0%;&quot;&gt;Precio: 4,500,000&lt;/div&gt;`)[0];\n",
       "                popup_cccb3355ead427be25c4dcad730a6571.setContent(html_714d59069095e01a97fbf8e9aa5756ab);\n",
       "            \n",
       "        \n",
       "\n",
       "        circle_marker_60d36b09e5528173d77c3ea7b1f58048.bindPopup(popup_cccb3355ead427be25c4dcad730a6571)\n",
       "        ;\n",
       "\n",
       "        \n",
       "    \n",
       "    \n",
       "            var circle_marker_5fb75466af484de4925d0e6bbb65a908 = L.circleMarker(\n",
       "                [4.4188866, -75.1699607],\n",
       "                {&quot;bubblingMouseEvents&quot;: true, &quot;color&quot;: &quot;blue&quot;, &quot;dashArray&quot;: null, &quot;dashOffset&quot;: null, &quot;fill&quot;: true, &quot;fillColor&quot;: &quot;blue&quot;, &quot;fillOpacity&quot;: 0.6, &quot;fillRule&quot;: &quot;evenodd&quot;, &quot;lineCap&quot;: &quot;round&quot;, &quot;lineJoin&quot;: &quot;round&quot;, &quot;opacity&quot;: 1.0, &quot;radius&quot;: 4, &quot;stroke&quot;: true, &quot;weight&quot;: 3}\n",
       "            ).addTo(map_6c285c78858decbf900c2b4189855eba);\n",
       "        \n",
       "    \n",
       "        var popup_a902f8606096b77f83b50ecd30059fee = L.popup({\n",
       "  &quot;maxWidth&quot;: &quot;100%&quot;,\n",
       "});\n",
       "\n",
       "        \n",
       "            \n",
       "                var html_7197ff5bc70da7f75a49bd8ea99419bd = $(`&lt;div id=&quot;html_7197ff5bc70da7f75a49bd8ea99419bd&quot; style=&quot;width: 100.0%; height: 100.0%;&quot;&gt;Precio: 1,300,000&lt;/div&gt;`)[0];\n",
       "                popup_a902f8606096b77f83b50ecd30059fee.setContent(html_7197ff5bc70da7f75a49bd8ea99419bd);\n",
       "            \n",
       "        \n",
       "\n",
       "        circle_marker_5fb75466af484de4925d0e6bbb65a908.bindPopup(popup_a902f8606096b77f83b50ecd30059fee)\n",
       "        ;\n",
       "\n",
       "        \n",
       "    \n",
       "    \n",
       "            var circle_marker_1184d561a3d8c1f6a8b1025f9ec0f5b9 = L.circleMarker(\n",
       "                [4.4506916, -75.1975684],\n",
       "                {&quot;bubblingMouseEvents&quot;: true, &quot;color&quot;: &quot;blue&quot;, &quot;dashArray&quot;: null, &quot;dashOffset&quot;: null, &quot;fill&quot;: true, &quot;fillColor&quot;: &quot;blue&quot;, &quot;fillOpacity&quot;: 0.6, &quot;fillRule&quot;: &quot;evenodd&quot;, &quot;lineCap&quot;: &quot;round&quot;, &quot;lineJoin&quot;: &quot;round&quot;, &quot;opacity&quot;: 1.0, &quot;radius&quot;: 4, &quot;stroke&quot;: true, &quot;weight&quot;: 3}\n",
       "            ).addTo(map_6c285c78858decbf900c2b4189855eba);\n",
       "        \n",
       "    \n",
       "        var popup_677f57872f4970e6233ebd3a75c64378 = L.popup({\n",
       "  &quot;maxWidth&quot;: &quot;100%&quot;,\n",
       "});\n",
       "\n",
       "        \n",
       "            \n",
       "                var html_8eedc504360e4ba15bd546302934cab4 = $(`&lt;div id=&quot;html_8eedc504360e4ba15bd546302934cab4&quot; style=&quot;width: 100.0%; height: 100.0%;&quot;&gt;Precio: 8,000,000&lt;/div&gt;`)[0];\n",
       "                popup_677f57872f4970e6233ebd3a75c64378.setContent(html_8eedc504360e4ba15bd546302934cab4);\n",
       "            \n",
       "        \n",
       "\n",
       "        circle_marker_1184d561a3d8c1f6a8b1025f9ec0f5b9.bindPopup(popup_677f57872f4970e6233ebd3a75c64378)\n",
       "        ;\n",
       "\n",
       "        \n",
       "    \n",
       "    \n",
       "            var circle_marker_456b316b350fc831c6e0ae42e0b4ed81 = L.circleMarker(\n",
       "                [4.4476712356496, -75.210792609161],\n",
       "                {&quot;bubblingMouseEvents&quot;: true, &quot;color&quot;: &quot;blue&quot;, &quot;dashArray&quot;: null, &quot;dashOffset&quot;: null, &quot;fill&quot;: true, &quot;fillColor&quot;: &quot;blue&quot;, &quot;fillOpacity&quot;: 0.6, &quot;fillRule&quot;: &quot;evenodd&quot;, &quot;lineCap&quot;: &quot;round&quot;, &quot;lineJoin&quot;: &quot;round&quot;, &quot;opacity&quot;: 1.0, &quot;radius&quot;: 4, &quot;stroke&quot;: true, &quot;weight&quot;: 3}\n",
       "            ).addTo(map_6c285c78858decbf900c2b4189855eba);\n",
       "        \n",
       "    \n",
       "        var popup_8c1aeed79c071f82c9d13d2ff3061bd2 = L.popup({\n",
       "  &quot;maxWidth&quot;: &quot;100%&quot;,\n",
       "});\n",
       "\n",
       "        \n",
       "            \n",
       "                var html_ebf38342a3e3353fc2723d14b167877b = $(`&lt;div id=&quot;html_ebf38342a3e3353fc2723d14b167877b&quot; style=&quot;width: 100.0%; height: 100.0%;&quot;&gt;Precio: 1,437,600&lt;/div&gt;`)[0];\n",
       "                popup_8c1aeed79c071f82c9d13d2ff3061bd2.setContent(html_ebf38342a3e3353fc2723d14b167877b);\n",
       "            \n",
       "        \n",
       "\n",
       "        circle_marker_456b316b350fc831c6e0ae42e0b4ed81.bindPopup(popup_8c1aeed79c071f82c9d13d2ff3061bd2)\n",
       "        ;\n",
       "\n",
       "        \n",
       "    \n",
       "    \n",
       "            var circle_marker_8b2be5a220d32837788b4ddc66c2ef35 = L.circleMarker(\n",
       "                [4.4395746120202, -75.228604956223],\n",
       "                {&quot;bubblingMouseEvents&quot;: true, &quot;color&quot;: &quot;blue&quot;, &quot;dashArray&quot;: null, &quot;dashOffset&quot;: null, &quot;fill&quot;: true, &quot;fillColor&quot;: &quot;blue&quot;, &quot;fillOpacity&quot;: 0.6, &quot;fillRule&quot;: &quot;evenodd&quot;, &quot;lineCap&quot;: &quot;round&quot;, &quot;lineJoin&quot;: &quot;round&quot;, &quot;opacity&quot;: 1.0, &quot;radius&quot;: 4, &quot;stroke&quot;: true, &quot;weight&quot;: 3}\n",
       "            ).addTo(map_6c285c78858decbf900c2b4189855eba);\n",
       "        \n",
       "    \n",
       "        var popup_b869dba9258c7b20a8a6a124c0304aaa = L.popup({\n",
       "  &quot;maxWidth&quot;: &quot;100%&quot;,\n",
       "});\n",
       "\n",
       "        \n",
       "            \n",
       "                var html_531155feb87045f9d97641828618ef97 = $(`&lt;div id=&quot;html_531155feb87045f9d97641828618ef97&quot; style=&quot;width: 100.0%; height: 100.0%;&quot;&gt;Precio: 1,500,000&lt;/div&gt;`)[0];\n",
       "                popup_b869dba9258c7b20a8a6a124c0304aaa.setContent(html_531155feb87045f9d97641828618ef97);\n",
       "            \n",
       "        \n",
       "\n",
       "        circle_marker_8b2be5a220d32837788b4ddc66c2ef35.bindPopup(popup_b869dba9258c7b20a8a6a124c0304aaa)\n",
       "        ;\n",
       "\n",
       "        \n",
       "    \n",
       "    \n",
       "            var circle_marker_a65bbdc0b97de54f377e09f24064c405 = L.circleMarker(\n",
       "                [4.4176778354272, -75.17858505249],\n",
       "                {&quot;bubblingMouseEvents&quot;: true, &quot;color&quot;: &quot;blue&quot;, &quot;dashArray&quot;: null, &quot;dashOffset&quot;: null, &quot;fill&quot;: true, &quot;fillColor&quot;: &quot;blue&quot;, &quot;fillOpacity&quot;: 0.6, &quot;fillRule&quot;: &quot;evenodd&quot;, &quot;lineCap&quot;: &quot;round&quot;, &quot;lineJoin&quot;: &quot;round&quot;, &quot;opacity&quot;: 1.0, &quot;radius&quot;: 4, &quot;stroke&quot;: true, &quot;weight&quot;: 3}\n",
       "            ).addTo(map_6c285c78858decbf900c2b4189855eba);\n",
       "        \n",
       "    \n",
       "        var popup_e252e4d8bbacd113fc54d513aca19210 = L.popup({\n",
       "  &quot;maxWidth&quot;: &quot;100%&quot;,\n",
       "});\n",
       "\n",
       "        \n",
       "            \n",
       "                var html_1755a4798c662fc6b8803f2563ba455a = $(`&lt;div id=&quot;html_1755a4798c662fc6b8803f2563ba455a&quot; style=&quot;width: 100.0%; height: 100.0%;&quot;&gt;Precio: 2,300,000&lt;/div&gt;`)[0];\n",
       "                popup_e252e4d8bbacd113fc54d513aca19210.setContent(html_1755a4798c662fc6b8803f2563ba455a);\n",
       "            \n",
       "        \n",
       "\n",
       "        circle_marker_a65bbdc0b97de54f377e09f24064c405.bindPopup(popup_e252e4d8bbacd113fc54d513aca19210)\n",
       "        ;\n",
       "\n",
       "        \n",
       "    \n",
       "    \n",
       "            var circle_marker_0aa603bc1066f3952805a6e1015ac132 = L.circleMarker(\n",
       "                [4.4250928, -75.1409698],\n",
       "                {&quot;bubblingMouseEvents&quot;: true, &quot;color&quot;: &quot;blue&quot;, &quot;dashArray&quot;: null, &quot;dashOffset&quot;: null, &quot;fill&quot;: true, &quot;fillColor&quot;: &quot;blue&quot;, &quot;fillOpacity&quot;: 0.6, &quot;fillRule&quot;: &quot;evenodd&quot;, &quot;lineCap&quot;: &quot;round&quot;, &quot;lineJoin&quot;: &quot;round&quot;, &quot;opacity&quot;: 1.0, &quot;radius&quot;: 4, &quot;stroke&quot;: true, &quot;weight&quot;: 3}\n",
       "            ).addTo(map_6c285c78858decbf900c2b4189855eba);\n",
       "        \n",
       "    \n",
       "        var popup_118e3a6b26fb1be50158ebd572e6de81 = L.popup({\n",
       "  &quot;maxWidth&quot;: &quot;100%&quot;,\n",
       "});\n",
       "\n",
       "        \n",
       "            \n",
       "                var html_61a627a03fb5791bc2d815b89d8b5b80 = $(`&lt;div id=&quot;html_61a627a03fb5791bc2d815b89d8b5b80&quot; style=&quot;width: 100.0%; height: 100.0%;&quot;&gt;Precio: 1,050,000&lt;/div&gt;`)[0];\n",
       "                popup_118e3a6b26fb1be50158ebd572e6de81.setContent(html_61a627a03fb5791bc2d815b89d8b5b80);\n",
       "            \n",
       "        \n",
       "\n",
       "        circle_marker_0aa603bc1066f3952805a6e1015ac132.bindPopup(popup_118e3a6b26fb1be50158ebd572e6de81)\n",
       "        ;\n",
       "\n",
       "        \n",
       "    \n",
       "    \n",
       "            var circle_marker_7b98fbc6a6e2f6f735bfa9fd417d9609 = L.circleMarker(\n",
       "                [4.4496238451596, -75.143888048647],\n",
       "                {&quot;bubblingMouseEvents&quot;: true, &quot;color&quot;: &quot;blue&quot;, &quot;dashArray&quot;: null, &quot;dashOffset&quot;: null, &quot;fill&quot;: true, &quot;fillColor&quot;: &quot;blue&quot;, &quot;fillOpacity&quot;: 0.6, &quot;fillRule&quot;: &quot;evenodd&quot;, &quot;lineCap&quot;: &quot;round&quot;, &quot;lineJoin&quot;: &quot;round&quot;, &quot;opacity&quot;: 1.0, &quot;radius&quot;: 4, &quot;stroke&quot;: true, &quot;weight&quot;: 3}\n",
       "            ).addTo(map_6c285c78858decbf900c2b4189855eba);\n",
       "        \n",
       "    \n",
       "        var popup_7a462a4b1227c33921396e32b07fe38c = L.popup({\n",
       "  &quot;maxWidth&quot;: &quot;100%&quot;,\n",
       "});\n",
       "\n",
       "        \n",
       "            \n",
       "                var html_b23f2122b81f02a171dd77f5cc4a70c2 = $(`&lt;div id=&quot;html_b23f2122b81f02a171dd77f5cc4a70c2&quot; style=&quot;width: 100.0%; height: 100.0%;&quot;&gt;Precio: 600,000&lt;/div&gt;`)[0];\n",
       "                popup_7a462a4b1227c33921396e32b07fe38c.setContent(html_b23f2122b81f02a171dd77f5cc4a70c2);\n",
       "            \n",
       "        \n",
       "\n",
       "        circle_marker_7b98fbc6a6e2f6f735bfa9fd417d9609.bindPopup(popup_7a462a4b1227c33921396e32b07fe38c)\n",
       "        ;\n",
       "\n",
       "        \n",
       "    \n",
       "    \n",
       "            var circle_marker_0345cc4166fe020bb504590ad5cd21a7 = L.circleMarker(\n",
       "                [4.4216570942606, -75.171632766724],\n",
       "                {&quot;bubblingMouseEvents&quot;: true, &quot;color&quot;: &quot;blue&quot;, &quot;dashArray&quot;: null, &quot;dashOffset&quot;: null, &quot;fill&quot;: true, &quot;fillColor&quot;: &quot;blue&quot;, &quot;fillOpacity&quot;: 0.6, &quot;fillRule&quot;: &quot;evenodd&quot;, &quot;lineCap&quot;: &quot;round&quot;, &quot;lineJoin&quot;: &quot;round&quot;, &quot;opacity&quot;: 1.0, &quot;radius&quot;: 4, &quot;stroke&quot;: true, &quot;weight&quot;: 3}\n",
       "            ).addTo(map_6c285c78858decbf900c2b4189855eba);\n",
       "        \n",
       "    \n",
       "        var popup_4ed61475132e0b67e3189bf26b0aedbf = L.popup({\n",
       "  &quot;maxWidth&quot;: &quot;100%&quot;,\n",
       "});\n",
       "\n",
       "        \n",
       "            \n",
       "                var html_b618b79fbf3aefe8cacf177b675e3054 = $(`&lt;div id=&quot;html_b618b79fbf3aefe8cacf177b675e3054&quot; style=&quot;width: 100.0%; height: 100.0%;&quot;&gt;Precio: 1,130,000&lt;/div&gt;`)[0];\n",
       "                popup_4ed61475132e0b67e3189bf26b0aedbf.setContent(html_b618b79fbf3aefe8cacf177b675e3054);\n",
       "            \n",
       "        \n",
       "\n",
       "        circle_marker_0345cc4166fe020bb504590ad5cd21a7.bindPopup(popup_4ed61475132e0b67e3189bf26b0aedbf)\n",
       "        ;\n",
       "\n",
       "        \n",
       "    \n",
       "    \n",
       "            var circle_marker_ed858d230b824d7d30fc93ecb9ca21f2 = L.circleMarker(\n",
       "                [4.4322335, -75.1769936],\n",
       "                {&quot;bubblingMouseEvents&quot;: true, &quot;color&quot;: &quot;blue&quot;, &quot;dashArray&quot;: null, &quot;dashOffset&quot;: null, &quot;fill&quot;: true, &quot;fillColor&quot;: &quot;blue&quot;, &quot;fillOpacity&quot;: 0.6, &quot;fillRule&quot;: &quot;evenodd&quot;, &quot;lineCap&quot;: &quot;round&quot;, &quot;lineJoin&quot;: &quot;round&quot;, &quot;opacity&quot;: 1.0, &quot;radius&quot;: 4, &quot;stroke&quot;: true, &quot;weight&quot;: 3}\n",
       "            ).addTo(map_6c285c78858decbf900c2b4189855eba);\n",
       "        \n",
       "    \n",
       "        var popup_f37f1a00ecad0e9406e9604fde7e88d0 = L.popup({\n",
       "  &quot;maxWidth&quot;: &quot;100%&quot;,\n",
       "});\n",
       "\n",
       "        \n",
       "            \n",
       "                var html_a326ccd95a9a4620e16f83772e080c71 = $(`&lt;div id=&quot;html_a326ccd95a9a4620e16f83772e080c71&quot; style=&quot;width: 100.0%; height: 100.0%;&quot;&gt;Precio: 1,750,000&lt;/div&gt;`)[0];\n",
       "                popup_f37f1a00ecad0e9406e9604fde7e88d0.setContent(html_a326ccd95a9a4620e16f83772e080c71);\n",
       "            \n",
       "        \n",
       "\n",
       "        circle_marker_ed858d230b824d7d30fc93ecb9ca21f2.bindPopup(popup_f37f1a00ecad0e9406e9604fde7e88d0)\n",
       "        ;\n",
       "\n",
       "        \n",
       "    \n",
       "    \n",
       "            var circle_marker_89af4bf1576e2f636cd0efd918e85d87 = L.circleMarker(\n",
       "                [4.4265606, -75.1775612],\n",
       "                {&quot;bubblingMouseEvents&quot;: true, &quot;color&quot;: &quot;blue&quot;, &quot;dashArray&quot;: null, &quot;dashOffset&quot;: null, &quot;fill&quot;: true, &quot;fillColor&quot;: &quot;blue&quot;, &quot;fillOpacity&quot;: 0.6, &quot;fillRule&quot;: &quot;evenodd&quot;, &quot;lineCap&quot;: &quot;round&quot;, &quot;lineJoin&quot;: &quot;round&quot;, &quot;opacity&quot;: 1.0, &quot;radius&quot;: 4, &quot;stroke&quot;: true, &quot;weight&quot;: 3}\n",
       "            ).addTo(map_6c285c78858decbf900c2b4189855eba);\n",
       "        \n",
       "    \n",
       "        var popup_49a877bb31a3925dabeff00e4585f92b = L.popup({\n",
       "  &quot;maxWidth&quot;: &quot;100%&quot;,\n",
       "});\n",
       "\n",
       "        \n",
       "            \n",
       "                var html_27ac6e69ced46c4bc8e1132933c190d4 = $(`&lt;div id=&quot;html_27ac6e69ced46c4bc8e1132933c190d4&quot; style=&quot;width: 100.0%; height: 100.0%;&quot;&gt;Precio: 1,250,000&lt;/div&gt;`)[0];\n",
       "                popup_49a877bb31a3925dabeff00e4585f92b.setContent(html_27ac6e69ced46c4bc8e1132933c190d4);\n",
       "            \n",
       "        \n",
       "\n",
       "        circle_marker_89af4bf1576e2f636cd0efd918e85d87.bindPopup(popup_49a877bb31a3925dabeff00e4585f92b)\n",
       "        ;\n",
       "\n",
       "        \n",
       "    \n",
       "    \n",
       "            var circle_marker_144ea3ae51e18cd3c871cf3362508737 = L.circleMarker(\n",
       "                [4.4365597386275, -75.224654726503],\n",
       "                {&quot;bubblingMouseEvents&quot;: true, &quot;color&quot;: &quot;blue&quot;, &quot;dashArray&quot;: null, &quot;dashOffset&quot;: null, &quot;fill&quot;: true, &quot;fillColor&quot;: &quot;blue&quot;, &quot;fillOpacity&quot;: 0.6, &quot;fillRule&quot;: &quot;evenodd&quot;, &quot;lineCap&quot;: &quot;round&quot;, &quot;lineJoin&quot;: &quot;round&quot;, &quot;opacity&quot;: 1.0, &quot;radius&quot;: 4, &quot;stroke&quot;: true, &quot;weight&quot;: 3}\n",
       "            ).addTo(map_6c285c78858decbf900c2b4189855eba);\n",
       "        \n",
       "    \n",
       "        var popup_8b46069604ffa56ce095158c72328a56 = L.popup({\n",
       "  &quot;maxWidth&quot;: &quot;100%&quot;,\n",
       "});\n",
       "\n",
       "        \n",
       "            \n",
       "                var html_8662f3172ec0452fc739027ae0c6a068 = $(`&lt;div id=&quot;html_8662f3172ec0452fc739027ae0c6a068&quot; style=&quot;width: 100.0%; height: 100.0%;&quot;&gt;Precio: 1,350,000&lt;/div&gt;`)[0];\n",
       "                popup_8b46069604ffa56ce095158c72328a56.setContent(html_8662f3172ec0452fc739027ae0c6a068);\n",
       "            \n",
       "        \n",
       "\n",
       "        circle_marker_144ea3ae51e18cd3c871cf3362508737.bindPopup(popup_8b46069604ffa56ce095158c72328a56)\n",
       "        ;\n",
       "\n",
       "        \n",
       "    \n",
       "    \n",
       "            var circle_marker_54060d2a755a75408b530d28bad9cc08 = L.circleMarker(\n",
       "                [4.4466481, -75.152505],\n",
       "                {&quot;bubblingMouseEvents&quot;: true, &quot;color&quot;: &quot;blue&quot;, &quot;dashArray&quot;: null, &quot;dashOffset&quot;: null, &quot;fill&quot;: true, &quot;fillColor&quot;: &quot;blue&quot;, &quot;fillOpacity&quot;: 0.6, &quot;fillRule&quot;: &quot;evenodd&quot;, &quot;lineCap&quot;: &quot;round&quot;, &quot;lineJoin&quot;: &quot;round&quot;, &quot;opacity&quot;: 1.0, &quot;radius&quot;: 4, &quot;stroke&quot;: true, &quot;weight&quot;: 3}\n",
       "            ).addTo(map_6c285c78858decbf900c2b4189855eba);\n",
       "        \n",
       "    \n",
       "        var popup_c724a64fa4f0b5c382efb66fde89e1b8 = L.popup({\n",
       "  &quot;maxWidth&quot;: &quot;100%&quot;,\n",
       "});\n",
       "\n",
       "        \n",
       "            \n",
       "                var html_71a68e230de1332b1f5cdc96249ee3d7 = $(`&lt;div id=&quot;html_71a68e230de1332b1f5cdc96249ee3d7&quot; style=&quot;width: 100.0%; height: 100.0%;&quot;&gt;Precio: 800,000&lt;/div&gt;`)[0];\n",
       "                popup_c724a64fa4f0b5c382efb66fde89e1b8.setContent(html_71a68e230de1332b1f5cdc96249ee3d7);\n",
       "            \n",
       "        \n",
       "\n",
       "        circle_marker_54060d2a755a75408b530d28bad9cc08.bindPopup(popup_c724a64fa4f0b5c382efb66fde89e1b8)\n",
       "        ;\n",
       "\n",
       "        \n",
       "    \n",
       "    \n",
       "            var circle_marker_8ac9b7c341efd32ae0aefd454e6952bb = L.circleMarker(\n",
       "                [4.4375866219326, -75.167863419215],\n",
       "                {&quot;bubblingMouseEvents&quot;: true, &quot;color&quot;: &quot;blue&quot;, &quot;dashArray&quot;: null, &quot;dashOffset&quot;: null, &quot;fill&quot;: true, &quot;fillColor&quot;: &quot;blue&quot;, &quot;fillOpacity&quot;: 0.6, &quot;fillRule&quot;: &quot;evenodd&quot;, &quot;lineCap&quot;: &quot;round&quot;, &quot;lineJoin&quot;: &quot;round&quot;, &quot;opacity&quot;: 1.0, &quot;radius&quot;: 4, &quot;stroke&quot;: true, &quot;weight&quot;: 3}\n",
       "            ).addTo(map_6c285c78858decbf900c2b4189855eba);\n",
       "        \n",
       "    \n",
       "        var popup_b6c64b601d8f990d8630426fb2e607b9 = L.popup({\n",
       "  &quot;maxWidth&quot;: &quot;100%&quot;,\n",
       "});\n",
       "\n",
       "        \n",
       "            \n",
       "                var html_c886c28d90af4d6eb701b213ad4886cf = $(`&lt;div id=&quot;html_c886c28d90af4d6eb701b213ad4886cf&quot; style=&quot;width: 100.0%; height: 100.0%;&quot;&gt;Precio: 800,000&lt;/div&gt;`)[0];\n",
       "                popup_b6c64b601d8f990d8630426fb2e607b9.setContent(html_c886c28d90af4d6eb701b213ad4886cf);\n",
       "            \n",
       "        \n",
       "\n",
       "        circle_marker_8ac9b7c341efd32ae0aefd454e6952bb.bindPopup(popup_b6c64b601d8f990d8630426fb2e607b9)\n",
       "        ;\n",
       "\n",
       "        \n",
       "    \n",
       "    \n",
       "            var circle_marker_9b688d70c1c2910e204e00d497e6f9ae = L.circleMarker(\n",
       "                [4.4475546, -75.199221],\n",
       "                {&quot;bubblingMouseEvents&quot;: true, &quot;color&quot;: &quot;blue&quot;, &quot;dashArray&quot;: null, &quot;dashOffset&quot;: null, &quot;fill&quot;: true, &quot;fillColor&quot;: &quot;blue&quot;, &quot;fillOpacity&quot;: 0.6, &quot;fillRule&quot;: &quot;evenodd&quot;, &quot;lineCap&quot;: &quot;round&quot;, &quot;lineJoin&quot;: &quot;round&quot;, &quot;opacity&quot;: 1.0, &quot;radius&quot;: 4, &quot;stroke&quot;: true, &quot;weight&quot;: 3}\n",
       "            ).addTo(map_6c285c78858decbf900c2b4189855eba);\n",
       "        \n",
       "    \n",
       "        var popup_cc46ebced215adcd5bdede765cb7a53e = L.popup({\n",
       "  &quot;maxWidth&quot;: &quot;100%&quot;,\n",
       "});\n",
       "\n",
       "        \n",
       "            \n",
       "                var html_725d9c50ad9aec8bf6a76496e4e2d473 = $(`&lt;div id=&quot;html_725d9c50ad9aec8bf6a76496e4e2d473&quot; style=&quot;width: 100.0%; height: 100.0%;&quot;&gt;Precio: 1,720,000&lt;/div&gt;`)[0];\n",
       "                popup_cc46ebced215adcd5bdede765cb7a53e.setContent(html_725d9c50ad9aec8bf6a76496e4e2d473);\n",
       "            \n",
       "        \n",
       "\n",
       "        circle_marker_9b688d70c1c2910e204e00d497e6f9ae.bindPopup(popup_cc46ebced215adcd5bdede765cb7a53e)\n",
       "        ;\n",
       "\n",
       "        \n",
       "    \n",
       "    \n",
       "            var circle_marker_a3f15c3a1065cbe441ca10458b79adf0 = L.circleMarker(\n",
       "                [4.444676, -75.242438],\n",
       "                {&quot;bubblingMouseEvents&quot;: true, &quot;color&quot;: &quot;blue&quot;, &quot;dashArray&quot;: null, &quot;dashOffset&quot;: null, &quot;fill&quot;: true, &quot;fillColor&quot;: &quot;blue&quot;, &quot;fillOpacity&quot;: 0.6, &quot;fillRule&quot;: &quot;evenodd&quot;, &quot;lineCap&quot;: &quot;round&quot;, &quot;lineJoin&quot;: &quot;round&quot;, &quot;opacity&quot;: 1.0, &quot;radius&quot;: 4, &quot;stroke&quot;: true, &quot;weight&quot;: 3}\n",
       "            ).addTo(map_6c285c78858decbf900c2b4189855eba);\n",
       "        \n",
       "    \n",
       "        var popup_f73b1af42c381c3404b866c20166e6d4 = L.popup({\n",
       "  &quot;maxWidth&quot;: &quot;100%&quot;,\n",
       "});\n",
       "\n",
       "        \n",
       "            \n",
       "                var html_d4aeaba5c6980b55fa11de2f22a335c2 = $(`&lt;div id=&quot;html_d4aeaba5c6980b55fa11de2f22a335c2&quot; style=&quot;width: 100.0%; height: 100.0%;&quot;&gt;Precio: 1,200,000&lt;/div&gt;`)[0];\n",
       "                popup_f73b1af42c381c3404b866c20166e6d4.setContent(html_d4aeaba5c6980b55fa11de2f22a335c2);\n",
       "            \n",
       "        \n",
       "\n",
       "        circle_marker_a3f15c3a1065cbe441ca10458b79adf0.bindPopup(popup_f73b1af42c381c3404b866c20166e6d4)\n",
       "        ;\n",
       "\n",
       "        \n",
       "    \n",
       "    \n",
       "            var circle_marker_b7e9d4bd7e75c561127f98d21bc18242 = L.circleMarker(\n",
       "                [4.447338, -75.2018875],\n",
       "                {&quot;bubblingMouseEvents&quot;: true, &quot;color&quot;: &quot;blue&quot;, &quot;dashArray&quot;: null, &quot;dashOffset&quot;: null, &quot;fill&quot;: true, &quot;fillColor&quot;: &quot;blue&quot;, &quot;fillOpacity&quot;: 0.6, &quot;fillRule&quot;: &quot;evenodd&quot;, &quot;lineCap&quot;: &quot;round&quot;, &quot;lineJoin&quot;: &quot;round&quot;, &quot;opacity&quot;: 1.0, &quot;radius&quot;: 4, &quot;stroke&quot;: true, &quot;weight&quot;: 3}\n",
       "            ).addTo(map_6c285c78858decbf900c2b4189855eba);\n",
       "        \n",
       "    \n",
       "        var popup_7218003f586735efbcfe77ff25e0041d = L.popup({\n",
       "  &quot;maxWidth&quot;: &quot;100%&quot;,\n",
       "});\n",
       "\n",
       "        \n",
       "            \n",
       "                var html_bba1ead7d1923ce2cf3a9acf27b988e1 = $(`&lt;div id=&quot;html_bba1ead7d1923ce2cf3a9acf27b988e1&quot; style=&quot;width: 100.0%; height: 100.0%;&quot;&gt;Precio: 1,000,000&lt;/div&gt;`)[0];\n",
       "                popup_7218003f586735efbcfe77ff25e0041d.setContent(html_bba1ead7d1923ce2cf3a9acf27b988e1);\n",
       "            \n",
       "        \n",
       "\n",
       "        circle_marker_b7e9d4bd7e75c561127f98d21bc18242.bindPopup(popup_7218003f586735efbcfe77ff25e0041d)\n",
       "        ;\n",
       "\n",
       "        \n",
       "    \n",
       "    \n",
       "            var circle_marker_7b343fedf2b6c45d1b8f424214e93b03 = L.circleMarker(\n",
       "                [4.4164199, -75.14889],\n",
       "                {&quot;bubblingMouseEvents&quot;: true, &quot;color&quot;: &quot;blue&quot;, &quot;dashArray&quot;: null, &quot;dashOffset&quot;: null, &quot;fill&quot;: true, &quot;fillColor&quot;: &quot;blue&quot;, &quot;fillOpacity&quot;: 0.6, &quot;fillRule&quot;: &quot;evenodd&quot;, &quot;lineCap&quot;: &quot;round&quot;, &quot;lineJoin&quot;: &quot;round&quot;, &quot;opacity&quot;: 1.0, &quot;radius&quot;: 4, &quot;stroke&quot;: true, &quot;weight&quot;: 3}\n",
       "            ).addTo(map_6c285c78858decbf900c2b4189855eba);\n",
       "        \n",
       "    \n",
       "        var popup_45e12d45b2f3e4cc811875af9c7856e3 = L.popup({\n",
       "  &quot;maxWidth&quot;: &quot;100%&quot;,\n",
       "});\n",
       "\n",
       "        \n",
       "            \n",
       "                var html_89368048183215e8cb7bd63ac352f3ec = $(`&lt;div id=&quot;html_89368048183215e8cb7bd63ac352f3ec&quot; style=&quot;width: 100.0%; height: 100.0%;&quot;&gt;Precio: 700,000&lt;/div&gt;`)[0];\n",
       "                popup_45e12d45b2f3e4cc811875af9c7856e3.setContent(html_89368048183215e8cb7bd63ac352f3ec);\n",
       "            \n",
       "        \n",
       "\n",
       "        circle_marker_7b343fedf2b6c45d1b8f424214e93b03.bindPopup(popup_45e12d45b2f3e4cc811875af9c7856e3)\n",
       "        ;\n",
       "\n",
       "        \n",
       "    \n",
       "    \n",
       "            var circle_marker_a65bc3cc37df6f3471daef4e55d41bdf = L.circleMarker(\n",
       "                [4.4199862026016, -75.17050171271],\n",
       "                {&quot;bubblingMouseEvents&quot;: true, &quot;color&quot;: &quot;blue&quot;, &quot;dashArray&quot;: null, &quot;dashOffset&quot;: null, &quot;fill&quot;: true, &quot;fillColor&quot;: &quot;blue&quot;, &quot;fillOpacity&quot;: 0.6, &quot;fillRule&quot;: &quot;evenodd&quot;, &quot;lineCap&quot;: &quot;round&quot;, &quot;lineJoin&quot;: &quot;round&quot;, &quot;opacity&quot;: 1.0, &quot;radius&quot;: 4, &quot;stroke&quot;: true, &quot;weight&quot;: 3}\n",
       "            ).addTo(map_6c285c78858decbf900c2b4189855eba);\n",
       "        \n",
       "    \n",
       "        var popup_5269d8836ac5e053a06a66cb75fc59fd = L.popup({\n",
       "  &quot;maxWidth&quot;: &quot;100%&quot;,\n",
       "});\n",
       "\n",
       "        \n",
       "            \n",
       "                var html_6731aab340e9f11dad0836397210dadd = $(`&lt;div id=&quot;html_6731aab340e9f11dad0836397210dadd&quot; style=&quot;width: 100.0%; height: 100.0%;&quot;&gt;Precio: 972,000&lt;/div&gt;`)[0];\n",
       "                popup_5269d8836ac5e053a06a66cb75fc59fd.setContent(html_6731aab340e9f11dad0836397210dadd);\n",
       "            \n",
       "        \n",
       "\n",
       "        circle_marker_a65bc3cc37df6f3471daef4e55d41bdf.bindPopup(popup_5269d8836ac5e053a06a66cb75fc59fd)\n",
       "        ;\n",
       "\n",
       "        \n",
       "    \n",
       "    \n",
       "            var circle_marker_74cf8c014c2f2ce8c50e0eb218755884 = L.circleMarker(\n",
       "                [4.444676, -75.242438],\n",
       "                {&quot;bubblingMouseEvents&quot;: true, &quot;color&quot;: &quot;blue&quot;, &quot;dashArray&quot;: null, &quot;dashOffset&quot;: null, &quot;fill&quot;: true, &quot;fillColor&quot;: &quot;blue&quot;, &quot;fillOpacity&quot;: 0.6, &quot;fillRule&quot;: &quot;evenodd&quot;, &quot;lineCap&quot;: &quot;round&quot;, &quot;lineJoin&quot;: &quot;round&quot;, &quot;opacity&quot;: 1.0, &quot;radius&quot;: 4, &quot;stroke&quot;: true, &quot;weight&quot;: 3}\n",
       "            ).addTo(map_6c285c78858decbf900c2b4189855eba);\n",
       "        \n",
       "    \n",
       "        var popup_e5e627e4983a81221b15b37fa8f538b7 = L.popup({\n",
       "  &quot;maxWidth&quot;: &quot;100%&quot;,\n",
       "});\n",
       "\n",
       "        \n",
       "            \n",
       "                var html_51d9f2100e92dc6a54e078b4ac8eada4 = $(`&lt;div id=&quot;html_51d9f2100e92dc6a54e078b4ac8eada4&quot; style=&quot;width: 100.0%; height: 100.0%;&quot;&gt;Precio: 3,000,000&lt;/div&gt;`)[0];\n",
       "                popup_e5e627e4983a81221b15b37fa8f538b7.setContent(html_51d9f2100e92dc6a54e078b4ac8eada4);\n",
       "            \n",
       "        \n",
       "\n",
       "        circle_marker_74cf8c014c2f2ce8c50e0eb218755884.bindPopup(popup_e5e627e4983a81221b15b37fa8f538b7)\n",
       "        ;\n",
       "\n",
       "        \n",
       "    \n",
       "    \n",
       "            var circle_marker_eaa3733fb397581a22b75e114fcb33ed = L.circleMarker(\n",
       "                [4.4516024694949, -75.142068903363],\n",
       "                {&quot;bubblingMouseEvents&quot;: true, &quot;color&quot;: &quot;blue&quot;, &quot;dashArray&quot;: null, &quot;dashOffset&quot;: null, &quot;fill&quot;: true, &quot;fillColor&quot;: &quot;blue&quot;, &quot;fillOpacity&quot;: 0.6, &quot;fillRule&quot;: &quot;evenodd&quot;, &quot;lineCap&quot;: &quot;round&quot;, &quot;lineJoin&quot;: &quot;round&quot;, &quot;opacity&quot;: 1.0, &quot;radius&quot;: 4, &quot;stroke&quot;: true, &quot;weight&quot;: 3}\n",
       "            ).addTo(map_6c285c78858decbf900c2b4189855eba);\n",
       "        \n",
       "    \n",
       "        var popup_a2933b4882e2b2280f8ae5d6bd826f9d = L.popup({\n",
       "  &quot;maxWidth&quot;: &quot;100%&quot;,\n",
       "});\n",
       "\n",
       "        \n",
       "            \n",
       "                var html_a701609c78022d62bced6c142d0050c4 = $(`&lt;div id=&quot;html_a701609c78022d62bced6c142d0050c4&quot; style=&quot;width: 100.0%; height: 100.0%;&quot;&gt;Precio: 460,000&lt;/div&gt;`)[0];\n",
       "                popup_a2933b4882e2b2280f8ae5d6bd826f9d.setContent(html_a701609c78022d62bced6c142d0050c4);\n",
       "            \n",
       "        \n",
       "\n",
       "        circle_marker_eaa3733fb397581a22b75e114fcb33ed.bindPopup(popup_a2933b4882e2b2280f8ae5d6bd826f9d)\n",
       "        ;\n",
       "\n",
       "        \n",
       "    \n",
       "    \n",
       "            var circle_marker_b8f94e55116596b32944c39e76bae0ae = L.circleMarker(\n",
       "                [4.4513286231022, -75.145226838067],\n",
       "                {&quot;bubblingMouseEvents&quot;: true, &quot;color&quot;: &quot;blue&quot;, &quot;dashArray&quot;: null, &quot;dashOffset&quot;: null, &quot;fill&quot;: true, &quot;fillColor&quot;: &quot;blue&quot;, &quot;fillOpacity&quot;: 0.6, &quot;fillRule&quot;: &quot;evenodd&quot;, &quot;lineCap&quot;: &quot;round&quot;, &quot;lineJoin&quot;: &quot;round&quot;, &quot;opacity&quot;: 1.0, &quot;radius&quot;: 4, &quot;stroke&quot;: true, &quot;weight&quot;: 3}\n",
       "            ).addTo(map_6c285c78858decbf900c2b4189855eba);\n",
       "        \n",
       "    \n",
       "        var popup_1fb8cb31e710f175cfd788618e0a218c = L.popup({\n",
       "  &quot;maxWidth&quot;: &quot;100%&quot;,\n",
       "});\n",
       "\n",
       "        \n",
       "            \n",
       "                var html_8151dbf85656e4006fa31bcf4f7837b3 = $(`&lt;div id=&quot;html_8151dbf85656e4006fa31bcf4f7837b3&quot; style=&quot;width: 100.0%; height: 100.0%;&quot;&gt;Precio: 587,500&lt;/div&gt;`)[0];\n",
       "                popup_1fb8cb31e710f175cfd788618e0a218c.setContent(html_8151dbf85656e4006fa31bcf4f7837b3);\n",
       "            \n",
       "        \n",
       "\n",
       "        circle_marker_b8f94e55116596b32944c39e76bae0ae.bindPopup(popup_1fb8cb31e710f175cfd788618e0a218c)\n",
       "        ;\n",
       "\n",
       "        \n",
       "    \n",
       "    \n",
       "            var circle_marker_7946c10b53672eec0409bcc17a624246 = L.circleMarker(\n",
       "                [4.4370011707642, -75.206973832405],\n",
       "                {&quot;bubblingMouseEvents&quot;: true, &quot;color&quot;: &quot;blue&quot;, &quot;dashArray&quot;: null, &quot;dashOffset&quot;: null, &quot;fill&quot;: true, &quot;fillColor&quot;: &quot;blue&quot;, &quot;fillOpacity&quot;: 0.6, &quot;fillRule&quot;: &quot;evenodd&quot;, &quot;lineCap&quot;: &quot;round&quot;, &quot;lineJoin&quot;: &quot;round&quot;, &quot;opacity&quot;: 1.0, &quot;radius&quot;: 4, &quot;stroke&quot;: true, &quot;weight&quot;: 3}\n",
       "            ).addTo(map_6c285c78858decbf900c2b4189855eba);\n",
       "        \n",
       "    \n",
       "        var popup_a605f2eb1b03679d9f578a0f66fffce6 = L.popup({\n",
       "  &quot;maxWidth&quot;: &quot;100%&quot;,\n",
       "});\n",
       "\n",
       "        \n",
       "            \n",
       "                var html_988c33e8bcde8d1a05d3dec65654f045 = $(`&lt;div id=&quot;html_988c33e8bcde8d1a05d3dec65654f045&quot; style=&quot;width: 100.0%; height: 100.0%;&quot;&gt;Precio: 1,950,000&lt;/div&gt;`)[0];\n",
       "                popup_a605f2eb1b03679d9f578a0f66fffce6.setContent(html_988c33e8bcde8d1a05d3dec65654f045);\n",
       "            \n",
       "        \n",
       "\n",
       "        circle_marker_7946c10b53672eec0409bcc17a624246.bindPopup(popup_a605f2eb1b03679d9f578a0f66fffce6)\n",
       "        ;\n",
       "\n",
       "        \n",
       "    \n",
       "    \n",
       "            var circle_marker_d7e9149dedef8c241f60ca2385ce7229 = L.circleMarker(\n",
       "                [4.4355673, -75.2076206],\n",
       "                {&quot;bubblingMouseEvents&quot;: true, &quot;color&quot;: &quot;blue&quot;, &quot;dashArray&quot;: null, &quot;dashOffset&quot;: null, &quot;fill&quot;: true, &quot;fillColor&quot;: &quot;blue&quot;, &quot;fillOpacity&quot;: 0.6, &quot;fillRule&quot;: &quot;evenodd&quot;, &quot;lineCap&quot;: &quot;round&quot;, &quot;lineJoin&quot;: &quot;round&quot;, &quot;opacity&quot;: 1.0, &quot;radius&quot;: 4, &quot;stroke&quot;: true, &quot;weight&quot;: 3}\n",
       "            ).addTo(map_6c285c78858decbf900c2b4189855eba);\n",
       "        \n",
       "    \n",
       "        var popup_ab7d93e19542f532bcbd6f23097b9ed4 = L.popup({\n",
       "  &quot;maxWidth&quot;: &quot;100%&quot;,\n",
       "});\n",
       "\n",
       "        \n",
       "            \n",
       "                var html_568d01c09a0c43168b49d987f5618940 = $(`&lt;div id=&quot;html_568d01c09a0c43168b49d987f5618940&quot; style=&quot;width: 100.0%; height: 100.0%;&quot;&gt;Precio: 1,600,000&lt;/div&gt;`)[0];\n",
       "                popup_ab7d93e19542f532bcbd6f23097b9ed4.setContent(html_568d01c09a0c43168b49d987f5618940);\n",
       "            \n",
       "        \n",
       "\n",
       "        circle_marker_d7e9149dedef8c241f60ca2385ce7229.bindPopup(popup_ab7d93e19542f532bcbd6f23097b9ed4)\n",
       "        ;\n",
       "\n",
       "        \n",
       "    \n",
       "    \n",
       "            var circle_marker_c43d5e8bf15f4496a68f55ee37b4718f = L.circleMarker(\n",
       "                [4.45159, -75.14192],\n",
       "                {&quot;bubblingMouseEvents&quot;: true, &quot;color&quot;: &quot;blue&quot;, &quot;dashArray&quot;: null, &quot;dashOffset&quot;: null, &quot;fill&quot;: true, &quot;fillColor&quot;: &quot;blue&quot;, &quot;fillOpacity&quot;: 0.6, &quot;fillRule&quot;: &quot;evenodd&quot;, &quot;lineCap&quot;: &quot;round&quot;, &quot;lineJoin&quot;: &quot;round&quot;, &quot;opacity&quot;: 1.0, &quot;radius&quot;: 4, &quot;stroke&quot;: true, &quot;weight&quot;: 3}\n",
       "            ).addTo(map_6c285c78858decbf900c2b4189855eba);\n",
       "        \n",
       "    \n",
       "        var popup_96cbcf863ceffb5c8740383e9124a01a = L.popup({\n",
       "  &quot;maxWidth&quot;: &quot;100%&quot;,\n",
       "});\n",
       "\n",
       "        \n",
       "            \n",
       "                var html_56cc33be3f416f5ccad4ee509494d218 = $(`&lt;div id=&quot;html_56cc33be3f416f5ccad4ee509494d218&quot; style=&quot;width: 100.0%; height: 100.0%;&quot;&gt;Precio: 554,700&lt;/div&gt;`)[0];\n",
       "                popup_96cbcf863ceffb5c8740383e9124a01a.setContent(html_56cc33be3f416f5ccad4ee509494d218);\n",
       "            \n",
       "        \n",
       "\n",
       "        circle_marker_c43d5e8bf15f4496a68f55ee37b4718f.bindPopup(popup_96cbcf863ceffb5c8740383e9124a01a)\n",
       "        ;\n",
       "\n",
       "        \n",
       "    \n",
       "    \n",
       "            var circle_marker_a8080e47bdcf9fb9c7a16f799c3335d9 = L.circleMarker(\n",
       "                [4.4187502, -75.1698692],\n",
       "                {&quot;bubblingMouseEvents&quot;: true, &quot;color&quot;: &quot;blue&quot;, &quot;dashArray&quot;: null, &quot;dashOffset&quot;: null, &quot;fill&quot;: true, &quot;fillColor&quot;: &quot;blue&quot;, &quot;fillOpacity&quot;: 0.6, &quot;fillRule&quot;: &quot;evenodd&quot;, &quot;lineCap&quot;: &quot;round&quot;, &quot;lineJoin&quot;: &quot;round&quot;, &quot;opacity&quot;: 1.0, &quot;radius&quot;: 4, &quot;stroke&quot;: true, &quot;weight&quot;: 3}\n",
       "            ).addTo(map_6c285c78858decbf900c2b4189855eba);\n",
       "        \n",
       "    \n",
       "        var popup_a8459e99ddba145a856425b8c2741528 = L.popup({\n",
       "  &quot;maxWidth&quot;: &quot;100%&quot;,\n",
       "});\n",
       "\n",
       "        \n",
       "            \n",
       "                var html_61fdb8a3246ccf058074a47480734d7b = $(`&lt;div id=&quot;html_61fdb8a3246ccf058074a47480734d7b&quot; style=&quot;width: 100.0%; height: 100.0%;&quot;&gt;Precio: 1,150,000&lt;/div&gt;`)[0];\n",
       "                popup_a8459e99ddba145a856425b8c2741528.setContent(html_61fdb8a3246ccf058074a47480734d7b);\n",
       "            \n",
       "        \n",
       "\n",
       "        circle_marker_a8080e47bdcf9fb9c7a16f799c3335d9.bindPopup(popup_a8459e99ddba145a856425b8c2741528)\n",
       "        ;\n",
       "\n",
       "        \n",
       "    \n",
       "    \n",
       "            var circle_marker_554ab0c78aea7d271e35c97c58ed8cb5 = L.circleMarker(\n",
       "                [4.451919, -75.1309956],\n",
       "                {&quot;bubblingMouseEvents&quot;: true, &quot;color&quot;: &quot;blue&quot;, &quot;dashArray&quot;: null, &quot;dashOffset&quot;: null, &quot;fill&quot;: true, &quot;fillColor&quot;: &quot;blue&quot;, &quot;fillOpacity&quot;: 0.6, &quot;fillRule&quot;: &quot;evenodd&quot;, &quot;lineCap&quot;: &quot;round&quot;, &quot;lineJoin&quot;: &quot;round&quot;, &quot;opacity&quot;: 1.0, &quot;radius&quot;: 4, &quot;stroke&quot;: true, &quot;weight&quot;: 3}\n",
       "            ).addTo(map_6c285c78858decbf900c2b4189855eba);\n",
       "        \n",
       "    \n",
       "        var popup_d571d029bdfe361e58ab9f6d9e5c445e = L.popup({\n",
       "  &quot;maxWidth&quot;: &quot;100%&quot;,\n",
       "});\n",
       "\n",
       "        \n",
       "            \n",
       "                var html_ace3deeebbb093082747522cc6359be1 = $(`&lt;div id=&quot;html_ace3deeebbb093082747522cc6359be1&quot; style=&quot;width: 100.0%; height: 100.0%;&quot;&gt;Precio: 446,000&lt;/div&gt;`)[0];\n",
       "                popup_d571d029bdfe361e58ab9f6d9e5c445e.setContent(html_ace3deeebbb093082747522cc6359be1);\n",
       "            \n",
       "        \n",
       "\n",
       "        circle_marker_554ab0c78aea7d271e35c97c58ed8cb5.bindPopup(popup_d571d029bdfe361e58ab9f6d9e5c445e)\n",
       "        ;\n",
       "\n",
       "        \n",
       "    \n",
       "    \n",
       "            var circle_marker_c171504e84814eb27e3d78184a92190e = L.circleMarker(\n",
       "                [4.4322335, -75.1769936],\n",
       "                {&quot;bubblingMouseEvents&quot;: true, &quot;color&quot;: &quot;blue&quot;, &quot;dashArray&quot;: null, &quot;dashOffset&quot;: null, &quot;fill&quot;: true, &quot;fillColor&quot;: &quot;blue&quot;, &quot;fillOpacity&quot;: 0.6, &quot;fillRule&quot;: &quot;evenodd&quot;, &quot;lineCap&quot;: &quot;round&quot;, &quot;lineJoin&quot;: &quot;round&quot;, &quot;opacity&quot;: 1.0, &quot;radius&quot;: 4, &quot;stroke&quot;: true, &quot;weight&quot;: 3}\n",
       "            ).addTo(map_6c285c78858decbf900c2b4189855eba);\n",
       "        \n",
       "    \n",
       "        var popup_976d78ba0cea110ab442821a2ef8126a = L.popup({\n",
       "  &quot;maxWidth&quot;: &quot;100%&quot;,\n",
       "});\n",
       "\n",
       "        \n",
       "            \n",
       "                var html_b534e82a3c29df5673f1d85efed488e6 = $(`&lt;div id=&quot;html_b534e82a3c29df5673f1d85efed488e6&quot; style=&quot;width: 100.0%; height: 100.0%;&quot;&gt;Precio: 1,700,000&lt;/div&gt;`)[0];\n",
       "                popup_976d78ba0cea110ab442821a2ef8126a.setContent(html_b534e82a3c29df5673f1d85efed488e6);\n",
       "            \n",
       "        \n",
       "\n",
       "        circle_marker_c171504e84814eb27e3d78184a92190e.bindPopup(popup_976d78ba0cea110ab442821a2ef8126a)\n",
       "        ;\n",
       "\n",
       "        \n",
       "    \n",
       "    \n",
       "            var circle_marker_7c3c7ca1ea80ff08dd72ba40cbf4a84a = L.circleMarker(\n",
       "                [4.4389163, -75.1989264],\n",
       "                {&quot;bubblingMouseEvents&quot;: true, &quot;color&quot;: &quot;blue&quot;, &quot;dashArray&quot;: null, &quot;dashOffset&quot;: null, &quot;fill&quot;: true, &quot;fillColor&quot;: &quot;blue&quot;, &quot;fillOpacity&quot;: 0.6, &quot;fillRule&quot;: &quot;evenodd&quot;, &quot;lineCap&quot;: &quot;round&quot;, &quot;lineJoin&quot;: &quot;round&quot;, &quot;opacity&quot;: 1.0, &quot;radius&quot;: 4, &quot;stroke&quot;: true, &quot;weight&quot;: 3}\n",
       "            ).addTo(map_6c285c78858decbf900c2b4189855eba);\n",
       "        \n",
       "    \n",
       "        var popup_f10eecc487f54fa105ddb5f9b11c39c2 = L.popup({\n",
       "  &quot;maxWidth&quot;: &quot;100%&quot;,\n",
       "});\n",
       "\n",
       "        \n",
       "            \n",
       "                var html_42b7de1a188170919d3e6c1d2dd75166 = $(`&lt;div id=&quot;html_42b7de1a188170919d3e6c1d2dd75166&quot; style=&quot;width: 100.0%; height: 100.0%;&quot;&gt;Precio: 4,000,000&lt;/div&gt;`)[0];\n",
       "                popup_f10eecc487f54fa105ddb5f9b11c39c2.setContent(html_42b7de1a188170919d3e6c1d2dd75166);\n",
       "            \n",
       "        \n",
       "\n",
       "        circle_marker_7c3c7ca1ea80ff08dd72ba40cbf4a84a.bindPopup(popup_f10eecc487f54fa105ddb5f9b11c39c2)\n",
       "        ;\n",
       "\n",
       "        \n",
       "    \n",
       "    \n",
       "            var circle_marker_e556ad5961e4c230672c95da9e0ee7c9 = L.circleMarker(\n",
       "                [4.4293682, -75.2123785],\n",
       "                {&quot;bubblingMouseEvents&quot;: true, &quot;color&quot;: &quot;blue&quot;, &quot;dashArray&quot;: null, &quot;dashOffset&quot;: null, &quot;fill&quot;: true, &quot;fillColor&quot;: &quot;blue&quot;, &quot;fillOpacity&quot;: 0.6, &quot;fillRule&quot;: &quot;evenodd&quot;, &quot;lineCap&quot;: &quot;round&quot;, &quot;lineJoin&quot;: &quot;round&quot;, &quot;opacity&quot;: 1.0, &quot;radius&quot;: 4, &quot;stroke&quot;: true, &quot;weight&quot;: 3}\n",
       "            ).addTo(map_6c285c78858decbf900c2b4189855eba);\n",
       "        \n",
       "    \n",
       "        var popup_0fc98226c85b59cd21947aaafbad2306 = L.popup({\n",
       "  &quot;maxWidth&quot;: &quot;100%&quot;,\n",
       "});\n",
       "\n",
       "        \n",
       "            \n",
       "                var html_35528e6bd062859a001d0474ea089e9c = $(`&lt;div id=&quot;html_35528e6bd062859a001d0474ea089e9c&quot; style=&quot;width: 100.0%; height: 100.0%;&quot;&gt;Precio: 1,800,000&lt;/div&gt;`)[0];\n",
       "                popup_0fc98226c85b59cd21947aaafbad2306.setContent(html_35528e6bd062859a001d0474ea089e9c);\n",
       "            \n",
       "        \n",
       "\n",
       "        circle_marker_e556ad5961e4c230672c95da9e0ee7c9.bindPopup(popup_0fc98226c85b59cd21947aaafbad2306)\n",
       "        ;\n",
       "\n",
       "        \n",
       "    \n",
       "    \n",
       "            var circle_marker_f23adeba039634cc623b4b7ed43bf183 = L.circleMarker(\n",
       "                [4.390834, -75.1435111],\n",
       "                {&quot;bubblingMouseEvents&quot;: true, &quot;color&quot;: &quot;blue&quot;, &quot;dashArray&quot;: null, &quot;dashOffset&quot;: null, &quot;fill&quot;: true, &quot;fillColor&quot;: &quot;blue&quot;, &quot;fillOpacity&quot;: 0.6, &quot;fillRule&quot;: &quot;evenodd&quot;, &quot;lineCap&quot;: &quot;round&quot;, &quot;lineJoin&quot;: &quot;round&quot;, &quot;opacity&quot;: 1.0, &quot;radius&quot;: 4, &quot;stroke&quot;: true, &quot;weight&quot;: 3}\n",
       "            ).addTo(map_6c285c78858decbf900c2b4189855eba);\n",
       "        \n",
       "    \n",
       "        var popup_27b0cffb1e4b131cf957a0fde2b6439d = L.popup({\n",
       "  &quot;maxWidth&quot;: &quot;100%&quot;,\n",
       "});\n",
       "\n",
       "        \n",
       "            \n",
       "                var html_a446ec45e96871cd4217608cc305d3b0 = $(`&lt;div id=&quot;html_a446ec45e96871cd4217608cc305d3b0&quot; style=&quot;width: 100.0%; height: 100.0%;&quot;&gt;Precio: 900,000&lt;/div&gt;`)[0];\n",
       "                popup_27b0cffb1e4b131cf957a0fde2b6439d.setContent(html_a446ec45e96871cd4217608cc305d3b0);\n",
       "            \n",
       "        \n",
       "\n",
       "        circle_marker_f23adeba039634cc623b4b7ed43bf183.bindPopup(popup_27b0cffb1e4b131cf957a0fde2b6439d)\n",
       "        ;\n",
       "\n",
       "        \n",
       "    \n",
       "    \n",
       "            var circle_marker_1f00bdb126b52baedd4ab434446d4149 = L.circleMarker(\n",
       "                [4.404815631174, -75.141540057957],\n",
       "                {&quot;bubblingMouseEvents&quot;: true, &quot;color&quot;: &quot;blue&quot;, &quot;dashArray&quot;: null, &quot;dashOffset&quot;: null, &quot;fill&quot;: true, &quot;fillColor&quot;: &quot;blue&quot;, &quot;fillOpacity&quot;: 0.6, &quot;fillRule&quot;: &quot;evenodd&quot;, &quot;lineCap&quot;: &quot;round&quot;, &quot;lineJoin&quot;: &quot;round&quot;, &quot;opacity&quot;: 1.0, &quot;radius&quot;: 4, &quot;stroke&quot;: true, &quot;weight&quot;: 3}\n",
       "            ).addTo(map_6c285c78858decbf900c2b4189855eba);\n",
       "        \n",
       "    \n",
       "        var popup_8e20bfa054f6d980b489f03ed57b089c = L.popup({\n",
       "  &quot;maxWidth&quot;: &quot;100%&quot;,\n",
       "});\n",
       "\n",
       "        \n",
       "            \n",
       "                var html_cb364eaec2f272e0410c6382f505b9dc = $(`&lt;div id=&quot;html_cb364eaec2f272e0410c6382f505b9dc&quot; style=&quot;width: 100.0%; height: 100.0%;&quot;&gt;Precio: 402,700&lt;/div&gt;`)[0];\n",
       "                popup_8e20bfa054f6d980b489f03ed57b089c.setContent(html_cb364eaec2f272e0410c6382f505b9dc);\n",
       "            \n",
       "        \n",
       "\n",
       "        circle_marker_1f00bdb126b52baedd4ab434446d4149.bindPopup(popup_8e20bfa054f6d980b489f03ed57b089c)\n",
       "        ;\n",
       "\n",
       "        \n",
       "    \n",
       "    \n",
       "            var circle_marker_ef5fe60820695549e65f4d593abaf3b6 = L.circleMarker(\n",
       "                [4.4216524, -75.1715956],\n",
       "                {&quot;bubblingMouseEvents&quot;: true, &quot;color&quot;: &quot;blue&quot;, &quot;dashArray&quot;: null, &quot;dashOffset&quot;: null, &quot;fill&quot;: true, &quot;fillColor&quot;: &quot;blue&quot;, &quot;fillOpacity&quot;: 0.6, &quot;fillRule&quot;: &quot;evenodd&quot;, &quot;lineCap&quot;: &quot;round&quot;, &quot;lineJoin&quot;: &quot;round&quot;, &quot;opacity&quot;: 1.0, &quot;radius&quot;: 4, &quot;stroke&quot;: true, &quot;weight&quot;: 3}\n",
       "            ).addTo(map_6c285c78858decbf900c2b4189855eba);\n",
       "        \n",
       "    \n",
       "        var popup_955c94ac837a47678830f9c17713438c = L.popup({\n",
       "  &quot;maxWidth&quot;: &quot;100%&quot;,\n",
       "});\n",
       "\n",
       "        \n",
       "            \n",
       "                var html_b1895bd2d982735c9a77e0f84a14d551 = $(`&lt;div id=&quot;html_b1895bd2d982735c9a77e0f84a14d551&quot; style=&quot;width: 100.0%; height: 100.0%;&quot;&gt;Precio: 1,200,000&lt;/div&gt;`)[0];\n",
       "                popup_955c94ac837a47678830f9c17713438c.setContent(html_b1895bd2d982735c9a77e0f84a14d551);\n",
       "            \n",
       "        \n",
       "\n",
       "        circle_marker_ef5fe60820695549e65f4d593abaf3b6.bindPopup(popup_955c94ac837a47678830f9c17713438c)\n",
       "        ;\n",
       "\n",
       "        \n",
       "    \n",
       "    \n",
       "            var circle_marker_2c5e899e9b9c93aaa6d3e1f3a19b0bc4 = L.circleMarker(\n",
       "                [4.4311275, -75.1802893],\n",
       "                {&quot;bubblingMouseEvents&quot;: true, &quot;color&quot;: &quot;blue&quot;, &quot;dashArray&quot;: null, &quot;dashOffset&quot;: null, &quot;fill&quot;: true, &quot;fillColor&quot;: &quot;blue&quot;, &quot;fillOpacity&quot;: 0.6, &quot;fillRule&quot;: &quot;evenodd&quot;, &quot;lineCap&quot;: &quot;round&quot;, &quot;lineJoin&quot;: &quot;round&quot;, &quot;opacity&quot;: 1.0, &quot;radius&quot;: 4, &quot;stroke&quot;: true, &quot;weight&quot;: 3}\n",
       "            ).addTo(map_6c285c78858decbf900c2b4189855eba);\n",
       "        \n",
       "    \n",
       "        var popup_18af7d3dc92f4c4c48448d1f2ad5fc45 = L.popup({\n",
       "  &quot;maxWidth&quot;: &quot;100%&quot;,\n",
       "});\n",
       "\n",
       "        \n",
       "            \n",
       "                var html_6a61553586a9c00a0c0ad365c9a9c706 = $(`&lt;div id=&quot;html_6a61553586a9c00a0c0ad365c9a9c706&quot; style=&quot;width: 100.0%; height: 100.0%;&quot;&gt;Precio: 1,500,000&lt;/div&gt;`)[0];\n",
       "                popup_18af7d3dc92f4c4c48448d1f2ad5fc45.setContent(html_6a61553586a9c00a0c0ad365c9a9c706);\n",
       "            \n",
       "        \n",
       "\n",
       "        circle_marker_2c5e899e9b9c93aaa6d3e1f3a19b0bc4.bindPopup(popup_18af7d3dc92f4c4c48448d1f2ad5fc45)\n",
       "        ;\n",
       "\n",
       "        \n",
       "    \n",
       "    \n",
       "            var circle_marker_1c492390234f8dc1012089ce879134b0 = L.circleMarker(\n",
       "                [4.4188866, -75.1699607],\n",
       "                {&quot;bubblingMouseEvents&quot;: true, &quot;color&quot;: &quot;blue&quot;, &quot;dashArray&quot;: null, &quot;dashOffset&quot;: null, &quot;fill&quot;: true, &quot;fillColor&quot;: &quot;blue&quot;, &quot;fillOpacity&quot;: 0.6, &quot;fillRule&quot;: &quot;evenodd&quot;, &quot;lineCap&quot;: &quot;round&quot;, &quot;lineJoin&quot;: &quot;round&quot;, &quot;opacity&quot;: 1.0, &quot;radius&quot;: 4, &quot;stroke&quot;: true, &quot;weight&quot;: 3}\n",
       "            ).addTo(map_6c285c78858decbf900c2b4189855eba);\n",
       "        \n",
       "    \n",
       "        var popup_d21ca00181585930ef5ce839a8223d4e = L.popup({\n",
       "  &quot;maxWidth&quot;: &quot;100%&quot;,\n",
       "});\n",
       "\n",
       "        \n",
       "            \n",
       "                var html_02ab972f47ff59331f6f7b6acdd6ab9a = $(`&lt;div id=&quot;html_02ab972f47ff59331f6f7b6acdd6ab9a&quot; style=&quot;width: 100.0%; height: 100.0%;&quot;&gt;Precio: 1,150,000&lt;/div&gt;`)[0];\n",
       "                popup_d21ca00181585930ef5ce839a8223d4e.setContent(html_02ab972f47ff59331f6f7b6acdd6ab9a);\n",
       "            \n",
       "        \n",
       "\n",
       "        circle_marker_1c492390234f8dc1012089ce879134b0.bindPopup(popup_d21ca00181585930ef5ce839a8223d4e)\n",
       "        ;\n",
       "\n",
       "        \n",
       "    \n",
       "    \n",
       "            var circle_marker_9e363e61dedac8c34f89fc92d096f420 = L.circleMarker(\n",
       "                [4.44444, -75.2400164],\n",
       "                {&quot;bubblingMouseEvents&quot;: true, &quot;color&quot;: &quot;blue&quot;, &quot;dashArray&quot;: null, &quot;dashOffset&quot;: null, &quot;fill&quot;: true, &quot;fillColor&quot;: &quot;blue&quot;, &quot;fillOpacity&quot;: 0.6, &quot;fillRule&quot;: &quot;evenodd&quot;, &quot;lineCap&quot;: &quot;round&quot;, &quot;lineJoin&quot;: &quot;round&quot;, &quot;opacity&quot;: 1.0, &quot;radius&quot;: 4, &quot;stroke&quot;: true, &quot;weight&quot;: 3}\n",
       "            ).addTo(map_6c285c78858decbf900c2b4189855eba);\n",
       "        \n",
       "    \n",
       "        var popup_b1846fca1158d0409f318819c66dc0db = L.popup({\n",
       "  &quot;maxWidth&quot;: &quot;100%&quot;,\n",
       "});\n",
       "\n",
       "        \n",
       "            \n",
       "                var html_d20faf9534e95e1c24472fdbcbd94f34 = $(`&lt;div id=&quot;html_d20faf9534e95e1c24472fdbcbd94f34&quot; style=&quot;width: 100.0%; height: 100.0%;&quot;&gt;Precio: 3,200,000&lt;/div&gt;`)[0];\n",
       "                popup_b1846fca1158d0409f318819c66dc0db.setContent(html_d20faf9534e95e1c24472fdbcbd94f34);\n",
       "            \n",
       "        \n",
       "\n",
       "        circle_marker_9e363e61dedac8c34f89fc92d096f420.bindPopup(popup_b1846fca1158d0409f318819c66dc0db)\n",
       "        ;\n",
       "\n",
       "        \n",
       "    \n",
       "    \n",
       "            var circle_marker_df776c46198427f662ad9ee0b398115b = L.circleMarker(\n",
       "                [4.4409932555375, -75.226097522809],\n",
       "                {&quot;bubblingMouseEvents&quot;: true, &quot;color&quot;: &quot;blue&quot;, &quot;dashArray&quot;: null, &quot;dashOffset&quot;: null, &quot;fill&quot;: true, &quot;fillColor&quot;: &quot;blue&quot;, &quot;fillOpacity&quot;: 0.6, &quot;fillRule&quot;: &quot;evenodd&quot;, &quot;lineCap&quot;: &quot;round&quot;, &quot;lineJoin&quot;: &quot;round&quot;, &quot;opacity&quot;: 1.0, &quot;radius&quot;: 4, &quot;stroke&quot;: true, &quot;weight&quot;: 3}\n",
       "            ).addTo(map_6c285c78858decbf900c2b4189855eba);\n",
       "        \n",
       "    \n",
       "        var popup_43bc8efa55b94e08837d8601fc36422b = L.popup({\n",
       "  &quot;maxWidth&quot;: &quot;100%&quot;,\n",
       "});\n",
       "\n",
       "        \n",
       "            \n",
       "                var html_9865b5b47dc76f1fdc25b8d00b7581b1 = $(`&lt;div id=&quot;html_9865b5b47dc76f1fdc25b8d00b7581b1&quot; style=&quot;width: 100.0%; height: 100.0%;&quot;&gt;Precio: 5,000,000&lt;/div&gt;`)[0];\n",
       "                popup_43bc8efa55b94e08837d8601fc36422b.setContent(html_9865b5b47dc76f1fdc25b8d00b7581b1);\n",
       "            \n",
       "        \n",
       "\n",
       "        circle_marker_df776c46198427f662ad9ee0b398115b.bindPopup(popup_43bc8efa55b94e08837d8601fc36422b)\n",
       "        ;\n",
       "\n",
       "        \n",
       "    \n",
       "    \n",
       "            var circle_marker_860925b8df38ea8d9ba38decebf06758 = L.circleMarker(\n",
       "                [4.4434885, -75.171384],\n",
       "                {&quot;bubblingMouseEvents&quot;: true, &quot;color&quot;: &quot;blue&quot;, &quot;dashArray&quot;: null, &quot;dashOffset&quot;: null, &quot;fill&quot;: true, &quot;fillColor&quot;: &quot;blue&quot;, &quot;fillOpacity&quot;: 0.6, &quot;fillRule&quot;: &quot;evenodd&quot;, &quot;lineCap&quot;: &quot;round&quot;, &quot;lineJoin&quot;: &quot;round&quot;, &quot;opacity&quot;: 1.0, &quot;radius&quot;: 4, &quot;stroke&quot;: true, &quot;weight&quot;: 3}\n",
       "            ).addTo(map_6c285c78858decbf900c2b4189855eba);\n",
       "        \n",
       "    \n",
       "        var popup_75a3f1c6f0f411f1528a6f452d177045 = L.popup({\n",
       "  &quot;maxWidth&quot;: &quot;100%&quot;,\n",
       "});\n",
       "\n",
       "        \n",
       "            \n",
       "                var html_10c8ab7c236791ebe0186c8bf2ab62f4 = $(`&lt;div id=&quot;html_10c8ab7c236791ebe0186c8bf2ab62f4&quot; style=&quot;width: 100.0%; height: 100.0%;&quot;&gt;Precio: 1,300,000&lt;/div&gt;`)[0];\n",
       "                popup_75a3f1c6f0f411f1528a6f452d177045.setContent(html_10c8ab7c236791ebe0186c8bf2ab62f4);\n",
       "            \n",
       "        \n",
       "\n",
       "        circle_marker_860925b8df38ea8d9ba38decebf06758.bindPopup(popup_75a3f1c6f0f411f1528a6f452d177045)\n",
       "        ;\n",
       "\n",
       "        \n",
       "    \n",
       "    \n",
       "            var circle_marker_37e8d05970754f600ca3a230b3ce9f97 = L.circleMarker(\n",
       "                [4.407550987977, -75.166782864913],\n",
       "                {&quot;bubblingMouseEvents&quot;: true, &quot;color&quot;: &quot;blue&quot;, &quot;dashArray&quot;: null, &quot;dashOffset&quot;: null, &quot;fill&quot;: true, &quot;fillColor&quot;: &quot;blue&quot;, &quot;fillOpacity&quot;: 0.6, &quot;fillRule&quot;: &quot;evenodd&quot;, &quot;lineCap&quot;: &quot;round&quot;, &quot;lineJoin&quot;: &quot;round&quot;, &quot;opacity&quot;: 1.0, &quot;radius&quot;: 4, &quot;stroke&quot;: true, &quot;weight&quot;: 3}\n",
       "            ).addTo(map_6c285c78858decbf900c2b4189855eba);\n",
       "        \n",
       "    \n",
       "        var popup_822065b597a658784912324ca5bc355e = L.popup({\n",
       "  &quot;maxWidth&quot;: &quot;100%&quot;,\n",
       "});\n",
       "\n",
       "        \n",
       "            \n",
       "                var html_1f115f37d6929efeaf6e997f214abefe = $(`&lt;div id=&quot;html_1f115f37d6929efeaf6e997f214abefe&quot; style=&quot;width: 100.0%; height: 100.0%;&quot;&gt;Precio: 908,307&lt;/div&gt;`)[0];\n",
       "                popup_822065b597a658784912324ca5bc355e.setContent(html_1f115f37d6929efeaf6e997f214abefe);\n",
       "            \n",
       "        \n",
       "\n",
       "        circle_marker_37e8d05970754f600ca3a230b3ce9f97.bindPopup(popup_822065b597a658784912324ca5bc355e)\n",
       "        ;\n",
       "\n",
       "        \n",
       "    \n",
       "    \n",
       "            var circle_marker_e9a472cffa4b7a96d10378625481be8c = L.circleMarker(\n",
       "                [4.4380822, -75.2164781],\n",
       "                {&quot;bubblingMouseEvents&quot;: true, &quot;color&quot;: &quot;blue&quot;, &quot;dashArray&quot;: null, &quot;dashOffset&quot;: null, &quot;fill&quot;: true, &quot;fillColor&quot;: &quot;blue&quot;, &quot;fillOpacity&quot;: 0.6, &quot;fillRule&quot;: &quot;evenodd&quot;, &quot;lineCap&quot;: &quot;round&quot;, &quot;lineJoin&quot;: &quot;round&quot;, &quot;opacity&quot;: 1.0, &quot;radius&quot;: 4, &quot;stroke&quot;: true, &quot;weight&quot;: 3}\n",
       "            ).addTo(map_6c285c78858decbf900c2b4189855eba);\n",
       "        \n",
       "    \n",
       "        var popup_ab5ef1348f929fdac201f117ab0ff557 = L.popup({\n",
       "  &quot;maxWidth&quot;: &quot;100%&quot;,\n",
       "});\n",
       "\n",
       "        \n",
       "            \n",
       "                var html_bfc6640bee5e45e389e952a321b24c4c = $(`&lt;div id=&quot;html_bfc6640bee5e45e389e952a321b24c4c&quot; style=&quot;width: 100.0%; height: 100.0%;&quot;&gt;Precio: 1,200,000&lt;/div&gt;`)[0];\n",
       "                popup_ab5ef1348f929fdac201f117ab0ff557.setContent(html_bfc6640bee5e45e389e952a321b24c4c);\n",
       "            \n",
       "        \n",
       "\n",
       "        circle_marker_e9a472cffa4b7a96d10378625481be8c.bindPopup(popup_ab5ef1348f929fdac201f117ab0ff557)\n",
       "        ;\n",
       "\n",
       "        \n",
       "    \n",
       "    \n",
       "            var circle_marker_ff0a94149245a6e6cbd07b2559715655 = L.circleMarker(\n",
       "                [4.4572585, -75.2048613],\n",
       "                {&quot;bubblingMouseEvents&quot;: true, &quot;color&quot;: &quot;blue&quot;, &quot;dashArray&quot;: null, &quot;dashOffset&quot;: null, &quot;fill&quot;: true, &quot;fillColor&quot;: &quot;blue&quot;, &quot;fillOpacity&quot;: 0.6, &quot;fillRule&quot;: &quot;evenodd&quot;, &quot;lineCap&quot;: &quot;round&quot;, &quot;lineJoin&quot;: &quot;round&quot;, &quot;opacity&quot;: 1.0, &quot;radius&quot;: 4, &quot;stroke&quot;: true, &quot;weight&quot;: 3}\n",
       "            ).addTo(map_6c285c78858decbf900c2b4189855eba);\n",
       "        \n",
       "    \n",
       "        var popup_3eca3fd97ff053a67e69bb20da1a6122 = L.popup({\n",
       "  &quot;maxWidth&quot;: &quot;100%&quot;,\n",
       "});\n",
       "\n",
       "        \n",
       "            \n",
       "                var html_c1efcdab1c9f9c9418ea9586ad9e0cb5 = $(`&lt;div id=&quot;html_c1efcdab1c9f9c9418ea9586ad9e0cb5&quot; style=&quot;width: 100.0%; height: 100.0%;&quot;&gt;Precio: 1,500,000&lt;/div&gt;`)[0];\n",
       "                popup_3eca3fd97ff053a67e69bb20da1a6122.setContent(html_c1efcdab1c9f9c9418ea9586ad9e0cb5);\n",
       "            \n",
       "        \n",
       "\n",
       "        circle_marker_ff0a94149245a6e6cbd07b2559715655.bindPopup(popup_3eca3fd97ff053a67e69bb20da1a6122)\n",
       "        ;\n",
       "\n",
       "        \n",
       "    \n",
       "    \n",
       "            var circle_marker_e8b29ef122c6ce44beb8598f8ea3bcae = L.circleMarker(\n",
       "                [4.4302563, -75.1969424],\n",
       "                {&quot;bubblingMouseEvents&quot;: true, &quot;color&quot;: &quot;blue&quot;, &quot;dashArray&quot;: null, &quot;dashOffset&quot;: null, &quot;fill&quot;: true, &quot;fillColor&quot;: &quot;blue&quot;, &quot;fillOpacity&quot;: 0.6, &quot;fillRule&quot;: &quot;evenodd&quot;, &quot;lineCap&quot;: &quot;round&quot;, &quot;lineJoin&quot;: &quot;round&quot;, &quot;opacity&quot;: 1.0, &quot;radius&quot;: 4, &quot;stroke&quot;: true, &quot;weight&quot;: 3}\n",
       "            ).addTo(map_6c285c78858decbf900c2b4189855eba);\n",
       "        \n",
       "    \n",
       "        var popup_18ec51258c84042cbe210a59c315600c = L.popup({\n",
       "  &quot;maxWidth&quot;: &quot;100%&quot;,\n",
       "});\n",
       "\n",
       "        \n",
       "            \n",
       "                var html_fdc738d7390097f6947993ff557ffcb7 = $(`&lt;div id=&quot;html_fdc738d7390097f6947993ff557ffcb7&quot; style=&quot;width: 100.0%; height: 100.0%;&quot;&gt;Precio: 1,106,756&lt;/div&gt;`)[0];\n",
       "                popup_18ec51258c84042cbe210a59c315600c.setContent(html_fdc738d7390097f6947993ff557ffcb7);\n",
       "            \n",
       "        \n",
       "\n",
       "        circle_marker_e8b29ef122c6ce44beb8598f8ea3bcae.bindPopup(popup_18ec51258c84042cbe210a59c315600c)\n",
       "        ;\n",
       "\n",
       "        \n",
       "    \n",
       "    \n",
       "            var circle_marker_45999fe98710eeff95ad7d2710320a58 = L.circleMarker(\n",
       "                [4.4400254554759, -75.199466720223],\n",
       "                {&quot;bubblingMouseEvents&quot;: true, &quot;color&quot;: &quot;blue&quot;, &quot;dashArray&quot;: null, &quot;dashOffset&quot;: null, &quot;fill&quot;: true, &quot;fillColor&quot;: &quot;blue&quot;, &quot;fillOpacity&quot;: 0.6, &quot;fillRule&quot;: &quot;evenodd&quot;, &quot;lineCap&quot;: &quot;round&quot;, &quot;lineJoin&quot;: &quot;round&quot;, &quot;opacity&quot;: 1.0, &quot;radius&quot;: 4, &quot;stroke&quot;: true, &quot;weight&quot;: 3}\n",
       "            ).addTo(map_6c285c78858decbf900c2b4189855eba);\n",
       "        \n",
       "    \n",
       "        var popup_f594d8116f70e3655b06472397ec867e = L.popup({\n",
       "  &quot;maxWidth&quot;: &quot;100%&quot;,\n",
       "});\n",
       "\n",
       "        \n",
       "            \n",
       "                var html_86272451bdcde50cb3c44fe2e733f8e2 = $(`&lt;div id=&quot;html_86272451bdcde50cb3c44fe2e733f8e2&quot; style=&quot;width: 100.0%; height: 100.0%;&quot;&gt;Precio: 2,534,000&lt;/div&gt;`)[0];\n",
       "                popup_f594d8116f70e3655b06472397ec867e.setContent(html_86272451bdcde50cb3c44fe2e733f8e2);\n",
       "            \n",
       "        \n",
       "\n",
       "        circle_marker_45999fe98710eeff95ad7d2710320a58.bindPopup(popup_f594d8116f70e3655b06472397ec867e)\n",
       "        ;\n",
       "\n",
       "        \n",
       "    \n",
       "    \n",
       "            var circle_marker_819edcdd0431cdefdcd953e801b07248 = L.circleMarker(\n",
       "                [4.4530625361833, -75.203765630722],\n",
       "                {&quot;bubblingMouseEvents&quot;: true, &quot;color&quot;: &quot;blue&quot;, &quot;dashArray&quot;: null, &quot;dashOffset&quot;: null, &quot;fill&quot;: true, &quot;fillColor&quot;: &quot;blue&quot;, &quot;fillOpacity&quot;: 0.6, &quot;fillRule&quot;: &quot;evenodd&quot;, &quot;lineCap&quot;: &quot;round&quot;, &quot;lineJoin&quot;: &quot;round&quot;, &quot;opacity&quot;: 1.0, &quot;radius&quot;: 4, &quot;stroke&quot;: true, &quot;weight&quot;: 3}\n",
       "            ).addTo(map_6c285c78858decbf900c2b4189855eba);\n",
       "        \n",
       "    \n",
       "        var popup_aa1bafd03d9003976ed7abd8cb5a922b = L.popup({\n",
       "  &quot;maxWidth&quot;: &quot;100%&quot;,\n",
       "});\n",
       "\n",
       "        \n",
       "            \n",
       "                var html_04c430ed4ed90c076ea0ebcdd13d9fe2 = $(`&lt;div id=&quot;html_04c430ed4ed90c076ea0ebcdd13d9fe2&quot; style=&quot;width: 100.0%; height: 100.0%;&quot;&gt;Precio: 980,000&lt;/div&gt;`)[0];\n",
       "                popup_aa1bafd03d9003976ed7abd8cb5a922b.setContent(html_04c430ed4ed90c076ea0ebcdd13d9fe2);\n",
       "            \n",
       "        \n",
       "\n",
       "        circle_marker_819edcdd0431cdefdcd953e801b07248.bindPopup(popup_aa1bafd03d9003976ed7abd8cb5a922b)\n",
       "        ;\n",
       "\n",
       "        \n",
       "    \n",
       "    \n",
       "            var circle_marker_f47565e38f69365ab3c0e9162d59f89c = L.circleMarker(\n",
       "                [4.4467302113487, -75.188477039337],\n",
       "                {&quot;bubblingMouseEvents&quot;: true, &quot;color&quot;: &quot;blue&quot;, &quot;dashArray&quot;: null, &quot;dashOffset&quot;: null, &quot;fill&quot;: true, &quot;fillColor&quot;: &quot;blue&quot;, &quot;fillOpacity&quot;: 0.6, &quot;fillRule&quot;: &quot;evenodd&quot;, &quot;lineCap&quot;: &quot;round&quot;, &quot;lineJoin&quot;: &quot;round&quot;, &quot;opacity&quot;: 1.0, &quot;radius&quot;: 4, &quot;stroke&quot;: true, &quot;weight&quot;: 3}\n",
       "            ).addTo(map_6c285c78858decbf900c2b4189855eba);\n",
       "        \n",
       "    \n",
       "        var popup_9504e7c56aea64d76c2c4d84b54501d9 = L.popup({\n",
       "  &quot;maxWidth&quot;: &quot;100%&quot;,\n",
       "});\n",
       "\n",
       "        \n",
       "            \n",
       "                var html_a64a576cdacccd30af94f70529351fe4 = $(`&lt;div id=&quot;html_a64a576cdacccd30af94f70529351fe4&quot; style=&quot;width: 100.0%; height: 100.0%;&quot;&gt;Precio: 2,400,000&lt;/div&gt;`)[0];\n",
       "                popup_9504e7c56aea64d76c2c4d84b54501d9.setContent(html_a64a576cdacccd30af94f70529351fe4);\n",
       "            \n",
       "        \n",
       "\n",
       "        circle_marker_f47565e38f69365ab3c0e9162d59f89c.bindPopup(popup_9504e7c56aea64d76c2c4d84b54501d9)\n",
       "        ;\n",
       "\n",
       "        \n",
       "    \n",
       "    \n",
       "            var circle_marker_654dad13a698c69239bac18f4c9c7bb7 = L.circleMarker(\n",
       "                [4.450532821731, -75.14365196228],\n",
       "                {&quot;bubblingMouseEvents&quot;: true, &quot;color&quot;: &quot;blue&quot;, &quot;dashArray&quot;: null, &quot;dashOffset&quot;: null, &quot;fill&quot;: true, &quot;fillColor&quot;: &quot;blue&quot;, &quot;fillOpacity&quot;: 0.6, &quot;fillRule&quot;: &quot;evenodd&quot;, &quot;lineCap&quot;: &quot;round&quot;, &quot;lineJoin&quot;: &quot;round&quot;, &quot;opacity&quot;: 1.0, &quot;radius&quot;: 4, &quot;stroke&quot;: true, &quot;weight&quot;: 3}\n",
       "            ).addTo(map_6c285c78858decbf900c2b4189855eba);\n",
       "        \n",
       "    \n",
       "        var popup_75ec0ad98b5ce8d82d6dda26d415ca51 = L.popup({\n",
       "  &quot;maxWidth&quot;: &quot;100%&quot;,\n",
       "});\n",
       "\n",
       "        \n",
       "            \n",
       "                var html_a68fa551f6cd5c0ef0915c7dacbf2c86 = $(`&lt;div id=&quot;html_a68fa551f6cd5c0ef0915c7dacbf2c86&quot; style=&quot;width: 100.0%; height: 100.0%;&quot;&gt;Precio: 850,000&lt;/div&gt;`)[0];\n",
       "                popup_75ec0ad98b5ce8d82d6dda26d415ca51.setContent(html_a68fa551f6cd5c0ef0915c7dacbf2c86);\n",
       "            \n",
       "        \n",
       "\n",
       "        circle_marker_654dad13a698c69239bac18f4c9c7bb7.bindPopup(popup_75ec0ad98b5ce8d82d6dda26d415ca51)\n",
       "        ;\n",
       "\n",
       "        \n",
       "    \n",
       "    \n",
       "            var circle_marker_73b27c2e5733bfafb5f44904ffcc348b = L.circleMarker(\n",
       "                [4.4265273, -75.1774323],\n",
       "                {&quot;bubblingMouseEvents&quot;: true, &quot;color&quot;: &quot;blue&quot;, &quot;dashArray&quot;: null, &quot;dashOffset&quot;: null, &quot;fill&quot;: true, &quot;fillColor&quot;: &quot;blue&quot;, &quot;fillOpacity&quot;: 0.6, &quot;fillRule&quot;: &quot;evenodd&quot;, &quot;lineCap&quot;: &quot;round&quot;, &quot;lineJoin&quot;: &quot;round&quot;, &quot;opacity&quot;: 1.0, &quot;radius&quot;: 4, &quot;stroke&quot;: true, &quot;weight&quot;: 3}\n",
       "            ).addTo(map_6c285c78858decbf900c2b4189855eba);\n",
       "        \n",
       "    \n",
       "        var popup_1ead5c64ab09046b2ef7c7c21494efb4 = L.popup({\n",
       "  &quot;maxWidth&quot;: &quot;100%&quot;,\n",
       "});\n",
       "\n",
       "        \n",
       "            \n",
       "                var html_9a4fefa6cb3585b36a1bf921c4a8577e = $(`&lt;div id=&quot;html_9a4fefa6cb3585b36a1bf921c4a8577e&quot; style=&quot;width: 100.0%; height: 100.0%;&quot;&gt;Precio: 625,000&lt;/div&gt;`)[0];\n",
       "                popup_1ead5c64ab09046b2ef7c7c21494efb4.setContent(html_9a4fefa6cb3585b36a1bf921c4a8577e);\n",
       "            \n",
       "        \n",
       "\n",
       "        circle_marker_73b27c2e5733bfafb5f44904ffcc348b.bindPopup(popup_1ead5c64ab09046b2ef7c7c21494efb4)\n",
       "        ;\n",
       "\n",
       "        \n",
       "    \n",
       "    \n",
       "            var circle_marker_2da0f87482aed362035911b23103cd8f = L.circleMarker(\n",
       "                [4.4548702337828, -75.194254517555],\n",
       "                {&quot;bubblingMouseEvents&quot;: true, &quot;color&quot;: &quot;blue&quot;, &quot;dashArray&quot;: null, &quot;dashOffset&quot;: null, &quot;fill&quot;: true, &quot;fillColor&quot;: &quot;blue&quot;, &quot;fillOpacity&quot;: 0.6, &quot;fillRule&quot;: &quot;evenodd&quot;, &quot;lineCap&quot;: &quot;round&quot;, &quot;lineJoin&quot;: &quot;round&quot;, &quot;opacity&quot;: 1.0, &quot;radius&quot;: 4, &quot;stroke&quot;: true, &quot;weight&quot;: 3}\n",
       "            ).addTo(map_6c285c78858decbf900c2b4189855eba);\n",
       "        \n",
       "    \n",
       "        var popup_dc63866b417f48ef887340743b14cc55 = L.popup({\n",
       "  &quot;maxWidth&quot;: &quot;100%&quot;,\n",
       "});\n",
       "\n",
       "        \n",
       "            \n",
       "                var html_8913d501e7212ee97a8870a99ef1e7c4 = $(`&lt;div id=&quot;html_8913d501e7212ee97a8870a99ef1e7c4&quot; style=&quot;width: 100.0%; height: 100.0%;&quot;&gt;Precio: 5,500,000&lt;/div&gt;`)[0];\n",
       "                popup_dc63866b417f48ef887340743b14cc55.setContent(html_8913d501e7212ee97a8870a99ef1e7c4);\n",
       "            \n",
       "        \n",
       "\n",
       "        circle_marker_2da0f87482aed362035911b23103cd8f.bindPopup(popup_dc63866b417f48ef887340743b14cc55)\n",
       "        ;\n",
       "\n",
       "        \n",
       "    \n",
       "    \n",
       "            var circle_marker_a37079625c33980cbcf5771942f9688e = L.circleMarker(\n",
       "                [4.4418979691216, -75.207027117622],\n",
       "                {&quot;bubblingMouseEvents&quot;: true, &quot;color&quot;: &quot;blue&quot;, &quot;dashArray&quot;: null, &quot;dashOffset&quot;: null, &quot;fill&quot;: true, &quot;fillColor&quot;: &quot;blue&quot;, &quot;fillOpacity&quot;: 0.6, &quot;fillRule&quot;: &quot;evenodd&quot;, &quot;lineCap&quot;: &quot;round&quot;, &quot;lineJoin&quot;: &quot;round&quot;, &quot;opacity&quot;: 1.0, &quot;radius&quot;: 4, &quot;stroke&quot;: true, &quot;weight&quot;: 3}\n",
       "            ).addTo(map_6c285c78858decbf900c2b4189855eba);\n",
       "        \n",
       "    \n",
       "        var popup_f81f3410f97622065de8d0ca5291f45e = L.popup({\n",
       "  &quot;maxWidth&quot;: &quot;100%&quot;,\n",
       "});\n",
       "\n",
       "        \n",
       "            \n",
       "                var html_80ce8207488ff6db4bc291dbc25a5aaf = $(`&lt;div id=&quot;html_80ce8207488ff6db4bc291dbc25a5aaf&quot; style=&quot;width: 100.0%; height: 100.0%;&quot;&gt;Precio: 1,550,000&lt;/div&gt;`)[0];\n",
       "                popup_f81f3410f97622065de8d0ca5291f45e.setContent(html_80ce8207488ff6db4bc291dbc25a5aaf);\n",
       "            \n",
       "        \n",
       "\n",
       "        circle_marker_a37079625c33980cbcf5771942f9688e.bindPopup(popup_f81f3410f97622065de8d0ca5291f45e)\n",
       "        ;\n",
       "\n",
       "        \n",
       "    \n",
       "    \n",
       "            var circle_marker_2dd0281585748ebd154e5abe384c86f6 = L.circleMarker(\n",
       "                [4.4323945348373, -75.179664138705],\n",
       "                {&quot;bubblingMouseEvents&quot;: true, &quot;color&quot;: &quot;blue&quot;, &quot;dashArray&quot;: null, &quot;dashOffset&quot;: null, &quot;fill&quot;: true, &quot;fillColor&quot;: &quot;blue&quot;, &quot;fillOpacity&quot;: 0.6, &quot;fillRule&quot;: &quot;evenodd&quot;, &quot;lineCap&quot;: &quot;round&quot;, &quot;lineJoin&quot;: &quot;round&quot;, &quot;opacity&quot;: 1.0, &quot;radius&quot;: 4, &quot;stroke&quot;: true, &quot;weight&quot;: 3}\n",
       "            ).addTo(map_6c285c78858decbf900c2b4189855eba);\n",
       "        \n",
       "    \n",
       "        var popup_d1c7869e6500dabde6da4063cebd8fa8 = L.popup({\n",
       "  &quot;maxWidth&quot;: &quot;100%&quot;,\n",
       "});\n",
       "\n",
       "        \n",
       "            \n",
       "                var html_cf0456379976eff93059aabd3dd099e9 = $(`&lt;div id=&quot;html_cf0456379976eff93059aabd3dd099e9&quot; style=&quot;width: 100.0%; height: 100.0%;&quot;&gt;Precio: 742,500&lt;/div&gt;`)[0];\n",
       "                popup_d1c7869e6500dabde6da4063cebd8fa8.setContent(html_cf0456379976eff93059aabd3dd099e9);\n",
       "            \n",
       "        \n",
       "\n",
       "        circle_marker_2dd0281585748ebd154e5abe384c86f6.bindPopup(popup_d1c7869e6500dabde6da4063cebd8fa8)\n",
       "        ;\n",
       "\n",
       "        \n",
       "    \n",
       "    \n",
       "            var circle_marker_efcec7ed1b0ca3e3434bd2d37eb93038 = L.circleMarker(\n",
       "                [4.4217770752068, -75.171541607904],\n",
       "                {&quot;bubblingMouseEvents&quot;: true, &quot;color&quot;: &quot;blue&quot;, &quot;dashArray&quot;: null, &quot;dashOffset&quot;: null, &quot;fill&quot;: true, &quot;fillColor&quot;: &quot;blue&quot;, &quot;fillOpacity&quot;: 0.6, &quot;fillRule&quot;: &quot;evenodd&quot;, &quot;lineCap&quot;: &quot;round&quot;, &quot;lineJoin&quot;: &quot;round&quot;, &quot;opacity&quot;: 1.0, &quot;radius&quot;: 4, &quot;stroke&quot;: true, &quot;weight&quot;: 3}\n",
       "            ).addTo(map_6c285c78858decbf900c2b4189855eba);\n",
       "        \n",
       "    \n",
       "        var popup_867b45101468fee5c0d09002f2faa817 = L.popup({\n",
       "  &quot;maxWidth&quot;: &quot;100%&quot;,\n",
       "});\n",
       "\n",
       "        \n",
       "            \n",
       "                var html_4dc1ccc8d66700224419ea8075eaf365 = $(`&lt;div id=&quot;html_4dc1ccc8d66700224419ea8075eaf365&quot; style=&quot;width: 100.0%; height: 100.0%;&quot;&gt;Precio: 972,409&lt;/div&gt;`)[0];\n",
       "                popup_867b45101468fee5c0d09002f2faa817.setContent(html_4dc1ccc8d66700224419ea8075eaf365);\n",
       "            \n",
       "        \n",
       "\n",
       "        circle_marker_efcec7ed1b0ca3e3434bd2d37eb93038.bindPopup(popup_867b45101468fee5c0d09002f2faa817)\n",
       "        ;\n",
       "\n",
       "        \n",
       "    \n",
       "    \n",
       "            var circle_marker_a33a206237e84fc39c6f514ca72de68f = L.circleMarker(\n",
       "                [4.4474568, -75.1527595],\n",
       "                {&quot;bubblingMouseEvents&quot;: true, &quot;color&quot;: &quot;blue&quot;, &quot;dashArray&quot;: null, &quot;dashOffset&quot;: null, &quot;fill&quot;: true, &quot;fillColor&quot;: &quot;blue&quot;, &quot;fillOpacity&quot;: 0.6, &quot;fillRule&quot;: &quot;evenodd&quot;, &quot;lineCap&quot;: &quot;round&quot;, &quot;lineJoin&quot;: &quot;round&quot;, &quot;opacity&quot;: 1.0, &quot;radius&quot;: 4, &quot;stroke&quot;: true, &quot;weight&quot;: 3}\n",
       "            ).addTo(map_6c285c78858decbf900c2b4189855eba);\n",
       "        \n",
       "    \n",
       "        var popup_9873b3918821cd9e0f5fbee2af389b73 = L.popup({\n",
       "  &quot;maxWidth&quot;: &quot;100%&quot;,\n",
       "});\n",
       "\n",
       "        \n",
       "            \n",
       "                var html_b521f0cf985ab0a9dcd06f249516edaa = $(`&lt;div id=&quot;html_b521f0cf985ab0a9dcd06f249516edaa&quot; style=&quot;width: 100.0%; height: 100.0%;&quot;&gt;Precio: 710,000&lt;/div&gt;`)[0];\n",
       "                popup_9873b3918821cd9e0f5fbee2af389b73.setContent(html_b521f0cf985ab0a9dcd06f249516edaa);\n",
       "            \n",
       "        \n",
       "\n",
       "        circle_marker_a33a206237e84fc39c6f514ca72de68f.bindPopup(popup_9873b3918821cd9e0f5fbee2af389b73)\n",
       "        ;\n",
       "\n",
       "        \n",
       "    \n",
       "    \n",
       "            var circle_marker_cacd0521a6bfa27ee2d337dbe0c1888a = L.circleMarker(\n",
       "                [4.4078178, -75.1634725],\n",
       "                {&quot;bubblingMouseEvents&quot;: true, &quot;color&quot;: &quot;blue&quot;, &quot;dashArray&quot;: null, &quot;dashOffset&quot;: null, &quot;fill&quot;: true, &quot;fillColor&quot;: &quot;blue&quot;, &quot;fillOpacity&quot;: 0.6, &quot;fillRule&quot;: &quot;evenodd&quot;, &quot;lineCap&quot;: &quot;round&quot;, &quot;lineJoin&quot;: &quot;round&quot;, &quot;opacity&quot;: 1.0, &quot;radius&quot;: 4, &quot;stroke&quot;: true, &quot;weight&quot;: 3}\n",
       "            ).addTo(map_6c285c78858decbf900c2b4189855eba);\n",
       "        \n",
       "    \n",
       "        var popup_5529667dec34c48b827dae8cfec7ce18 = L.popup({\n",
       "  &quot;maxWidth&quot;: &quot;100%&quot;,\n",
       "});\n",
       "\n",
       "        \n",
       "            \n",
       "                var html_0e03477099c2c3830679dcf9ce0b988b = $(`&lt;div id=&quot;html_0e03477099c2c3830679dcf9ce0b988b&quot; style=&quot;width: 100.0%; height: 100.0%;&quot;&gt;Precio: 789,000&lt;/div&gt;`)[0];\n",
       "                popup_5529667dec34c48b827dae8cfec7ce18.setContent(html_0e03477099c2c3830679dcf9ce0b988b);\n",
       "            \n",
       "        \n",
       "\n",
       "        circle_marker_cacd0521a6bfa27ee2d337dbe0c1888a.bindPopup(popup_5529667dec34c48b827dae8cfec7ce18)\n",
       "        ;\n",
       "\n",
       "        \n",
       "    \n",
       "    \n",
       "            var circle_marker_44eb0d215430e5fe2842d5bd7a961dfa = L.circleMarker(\n",
       "                [4.410013, -75.169859],\n",
       "                {&quot;bubblingMouseEvents&quot;: true, &quot;color&quot;: &quot;blue&quot;, &quot;dashArray&quot;: null, &quot;dashOffset&quot;: null, &quot;fill&quot;: true, &quot;fillColor&quot;: &quot;blue&quot;, &quot;fillOpacity&quot;: 0.6, &quot;fillRule&quot;: &quot;evenodd&quot;, &quot;lineCap&quot;: &quot;round&quot;, &quot;lineJoin&quot;: &quot;round&quot;, &quot;opacity&quot;: 1.0, &quot;radius&quot;: 4, &quot;stroke&quot;: true, &quot;weight&quot;: 3}\n",
       "            ).addTo(map_6c285c78858decbf900c2b4189855eba);\n",
       "        \n",
       "    \n",
       "        var popup_a4e27cdab4780b4f241b928787fc5e5d = L.popup({\n",
       "  &quot;maxWidth&quot;: &quot;100%&quot;,\n",
       "});\n",
       "\n",
       "        \n",
       "            \n",
       "                var html_fc1375f47ceab00caedbe0ca71d3543c = $(`&lt;div id=&quot;html_fc1375f47ceab00caedbe0ca71d3543c&quot; style=&quot;width: 100.0%; height: 100.0%;&quot;&gt;Precio: 1,140,000&lt;/div&gt;`)[0];\n",
       "                popup_a4e27cdab4780b4f241b928787fc5e5d.setContent(html_fc1375f47ceab00caedbe0ca71d3543c);\n",
       "            \n",
       "        \n",
       "\n",
       "        circle_marker_44eb0d215430e5fe2842d5bd7a961dfa.bindPopup(popup_a4e27cdab4780b4f241b928787fc5e5d)\n",
       "        ;\n",
       "\n",
       "        \n",
       "    \n",
       "    \n",
       "            var circle_marker_c0e27f136da9d384f3ee056783218894 = L.circleMarker(\n",
       "                [4.426997513032, -75.172644554492],\n",
       "                {&quot;bubblingMouseEvents&quot;: true, &quot;color&quot;: &quot;blue&quot;, &quot;dashArray&quot;: null, &quot;dashOffset&quot;: null, &quot;fill&quot;: true, &quot;fillColor&quot;: &quot;blue&quot;, &quot;fillOpacity&quot;: 0.6, &quot;fillRule&quot;: &quot;evenodd&quot;, &quot;lineCap&quot;: &quot;round&quot;, &quot;lineJoin&quot;: &quot;round&quot;, &quot;opacity&quot;: 1.0, &quot;radius&quot;: 4, &quot;stroke&quot;: true, &quot;weight&quot;: 3}\n",
       "            ).addTo(map_6c285c78858decbf900c2b4189855eba);\n",
       "        \n",
       "    \n",
       "        var popup_fb1fac0affa7183fcf282e73a814222f = L.popup({\n",
       "  &quot;maxWidth&quot;: &quot;100%&quot;,\n",
       "});\n",
       "\n",
       "        \n",
       "            \n",
       "                var html_fb6220cd658f867a56688af0ae007c06 = $(`&lt;div id=&quot;html_fb6220cd658f867a56688af0ae007c06&quot; style=&quot;width: 100.0%; height: 100.0%;&quot;&gt;Precio: 894,000&lt;/div&gt;`)[0];\n",
       "                popup_fb1fac0affa7183fcf282e73a814222f.setContent(html_fb6220cd658f867a56688af0ae007c06);\n",
       "            \n",
       "        \n",
       "\n",
       "        circle_marker_c0e27f136da9d384f3ee056783218894.bindPopup(popup_fb1fac0affa7183fcf282e73a814222f)\n",
       "        ;\n",
       "\n",
       "        \n",
       "    \n",
       "    \n",
       "            var circle_marker_db72b4377fa3ffaae6a7562b4ba8a02c = L.circleMarker(\n",
       "                [4.4457240673077, -75.233808048069],\n",
       "                {&quot;bubblingMouseEvents&quot;: true, &quot;color&quot;: &quot;blue&quot;, &quot;dashArray&quot;: null, &quot;dashOffset&quot;: null, &quot;fill&quot;: true, &quot;fillColor&quot;: &quot;blue&quot;, &quot;fillOpacity&quot;: 0.6, &quot;fillRule&quot;: &quot;evenodd&quot;, &quot;lineCap&quot;: &quot;round&quot;, &quot;lineJoin&quot;: &quot;round&quot;, &quot;opacity&quot;: 1.0, &quot;radius&quot;: 4, &quot;stroke&quot;: true, &quot;weight&quot;: 3}\n",
       "            ).addTo(map_6c285c78858decbf900c2b4189855eba);\n",
       "        \n",
       "    \n",
       "        var popup_78c9bb09fa6832f172dd7cb1f9bd4d7f = L.popup({\n",
       "  &quot;maxWidth&quot;: &quot;100%&quot;,\n",
       "});\n",
       "\n",
       "        \n",
       "            \n",
       "                var html_a6d6c7545c16bfeb3a8de3753ed81f17 = $(`&lt;div id=&quot;html_a6d6c7545c16bfeb3a8de3753ed81f17&quot; style=&quot;width: 100.0%; height: 100.0%;&quot;&gt;Precio: 1,378,000&lt;/div&gt;`)[0];\n",
       "                popup_78c9bb09fa6832f172dd7cb1f9bd4d7f.setContent(html_a6d6c7545c16bfeb3a8de3753ed81f17);\n",
       "            \n",
       "        \n",
       "\n",
       "        circle_marker_db72b4377fa3ffaae6a7562b4ba8a02c.bindPopup(popup_78c9bb09fa6832f172dd7cb1f9bd4d7f)\n",
       "        ;\n",
       "\n",
       "        \n",
       "    \n",
       "    \n",
       "            var circle_marker_56b12a115695158675b56d2ff6ac0a97 = L.circleMarker(\n",
       "                [4.4365522, -75.2055862],\n",
       "                {&quot;bubblingMouseEvents&quot;: true, &quot;color&quot;: &quot;blue&quot;, &quot;dashArray&quot;: null, &quot;dashOffset&quot;: null, &quot;fill&quot;: true, &quot;fillColor&quot;: &quot;blue&quot;, &quot;fillOpacity&quot;: 0.6, &quot;fillRule&quot;: &quot;evenodd&quot;, &quot;lineCap&quot;: &quot;round&quot;, &quot;lineJoin&quot;: &quot;round&quot;, &quot;opacity&quot;: 1.0, &quot;radius&quot;: 4, &quot;stroke&quot;: true, &quot;weight&quot;: 3}\n",
       "            ).addTo(map_6c285c78858decbf900c2b4189855eba);\n",
       "        \n",
       "    \n",
       "        var popup_009116e8323bdcb437e8ccf828e7fd9b = L.popup({\n",
       "  &quot;maxWidth&quot;: &quot;100%&quot;,\n",
       "});\n",
       "\n",
       "        \n",
       "            \n",
       "                var html_3edb7da42959c0124bfc4c1219f620cc = $(`&lt;div id=&quot;html_3edb7da42959c0124bfc4c1219f620cc&quot; style=&quot;width: 100.0%; height: 100.0%;&quot;&gt;Precio: 1,250,000&lt;/div&gt;`)[0];\n",
       "                popup_009116e8323bdcb437e8ccf828e7fd9b.setContent(html_3edb7da42959c0124bfc4c1219f620cc);\n",
       "            \n",
       "        \n",
       "\n",
       "        circle_marker_56b12a115695158675b56d2ff6ac0a97.bindPopup(popup_009116e8323bdcb437e8ccf828e7fd9b)\n",
       "        ;\n",
       "\n",
       "        \n",
       "    \n",
       "    \n",
       "            var circle_marker_aef2feddd02eb90d9e4bf7b2cf2a7479 = L.circleMarker(\n",
       "                [4.4466229116676, -75.172883514315],\n",
       "                {&quot;bubblingMouseEvents&quot;: true, &quot;color&quot;: &quot;blue&quot;, &quot;dashArray&quot;: null, &quot;dashOffset&quot;: null, &quot;fill&quot;: true, &quot;fillColor&quot;: &quot;blue&quot;, &quot;fillOpacity&quot;: 0.6, &quot;fillRule&quot;: &quot;evenodd&quot;, &quot;lineCap&quot;: &quot;round&quot;, &quot;lineJoin&quot;: &quot;round&quot;, &quot;opacity&quot;: 1.0, &quot;radius&quot;: 4, &quot;stroke&quot;: true, &quot;weight&quot;: 3}\n",
       "            ).addTo(map_6c285c78858decbf900c2b4189855eba);\n",
       "        \n",
       "    \n",
       "        var popup_7af7ddb1b48f4ba9878514ed49eabba7 = L.popup({\n",
       "  &quot;maxWidth&quot;: &quot;100%&quot;,\n",
       "});\n",
       "\n",
       "        \n",
       "            \n",
       "                var html_bb22b8358935a6d5cb97390099d53ebb = $(`&lt;div id=&quot;html_bb22b8358935a6d5cb97390099d53ebb&quot; style=&quot;width: 100.0%; height: 100.0%;&quot;&gt;Precio: 950,000&lt;/div&gt;`)[0];\n",
       "                popup_7af7ddb1b48f4ba9878514ed49eabba7.setContent(html_bb22b8358935a6d5cb97390099d53ebb);\n",
       "            \n",
       "        \n",
       "\n",
       "        circle_marker_aef2feddd02eb90d9e4bf7b2cf2a7479.bindPopup(popup_7af7ddb1b48f4ba9878514ed49eabba7)\n",
       "        ;\n",
       "\n",
       "        \n",
       "    \n",
       "    \n",
       "            var circle_marker_34e3059bde6e35d2e1c96abe42617712 = L.circleMarker(\n",
       "                [4.4101631822371, -75.170001983643],\n",
       "                {&quot;bubblingMouseEvents&quot;: true, &quot;color&quot;: &quot;blue&quot;, &quot;dashArray&quot;: null, &quot;dashOffset&quot;: null, &quot;fill&quot;: true, &quot;fillColor&quot;: &quot;blue&quot;, &quot;fillOpacity&quot;: 0.6, &quot;fillRule&quot;: &quot;evenodd&quot;, &quot;lineCap&quot;: &quot;round&quot;, &quot;lineJoin&quot;: &quot;round&quot;, &quot;opacity&quot;: 1.0, &quot;radius&quot;: 4, &quot;stroke&quot;: true, &quot;weight&quot;: 3}\n",
       "            ).addTo(map_6c285c78858decbf900c2b4189855eba);\n",
       "        \n",
       "    \n",
       "        var popup_1fd8dc58a4ed1dc5db675cb6b1f33539 = L.popup({\n",
       "  &quot;maxWidth&quot;: &quot;100%&quot;,\n",
       "});\n",
       "\n",
       "        \n",
       "            \n",
       "                var html_0108ba4cc1abc2eb868d8eb4c23af0eb = $(`&lt;div id=&quot;html_0108ba4cc1abc2eb868d8eb4c23af0eb&quot; style=&quot;width: 100.0%; height: 100.0%;&quot;&gt;Precio: 1,300,000&lt;/div&gt;`)[0];\n",
       "                popup_1fd8dc58a4ed1dc5db675cb6b1f33539.setContent(html_0108ba4cc1abc2eb868d8eb4c23af0eb);\n",
       "            \n",
       "        \n",
       "\n",
       "        circle_marker_34e3059bde6e35d2e1c96abe42617712.bindPopup(popup_1fd8dc58a4ed1dc5db675cb6b1f33539)\n",
       "        ;\n",
       "\n",
       "        \n",
       "    \n",
       "    \n",
       "            var circle_marker_7c6cf634d33dc4d550be1095f34289a5 = L.circleMarker(\n",
       "                [4.4422041636374, -75.193590779406],\n",
       "                {&quot;bubblingMouseEvents&quot;: true, &quot;color&quot;: &quot;blue&quot;, &quot;dashArray&quot;: null, &quot;dashOffset&quot;: null, &quot;fill&quot;: true, &quot;fillColor&quot;: &quot;blue&quot;, &quot;fillOpacity&quot;: 0.6, &quot;fillRule&quot;: &quot;evenodd&quot;, &quot;lineCap&quot;: &quot;round&quot;, &quot;lineJoin&quot;: &quot;round&quot;, &quot;opacity&quot;: 1.0, &quot;radius&quot;: 4, &quot;stroke&quot;: true, &quot;weight&quot;: 3}\n",
       "            ).addTo(map_6c285c78858decbf900c2b4189855eba);\n",
       "        \n",
       "    \n",
       "        var popup_81562943cdd7b082c651b50bb37ebd5b = L.popup({\n",
       "  &quot;maxWidth&quot;: &quot;100%&quot;,\n",
       "});\n",
       "\n",
       "        \n",
       "            \n",
       "                var html_9e1333f7f85eda52ff67d1c9368e11b7 = $(`&lt;div id=&quot;html_9e1333f7f85eda52ff67d1c9368e11b7&quot; style=&quot;width: 100.0%; height: 100.0%;&quot;&gt;Precio: 1,200,000&lt;/div&gt;`)[0];\n",
       "                popup_81562943cdd7b082c651b50bb37ebd5b.setContent(html_9e1333f7f85eda52ff67d1c9368e11b7);\n",
       "            \n",
       "        \n",
       "\n",
       "        circle_marker_7c6cf634d33dc4d550be1095f34289a5.bindPopup(popup_81562943cdd7b082c651b50bb37ebd5b)\n",
       "        ;\n",
       "\n",
       "        \n",
       "    \n",
       "    \n",
       "            var circle_marker_bd08b165907f89bb6cdb13da3bcea505 = L.circleMarker(\n",
       "                [4.4489411746247, -75.244697690941],\n",
       "                {&quot;bubblingMouseEvents&quot;: true, &quot;color&quot;: &quot;blue&quot;, &quot;dashArray&quot;: null, &quot;dashOffset&quot;: null, &quot;fill&quot;: true, &quot;fillColor&quot;: &quot;blue&quot;, &quot;fillOpacity&quot;: 0.6, &quot;fillRule&quot;: &quot;evenodd&quot;, &quot;lineCap&quot;: &quot;round&quot;, &quot;lineJoin&quot;: &quot;round&quot;, &quot;opacity&quot;: 1.0, &quot;radius&quot;: 4, &quot;stroke&quot;: true, &quot;weight&quot;: 3}\n",
       "            ).addTo(map_6c285c78858decbf900c2b4189855eba);\n",
       "        \n",
       "    \n",
       "        var popup_9a239e4c8319391847784e89160ed503 = L.popup({\n",
       "  &quot;maxWidth&quot;: &quot;100%&quot;,\n",
       "});\n",
       "\n",
       "        \n",
       "            \n",
       "                var html_172fe8ca36d9991c30e7ec797a51c6b2 = $(`&lt;div id=&quot;html_172fe8ca36d9991c30e7ec797a51c6b2&quot; style=&quot;width: 100.0%; height: 100.0%;&quot;&gt;Precio: 900,000&lt;/div&gt;`)[0];\n",
       "                popup_9a239e4c8319391847784e89160ed503.setContent(html_172fe8ca36d9991c30e7ec797a51c6b2);\n",
       "            \n",
       "        \n",
       "\n",
       "        circle_marker_bd08b165907f89bb6cdb13da3bcea505.bindPopup(popup_9a239e4c8319391847784e89160ed503)\n",
       "        ;\n",
       "\n",
       "        \n",
       "    \n",
       "    \n",
       "            var circle_marker_0aba40dfb665af9237ac6f612b68bbe7 = L.circleMarker(\n",
       "                [4.4402667986557, -75.205204440745],\n",
       "                {&quot;bubblingMouseEvents&quot;: true, &quot;color&quot;: &quot;blue&quot;, &quot;dashArray&quot;: null, &quot;dashOffset&quot;: null, &quot;fill&quot;: true, &quot;fillColor&quot;: &quot;blue&quot;, &quot;fillOpacity&quot;: 0.6, &quot;fillRule&quot;: &quot;evenodd&quot;, &quot;lineCap&quot;: &quot;round&quot;, &quot;lineJoin&quot;: &quot;round&quot;, &quot;opacity&quot;: 1.0, &quot;radius&quot;: 4, &quot;stroke&quot;: true, &quot;weight&quot;: 3}\n",
       "            ).addTo(map_6c285c78858decbf900c2b4189855eba);\n",
       "        \n",
       "    \n",
       "        var popup_ec9a469fc8150068659501634691a91d = L.popup({\n",
       "  &quot;maxWidth&quot;: &quot;100%&quot;,\n",
       "});\n",
       "\n",
       "        \n",
       "            \n",
       "                var html_0c669f1a75b7e40e7f5a291bc1585ae2 = $(`&lt;div id=&quot;html_0c669f1a75b7e40e7f5a291bc1585ae2&quot; style=&quot;width: 100.0%; height: 100.0%;&quot;&gt;Precio: 1,258,000&lt;/div&gt;`)[0];\n",
       "                popup_ec9a469fc8150068659501634691a91d.setContent(html_0c669f1a75b7e40e7f5a291bc1585ae2);\n",
       "            \n",
       "        \n",
       "\n",
       "        circle_marker_0aba40dfb665af9237ac6f612b68bbe7.bindPopup(popup_ec9a469fc8150068659501634691a91d)\n",
       "        ;\n",
       "\n",
       "        \n",
       "    \n",
       "    \n",
       "            var circle_marker_1e8ceccae44e12a47aedfd51524a831f = L.circleMarker(\n",
       "                [4.4458263531101, -75.188798904419],\n",
       "                {&quot;bubblingMouseEvents&quot;: true, &quot;color&quot;: &quot;blue&quot;, &quot;dashArray&quot;: null, &quot;dashOffset&quot;: null, &quot;fill&quot;: true, &quot;fillColor&quot;: &quot;blue&quot;, &quot;fillOpacity&quot;: 0.6, &quot;fillRule&quot;: &quot;evenodd&quot;, &quot;lineCap&quot;: &quot;round&quot;, &quot;lineJoin&quot;: &quot;round&quot;, &quot;opacity&quot;: 1.0, &quot;radius&quot;: 4, &quot;stroke&quot;: true, &quot;weight&quot;: 3}\n",
       "            ).addTo(map_6c285c78858decbf900c2b4189855eba);\n",
       "        \n",
       "    \n",
       "        var popup_1c05e118fa346aec59ec1b28cf359157 = L.popup({\n",
       "  &quot;maxWidth&quot;: &quot;100%&quot;,\n",
       "});\n",
       "\n",
       "        \n",
       "            \n",
       "                var html_1835da8a06a89df73f7f72194b7b7b49 = $(`&lt;div id=&quot;html_1835da8a06a89df73f7f72194b7b7b49&quot; style=&quot;width: 100.0%; height: 100.0%;&quot;&gt;Precio: 1,054,000&lt;/div&gt;`)[0];\n",
       "                popup_1c05e118fa346aec59ec1b28cf359157.setContent(html_1835da8a06a89df73f7f72194b7b7b49);\n",
       "            \n",
       "        \n",
       "\n",
       "        circle_marker_1e8ceccae44e12a47aedfd51524a831f.bindPopup(popup_1c05e118fa346aec59ec1b28cf359157)\n",
       "        ;\n",
       "\n",
       "        \n",
       "    \n",
       "    \n",
       "            var circle_marker_6cebb1f832ed2110d85d57bd3dce3891 = L.circleMarker(\n",
       "                [4.4286311083139, -75.179198272526],\n",
       "                {&quot;bubblingMouseEvents&quot;: true, &quot;color&quot;: &quot;blue&quot;, &quot;dashArray&quot;: null, &quot;dashOffset&quot;: null, &quot;fill&quot;: true, &quot;fillColor&quot;: &quot;blue&quot;, &quot;fillOpacity&quot;: 0.6, &quot;fillRule&quot;: &quot;evenodd&quot;, &quot;lineCap&quot;: &quot;round&quot;, &quot;lineJoin&quot;: &quot;round&quot;, &quot;opacity&quot;: 1.0, &quot;radius&quot;: 4, &quot;stroke&quot;: true, &quot;weight&quot;: 3}\n",
       "            ).addTo(map_6c285c78858decbf900c2b4189855eba);\n",
       "        \n",
       "    \n",
       "        var popup_42b97de7932512b0ad844bd45005a2bf = L.popup({\n",
       "  &quot;maxWidth&quot;: &quot;100%&quot;,\n",
       "});\n",
       "\n",
       "        \n",
       "            \n",
       "                var html_9b482a05d6629a549f04151e101a0e1a = $(`&lt;div id=&quot;html_9b482a05d6629a549f04151e101a0e1a&quot; style=&quot;width: 100.0%; height: 100.0%;&quot;&gt;Precio: 1,242,600&lt;/div&gt;`)[0];\n",
       "                popup_42b97de7932512b0ad844bd45005a2bf.setContent(html_9b482a05d6629a549f04151e101a0e1a);\n",
       "            \n",
       "        \n",
       "\n",
       "        circle_marker_6cebb1f832ed2110d85d57bd3dce3891.bindPopup(popup_42b97de7932512b0ad844bd45005a2bf)\n",
       "        ;\n",
       "\n",
       "        \n",
       "    \n",
       "    \n",
       "            var circle_marker_c5babb1b9caa9597ee355be3f6d8b799 = L.circleMarker(\n",
       "                [4.4255454, -75.1778643],\n",
       "                {&quot;bubblingMouseEvents&quot;: true, &quot;color&quot;: &quot;blue&quot;, &quot;dashArray&quot;: null, &quot;dashOffset&quot;: null, &quot;fill&quot;: true, &quot;fillColor&quot;: &quot;blue&quot;, &quot;fillOpacity&quot;: 0.6, &quot;fillRule&quot;: &quot;evenodd&quot;, &quot;lineCap&quot;: &quot;round&quot;, &quot;lineJoin&quot;: &quot;round&quot;, &quot;opacity&quot;: 1.0, &quot;radius&quot;: 4, &quot;stroke&quot;: true, &quot;weight&quot;: 3}\n",
       "            ).addTo(map_6c285c78858decbf900c2b4189855eba);\n",
       "        \n",
       "    \n",
       "        var popup_74ce296f6fac1c82679c8ea07536d849 = L.popup({\n",
       "  &quot;maxWidth&quot;: &quot;100%&quot;,\n",
       "});\n",
       "\n",
       "        \n",
       "            \n",
       "                var html_a2775e59dabbfa6283aff898cc122eee = $(`&lt;div id=&quot;html_a2775e59dabbfa6283aff898cc122eee&quot; style=&quot;width: 100.0%; height: 100.0%;&quot;&gt;Precio: 1,060,500&lt;/div&gt;`)[0];\n",
       "                popup_74ce296f6fac1c82679c8ea07536d849.setContent(html_a2775e59dabbfa6283aff898cc122eee);\n",
       "            \n",
       "        \n",
       "\n",
       "        circle_marker_c5babb1b9caa9597ee355be3f6d8b799.bindPopup(popup_74ce296f6fac1c82679c8ea07536d849)\n",
       "        ;\n",
       "\n",
       "        \n",
       "    \n",
       "    \n",
       "            var circle_marker_e294aeecdc1f49c0f7113927898b9d53 = L.circleMarker(\n",
       "                [4.4461857, -75.1548884],\n",
       "                {&quot;bubblingMouseEvents&quot;: true, &quot;color&quot;: &quot;blue&quot;, &quot;dashArray&quot;: null, &quot;dashOffset&quot;: null, &quot;fill&quot;: true, &quot;fillColor&quot;: &quot;blue&quot;, &quot;fillOpacity&quot;: 0.6, &quot;fillRule&quot;: &quot;evenodd&quot;, &quot;lineCap&quot;: &quot;round&quot;, &quot;lineJoin&quot;: &quot;round&quot;, &quot;opacity&quot;: 1.0, &quot;radius&quot;: 4, &quot;stroke&quot;: true, &quot;weight&quot;: 3}\n",
       "            ).addTo(map_6c285c78858decbf900c2b4189855eba);\n",
       "        \n",
       "    \n",
       "        var popup_9f786c43f1748693b809a4008049265b = L.popup({\n",
       "  &quot;maxWidth&quot;: &quot;100%&quot;,\n",
       "});\n",
       "\n",
       "        \n",
       "            \n",
       "                var html_237137e42222062d4f63a13d9446e973 = $(`&lt;div id=&quot;html_237137e42222062d4f63a13d9446e973&quot; style=&quot;width: 100.0%; height: 100.0%;&quot;&gt;Precio: 762,000&lt;/div&gt;`)[0];\n",
       "                popup_9f786c43f1748693b809a4008049265b.setContent(html_237137e42222062d4f63a13d9446e973);\n",
       "            \n",
       "        \n",
       "\n",
       "        circle_marker_e294aeecdc1f49c0f7113927898b9d53.bindPopup(popup_9f786c43f1748693b809a4008049265b)\n",
       "        ;\n",
       "\n",
       "        \n",
       "    \n",
       "    \n",
       "            var circle_marker_767ab17e50fb9cb80d8b4d650cd7b474 = L.circleMarker(\n",
       "                [4.3924753677863, -75.140519142151],\n",
       "                {&quot;bubblingMouseEvents&quot;: true, &quot;color&quot;: &quot;blue&quot;, &quot;dashArray&quot;: null, &quot;dashOffset&quot;: null, &quot;fill&quot;: true, &quot;fillColor&quot;: &quot;blue&quot;, &quot;fillOpacity&quot;: 0.6, &quot;fillRule&quot;: &quot;evenodd&quot;, &quot;lineCap&quot;: &quot;round&quot;, &quot;lineJoin&quot;: &quot;round&quot;, &quot;opacity&quot;: 1.0, &quot;radius&quot;: 4, &quot;stroke&quot;: true, &quot;weight&quot;: 3}\n",
       "            ).addTo(map_6c285c78858decbf900c2b4189855eba);\n",
       "        \n",
       "    \n",
       "        var popup_9ee6893e82252bc41ee428b2ca495113 = L.popup({\n",
       "  &quot;maxWidth&quot;: &quot;100%&quot;,\n",
       "});\n",
       "\n",
       "        \n",
       "            \n",
       "                var html_8f0db982cf0bee06e7c7728ae549b4ed = $(`&lt;div id=&quot;html_8f0db982cf0bee06e7c7728ae549b4ed&quot; style=&quot;width: 100.0%; height: 100.0%;&quot;&gt;Precio: 200,000&lt;/div&gt;`)[0];\n",
       "                popup_9ee6893e82252bc41ee428b2ca495113.setContent(html_8f0db982cf0bee06e7c7728ae549b4ed);\n",
       "            \n",
       "        \n",
       "\n",
       "        circle_marker_767ab17e50fb9cb80d8b4d650cd7b474.bindPopup(popup_9ee6893e82252bc41ee428b2ca495113)\n",
       "        ;\n",
       "\n",
       "        \n",
       "    \n",
       "    \n",
       "            var circle_marker_dde555d38a88b54253086e5414ba529b = L.circleMarker(\n",
       "                [4.44108375555, -75.222452029224],\n",
       "                {&quot;bubblingMouseEvents&quot;: true, &quot;color&quot;: &quot;blue&quot;, &quot;dashArray&quot;: null, &quot;dashOffset&quot;: null, &quot;fill&quot;: true, &quot;fillColor&quot;: &quot;blue&quot;, &quot;fillOpacity&quot;: 0.6, &quot;fillRule&quot;: &quot;evenodd&quot;, &quot;lineCap&quot;: &quot;round&quot;, &quot;lineJoin&quot;: &quot;round&quot;, &quot;opacity&quot;: 1.0, &quot;radius&quot;: 4, &quot;stroke&quot;: true, &quot;weight&quot;: 3}\n",
       "            ).addTo(map_6c285c78858decbf900c2b4189855eba);\n",
       "        \n",
       "    \n",
       "        var popup_eaaf15b41c70106d9765aab7bd4f68f9 = L.popup({\n",
       "  &quot;maxWidth&quot;: &quot;100%&quot;,\n",
       "});\n",
       "\n",
       "        \n",
       "            \n",
       "                var html_790a2145ec81aea0d6b18a9ef4b522ab = $(`&lt;div id=&quot;html_790a2145ec81aea0d6b18a9ef4b522ab&quot; style=&quot;width: 100.0%; height: 100.0%;&quot;&gt;Precio: 900,000&lt;/div&gt;`)[0];\n",
       "                popup_eaaf15b41c70106d9765aab7bd4f68f9.setContent(html_790a2145ec81aea0d6b18a9ef4b522ab);\n",
       "            \n",
       "        \n",
       "\n",
       "        circle_marker_dde555d38a88b54253086e5414ba529b.bindPopup(popup_eaaf15b41c70106d9765aab7bd4f68f9)\n",
       "        ;\n",
       "\n",
       "        \n",
       "    \n",
       "    \n",
       "            var circle_marker_9998d6d886064d331f4c910b6afc11ba = L.circleMarker(\n",
       "                [4.4189575, -75.1701309],\n",
       "                {&quot;bubblingMouseEvents&quot;: true, &quot;color&quot;: &quot;blue&quot;, &quot;dashArray&quot;: null, &quot;dashOffset&quot;: null, &quot;fill&quot;: true, &quot;fillColor&quot;: &quot;blue&quot;, &quot;fillOpacity&quot;: 0.6, &quot;fillRule&quot;: &quot;evenodd&quot;, &quot;lineCap&quot;: &quot;round&quot;, &quot;lineJoin&quot;: &quot;round&quot;, &quot;opacity&quot;: 1.0, &quot;radius&quot;: 4, &quot;stroke&quot;: true, &quot;weight&quot;: 3}\n",
       "            ).addTo(map_6c285c78858decbf900c2b4189855eba);\n",
       "        \n",
       "    \n",
       "        var popup_7d145835d093d12fa3d82459169f5e81 = L.popup({\n",
       "  &quot;maxWidth&quot;: &quot;100%&quot;,\n",
       "});\n",
       "\n",
       "        \n",
       "            \n",
       "                var html_e0f035bb4d5e56141ba0941426aacbc0 = $(`&lt;div id=&quot;html_e0f035bb4d5e56141ba0941426aacbc0&quot; style=&quot;width: 100.0%; height: 100.0%;&quot;&gt;Precio: 1,000,000&lt;/div&gt;`)[0];\n",
       "                popup_7d145835d093d12fa3d82459169f5e81.setContent(html_e0f035bb4d5e56141ba0941426aacbc0);\n",
       "            \n",
       "        \n",
       "\n",
       "        circle_marker_9998d6d886064d331f4c910b6afc11ba.bindPopup(popup_7d145835d093d12fa3d82459169f5e81)\n",
       "        ;\n",
       "\n",
       "        \n",
       "    \n",
       "&lt;/script&gt;\n",
       "&lt;/html&gt;\" style=\"position:absolute;width:100%;height:100%;left:0;top:0;border:none !important;\" allowfullscreen webkitallowfullscreen mozallowfullscreen></iframe></div></div>"
      ],
      "text/plain": [
       "<folium.folium.Map at 0x174796e40>"
      ]
     },
     "execution_count": 11,
     "metadata": {},
     "output_type": "execute_result"
    }
   ],
   "source": [
    "# definición del centro aproximado de Ibagué\n",
    "centro_ibague = [4.438889, -75.232222]\n",
    "\n",
    "# creación del mapa base\n",
    "mapa_ibague = folium.Map(location=centro_ibague, zoom_start=12, tiles='cartodbpositron')\n",
    "\n",
    "# adición de los puntos de los apartamentos al mapa\n",
    "for idx, fila in datos_apartamentos.iterrows():\n",
    "    lat = fila['Latitud']\n",
    "    lon = fila['Longitud']\n",
    "    if not (pd.isnull(lat) or pd.isnull(lon)):\n",
    "        folium.CircleMarker(\n",
    "            location=[lat, lon],\n",
    "            radius=4,\n",
    "            color='blue',\n",
    "            fill=True,\n",
    "            fill_color='blue',\n",
    "            fill_opacity=0.6,\n",
    "            popup=f\"Precio: {fila['Precio']:,}\"\n",
    "        ).add_to(mapa_ibague)\n",
    "\n",
    "# impresión del mapa\n",
    "mapa_ibague"
   ]
  },
  {
   "cell_type": "markdown",
   "id": "1dfefacf",
   "metadata": {},
   "source": [
    "Hay un dato que claramente no fue ubicado en Ibagué. Con exactitud, se determina la proporción:"
   ]
  },
  {
   "cell_type": "code",
   "execution_count": 12,
   "id": "c26db994",
   "metadata": {},
   "outputs": [
    {
     "name": "stdout",
     "output_type": "stream",
     "text": [
      "Proporción de apartamentos fuera de Ibagué: 0.83%\n",
      "Número absoluto de apartamentos fuera de Ibagué: 1\n"
     ]
    }
   ],
   "source": [
    "# definición de los límites aproximados de la ciudad\n",
    "lat_min = 4.35\n",
    "lat_max = 4.55\n",
    "lon_min = -75.30\n",
    "lon_max = -75.10\n",
    "\n",
    "# creación de variable auxiliar que identifica apartamentos fuera de la ciudad\n",
    "datos_apartamentos['fuera_ciudad'] = (\n",
    "    ~(\n",
    "        (datos_apartamentos['Latitud'] >= lat_min) & (datos_apartamentos['Latitud'] <= lat_max) &\n",
    "        (datos_apartamentos['Longitud'] >= lon_min) & (datos_apartamentos['Longitud'] <= lon_max)\n",
    "    )\n",
    ").astype(int)\n",
    "\n",
    "# cálculo de la proporción y el número absoluto\n",
    "proporcion_fuera = datos_apartamentos['fuera_ciudad'].mean()\n",
    "cantidad_fuera = datos_apartamentos['fuera_ciudad'].sum()\n",
    "\n",
    "# impresión del resultado\n",
    "print(f\"Proporción de apartamentos fuera de Ibagué: {proporcion_fuera:.2%}\")\n",
    "print(f\"Número absoluto de apartamentos fuera de Ibagué: {cantidad_fuera}\")"
   ]
  },
  {
   "cell_type": "markdown",
   "id": "a8dd4856",
   "metadata": {},
   "source": [
    "Debido a que la proporción y cantidad de apartamentos con coordenadas fuera de Ibagué es muy bajo, se puede eliminar las observaciones por fuera de la ciudad."
   ]
  },
  {
   "cell_type": "markdown",
   "id": "0433b709",
   "metadata": {},
   "source": [
    "## Ingeniería de características"
   ]
  },
  {
   "cell_type": "markdown",
   "id": "83799277",
   "metadata": {},
   "source": [
    "### Eliminación de variables"
   ]
  },
  {
   "cell_type": "markdown",
   "id": "7786a058",
   "metadata": {},
   "source": [
    "A partir del análisis exploratorio previo, en el que se detectaron variables con alta proporción de valores faltantes o que no aportaban información, se decide eliminar las siguientes variables:"
   ]
  },
  {
   "cell_type": "code",
   "execution_count": 13,
   "id": "16922cb1",
   "metadata": {},
   "outputs": [],
   "source": [
    "datos_apartamentos = datos_apartamentos.drop(columns=[\n",
    "    'Piso N°', 'Estado', 'Cantidad de pisos', 'Área Privada (metros cuadrados)', 'Administración', 'Parqueaderos'\n",
    "    ])"
   ]
  },
  {
   "cell_type": "markdown",
   "id": "3e54a244",
   "metadata": {},
   "source": [
    "De esta forma, la nueva estructura de la base es la siguiente:"
   ]
  },
  {
   "cell_type": "code",
   "execution_count": 14,
   "id": "3321ad62",
   "metadata": {},
   "outputs": [
    {
     "name": "stdout",
     "output_type": "stream",
     "text": [
      "<class 'pandas.core.frame.DataFrame'>\n",
      "RangeIndex: 120 entries, 0 to 119\n",
      "Data columns (total 10 columns):\n",
      " #   Column                              Non-Null Count  Dtype  \n",
      "---  ------                              --------------  -----  \n",
      " 0   Identificador                       120 non-null    int64  \n",
      " 1   Área Construida (metros cuadrados)  120 non-null    float64\n",
      " 2   Habitaciones                        120 non-null    int64  \n",
      " 3   Baños                               120 non-null    int64  \n",
      " 4   Estrato                             120 non-null    object \n",
      " 5   Antigüedad                          120 non-null    object \n",
      " 6   Latitud                             120 non-null    float64\n",
      " 7   Longitud                            120 non-null    float64\n",
      " 8   Precio                              120 non-null    int64  \n",
      " 9   fuera_ciudad                        120 non-null    int64  \n",
      "dtypes: float64(3), int64(5), object(2)\n",
      "memory usage: 9.5+ KB\n"
     ]
    }
   ],
   "source": [
    "datos_apartamentos.info()"
   ]
  },
  {
   "cell_type": "markdown",
   "id": "9440f5e2",
   "metadata": {},
   "source": [
    "### Exclusión de coordenadas fuera de la ciudad"
   ]
  },
  {
   "cell_type": "markdown",
   "id": "c9c229fb",
   "metadata": {},
   "source": [
    "Se decide excluir los apartamentos que se encuentran fuera de la ciudad. No se recomienda realizar una imputación en estos casos. Además, la proporción de apartamentos fuera de la ciudad son muy pocos."
   ]
  },
  {
   "cell_type": "code",
   "execution_count": 15,
   "id": "ab23f422",
   "metadata": {},
   "outputs": [],
   "source": [
    "# filtro para excluir casos fuera de la ciudad\n",
    "datos_apartamentos=datos_apartamentos[datos_apartamentos['fuera_ciudad']!=1]\n",
    "# eliminación de la variable\n",
    "del datos_apartamentos['fuera_ciudad']"
   ]
  },
  {
   "cell_type": "markdown",
   "id": "a9aafe14",
   "metadata": {},
   "source": [
    "### Variables categóricas"
   ]
  },
  {
   "cell_type": "markdown",
   "id": "36f80f66",
   "metadata": {},
   "source": [
    "En la base quedaron las siguientes variables categóricas:"
   ]
  },
  {
   "cell_type": "code",
   "execution_count": 16,
   "id": "800dc533",
   "metadata": {},
   "outputs": [
    {
     "name": "stdout",
     "output_type": "stream",
     "text": [
      "Variables categóricas restantes: ['Estrato', 'Antigüedad']\n"
     ]
    }
   ],
   "source": [
    "# identificación de variables\n",
    "variables_categoricas = datos_apartamentos.select_dtypes(include=['object', 'category']).columns.tolist()\n",
    "print(\"Variables categóricas restantes:\", variables_categoricas)"
   ]
  },
  {
   "cell_type": "markdown",
   "id": "22681738",
   "metadata": {},
   "source": [
    "Aunque la variable estrato podría interpretarse de forma numérica para facilidad de uso, no es recomendable porque el salto del precio entre estratos no es igual entre los estratos bajos (p.ej. 1 y 2) y los estratos altos (p.ej. 5 y 6). Por lo tanto, se prefiere seguirlo tomando como una variable categórica. De esta forma, para las variables que quedaron, se implementa el procedimiento de one-hot encoding. Antes de hacerlo, se imputan los faltantes de información para cada variable."
   ]
  },
  {
   "cell_type": "markdown",
   "id": "00e21a77",
   "metadata": {},
   "source": [
    "#### Imputación de valores faltantes"
   ]
  },
  {
   "cell_type": "markdown",
   "id": "1de6b493",
   "metadata": {},
   "source": [
    "Iniciando con la variable estrato, se inicia con la identificación de los valores faltantes."
   ]
  },
  {
   "cell_type": "code",
   "execution_count": 17,
   "id": "0be04a59",
   "metadata": {},
   "outputs": [
    {
     "data": {
      "text/html": [
       "<div>\n",
       "<style scoped>\n",
       "    .dataframe tbody tr th:only-of-type {\n",
       "        vertical-align: middle;\n",
       "    }\n",
       "\n",
       "    .dataframe tbody tr th {\n",
       "        vertical-align: top;\n",
       "    }\n",
       "\n",
       "    .dataframe thead th {\n",
       "        text-align: right;\n",
       "    }\n",
       "</style>\n",
       "<table border=\"1\" class=\"dataframe\">\n",
       "  <thead>\n",
       "    <tr style=\"text-align: right;\">\n",
       "      <th></th>\n",
       "      <th>Estrato</th>\n",
       "      <th>count</th>\n",
       "    </tr>\n",
       "  </thead>\n",
       "  <tbody>\n",
       "    <tr>\n",
       "      <th>0</th>\n",
       "      <td>2</td>\n",
       "      <td>9</td>\n",
       "    </tr>\n",
       "    <tr>\n",
       "      <th>1</th>\n",
       "      <td>3</td>\n",
       "      <td>60</td>\n",
       "    </tr>\n",
       "    <tr>\n",
       "      <th>2</th>\n",
       "      <td>4</td>\n",
       "      <td>41</td>\n",
       "    </tr>\n",
       "    <tr>\n",
       "      <th>3</th>\n",
       "      <td>5</td>\n",
       "      <td>6</td>\n",
       "    </tr>\n",
       "    <tr>\n",
       "      <th>4</th>\n",
       "      <td>6</td>\n",
       "      <td>2</td>\n",
       "    </tr>\n",
       "    <tr>\n",
       "      <th>5</th>\n",
       "      <td>Sin información</td>\n",
       "      <td>1</td>\n",
       "    </tr>\n",
       "  </tbody>\n",
       "</table>\n",
       "</div>"
      ],
      "text/plain": [
       "           Estrato  count\n",
       "0                2      9\n",
       "1                3     60\n",
       "2                4     41\n",
       "3                5      6\n",
       "4                6      2\n",
       "5  Sin información      1"
      ]
     },
     "execution_count": 17,
     "metadata": {},
     "output_type": "execute_result"
    }
   ],
   "source": [
    "# conversión de valores '101' a faltantes (variable de tipo texto)\n",
    "datos_apartamentos['Estrato'] = datos_apartamentos['Estrato'].replace('110', np.nan)\n",
    "# tabla de frecuencia incluyendo faltantes\n",
    "pd.DataFrame(datos_apartamentos['Estrato'].value_counts(dropna=False).sort_index()).reset_index()"
   ]
  },
  {
   "cell_type": "markdown",
   "id": "c8a05e12",
   "metadata": {},
   "source": [
    "Para realizar la imputación de los valores faltantes de estrato, se utiliza el algoritmo de los _k_ vecinos más cercanos para aprovechar los datos de las coordenadas de apartamentos. Así, se asigna el estrato del apartamento más cercano.\n",
    "\n",
    "Para determinar el número de vecinos, se revisa graficamente el comportamiento del error cuadrático medio con respecto al número de vecinos:"
   ]
  },
  {
   "cell_type": "code",
   "execution_count": 18,
   "id": "c95ce100",
   "metadata": {},
   "outputs": [
    {
     "data": {
      "image/png": "[encoded data removed]",
      "text/plain": [
       "<Figure size 800x500 with 1 Axes>"
      ]
     },
     "metadata": {},
     "output_type": "display_data"
    }
   ],
   "source": [
    "# conversión de casos con 'Sin información' a nulos\n",
    "datos_apartamentos['Estrato'] = datos_apartamentos['Estrato'].replace('Sin información', np.nan)\n",
    "\n",
    "# selección de las variables necesarias\n",
    "datos_validacion = datos_apartamentos[['Longitud', 'Latitud', 'Estrato']].copy()\n",
    "datos_validacion['Estrato'] = pd.to_numeric(datos_validacion['Estrato'], errors='coerce')\n",
    "\n",
    "# definición del rango de vecinos a probar\n",
    "vecinos_rango = range(1, 11)\n",
    "errores = []\n",
    "\n",
    "# se toma solo las filas donde Estrato no es nulo para simular el proceso de imputación\n",
    "datos_no_nulos = datos_validacion.dropna(subset=['Estrato'])\n",
    "\n",
    "# se enmascaran aleatoriamente algunos valores de 'Estrato' para validar el error de imputación\n",
    "np.random.seed(42)\n",
    "mask = np.random.rand(len(datos_no_nulos)) < 0.2\n",
    "datos_no_nulos_masked = datos_no_nulos.copy()\n",
    "datos_no_nulos_masked.loc[mask, 'Estrato'] = np.nan\n",
    "\n",
    "# cálculo del error para cada número de vecinos\n",
    "for k in vecinos_rango:\n",
    "    imputer = KNNImputer(n_neighbors=k)\n",
    "    imputados = imputer.fit_transform(datos_no_nulos_masked)\n",
    "    # Solo se evalúan los valores que fueron enmascarados\n",
    "    valores_reales = datos_no_nulos['Estrato'].values[mask]\n",
    "    valores_imputados = imputados[mask, 2]\n",
    "    # Error cuadrático medio\n",
    "    error = np.mean((valores_reales - valores_imputados) ** 2)\n",
    "    errores.append(error)\n",
    "\n",
    "plt.figure(figsize=(8,5))\n",
    "plt.plot(vecinos_rango, errores, marker='o')\n",
    "plt.xlabel('Número de vecinos (k)')\n",
    "plt.ylabel('Error cuadrático medio')\n",
    "plt.title('Validación del número de vecinos')\n",
    "plt.grid(True)\n",
    "plt.show()"
   ]
  },
  {
   "cell_type": "markdown",
   "id": "6e235822",
   "metadata": {},
   "source": [
    "Es evidente que el error de minimiza radicalmente para 3 vecinos, por lo que se deja ese valor."
   ]
  },
  {
   "cell_type": "code",
   "execution_count": 19,
   "id": "1d0d56aa",
   "metadata": {},
   "outputs": [
    {
     "name": "stdout",
     "output_type": "stream",
     "text": [
      "Imputación completada con 3 vecinos.\n"
     ]
    },
    {
     "data": {
      "text/html": [
       "<div>\n",
       "<style scoped>\n",
       "    .dataframe tbody tr th:only-of-type {\n",
       "        vertical-align: middle;\n",
       "    }\n",
       "\n",
       "    .dataframe tbody tr th {\n",
       "        vertical-align: top;\n",
       "    }\n",
       "\n",
       "    .dataframe thead th {\n",
       "        text-align: right;\n",
       "    }\n",
       "</style>\n",
       "<table border=\"1\" class=\"dataframe\">\n",
       "  <thead>\n",
       "    <tr style=\"text-align: right;\">\n",
       "      <th></th>\n",
       "      <th>Estrato</th>\n",
       "      <th>count</th>\n",
       "    </tr>\n",
       "  </thead>\n",
       "  <tbody>\n",
       "    <tr>\n",
       "      <th>0</th>\n",
       "      <td>2</td>\n",
       "      <td>9</td>\n",
       "    </tr>\n",
       "    <tr>\n",
       "      <th>1</th>\n",
       "      <td>3</td>\n",
       "      <td>60</td>\n",
       "    </tr>\n",
       "    <tr>\n",
       "      <th>2</th>\n",
       "      <td>4</td>\n",
       "      <td>42</td>\n",
       "    </tr>\n",
       "    <tr>\n",
       "      <th>3</th>\n",
       "      <td>5</td>\n",
       "      <td>6</td>\n",
       "    </tr>\n",
       "    <tr>\n",
       "      <th>4</th>\n",
       "      <td>6</td>\n",
       "      <td>2</td>\n",
       "    </tr>\n",
       "  </tbody>\n",
       "</table>\n",
       "</div>"
      ],
      "text/plain": [
       "  Estrato  count\n",
       "0       2      9\n",
       "1       3     60\n",
       "2       4     42\n",
       "3       5      6\n",
       "4       6      2"
      ]
     },
     "execution_count": 19,
     "metadata": {},
     "output_type": "execute_result"
    }
   ],
   "source": [
    "if datos_apartamentos['Estrato'].isna().sum() >= 1:\n",
    "    # creación de un DataFrame temporal con las variables necesarias para la imputación\n",
    "    datos_imputacion = datos_apartamentos[['Longitud', 'Latitud', 'Estrato']].copy()\n",
    "    # conversión de la variable Estrato a numérica para el algoritmo KNN\n",
    "    datos_imputacion['Estrato'] = pd.to_numeric(datos_imputacion['Estrato'], errors='coerce')\n",
    "    # aplicación de la imputación con 3 vecinos\n",
    "    imputer = KNNImputer(n_neighbors=3)\n",
    "    datos_imputados = imputer.fit_transform(datos_imputacion)\n",
    "    # actualización de la variable Estrato en el DataFrame original\n",
    "    datos_apartamentos['Estrato'] = datos_imputados[:, 2]\n",
    "    # conversión de vuelta a entero y luego a string para mantener el formato original\n",
    "    datos_apartamentos['Estrato'] = datos_apartamentos['Estrato'].astype(int).astype(str)\n",
    "    print(\"Imputación completada con 3 vecinos.\")\n",
    "else:\n",
    "    print(\"No hay faltantes\")\n",
    "\n",
    "# impresión para revisión\n",
    "pd.DataFrame(datos_apartamentos['Estrato'].value_counts(dropna=False).sort_index()).reset_index()"
   ]
  },
  {
   "cell_type": "markdown",
   "id": "88b41391",
   "metadata": {},
   "source": [
    "A continuación, se imputan los casos faltantes de `Antigüedad`:"
   ]
  },
  {
   "cell_type": "code",
   "execution_count": 20,
   "id": "8f9ba26c",
   "metadata": {},
   "outputs": [
    {
     "data": {
      "text/html": [
       "<div>\n",
       "<style scoped>\n",
       "    .dataframe tbody tr th:only-of-type {\n",
       "        vertical-align: middle;\n",
       "    }\n",
       "\n",
       "    .dataframe tbody tr th {\n",
       "        vertical-align: top;\n",
       "    }\n",
       "\n",
       "    .dataframe thead th {\n",
       "        text-align: right;\n",
       "    }\n",
       "</style>\n",
       "<table border=\"1\" class=\"dataframe\">\n",
       "  <thead>\n",
       "    <tr style=\"text-align: right;\">\n",
       "      <th></th>\n",
       "      <th>Antigüedad</th>\n",
       "      <th>count</th>\n",
       "    </tr>\n",
       "  </thead>\n",
       "  <tbody>\n",
       "    <tr>\n",
       "      <th>0</th>\n",
       "      <td>1 a 8 años</td>\n",
       "      <td>73</td>\n",
       "    </tr>\n",
       "    <tr>\n",
       "      <th>1</th>\n",
       "      <td>16 a 30 años</td>\n",
       "      <td>11</td>\n",
       "    </tr>\n",
       "    <tr>\n",
       "      <th>2</th>\n",
       "      <td>9 a 15 años</td>\n",
       "      <td>20</td>\n",
       "    </tr>\n",
       "    <tr>\n",
       "      <th>3</th>\n",
       "      <td>menor a 1 año</td>\n",
       "      <td>13</td>\n",
       "    </tr>\n",
       "    <tr>\n",
       "      <th>4</th>\n",
       "      <td>más de 30 años</td>\n",
       "      <td>2</td>\n",
       "    </tr>\n",
       "  </tbody>\n",
       "</table>\n",
       "</div>"
      ],
      "text/plain": [
       "       Antigüedad  count\n",
       "0      1 a 8 años     73\n",
       "1    16 a 30 años     11\n",
       "2     9 a 15 años     20\n",
       "3   menor a 1 año     13\n",
       "4  más de 30 años      2"
      ]
     },
     "execution_count": 20,
     "metadata": {},
     "output_type": "execute_result"
    }
   ],
   "source": [
    "# conversión de casos sin información a nulos\n",
    "datos_apartamentos.loc[datos_apartamentos['Antigüedad'] == 'Sin información', 'Antigüedad'] = np.nan\n",
    "# cálculo de la mode de antigüedad\n",
    "moda_antiguedad = datos_apartamentos['Antigüedad'].mode()[0]\n",
    "# imputación de nulos con la moda\n",
    "datos_apartamentos['Antigüedad'] = datos_apartamentos['Antigüedad'].fillna(moda_antiguedad)\n",
    "# revisión de la nueva tabla de frecuencias\n",
    "pd.DataFrame(datos_apartamentos['Antigüedad'].value_counts(dropna=False).sort_index()).reset_index()"
   ]
  },
  {
   "cell_type": "markdown",
   "id": "a7785c01",
   "metadata": {},
   "source": [
    "Ya con las variables imputadas, se realizar el one-hot encoding:"
   ]
  },
  {
   "cell_type": "code",
   "execution_count": 21,
   "id": "1fb9ec3a",
   "metadata": {},
   "outputs": [
    {
     "name": "stdout",
     "output_type": "stream",
     "text": [
      "<class 'pandas.core.frame.DataFrame'>\n",
      "Index: 119 entries, 0 to 119\n",
      "Data columns (total 17 columns):\n",
      " #   Column                              Non-Null Count  Dtype  \n",
      "---  ------                              --------------  -----  \n",
      " 0   Identificador                       119 non-null    int64  \n",
      " 1   Área Construida (metros cuadrados)  119 non-null    float64\n",
      " 2   Habitaciones                        119 non-null    int64  \n",
      " 3   Baños                               119 non-null    int64  \n",
      " 4   Latitud                             119 non-null    float64\n",
      " 5   Longitud                            119 non-null    float64\n",
      " 6   Precio                              119 non-null    int64  \n",
      " 7   Estrato_2                           119 non-null    bool   \n",
      " 8   Estrato_3                           119 non-null    bool   \n",
      " 9   Estrato_4                           119 non-null    bool   \n",
      " 10  Estrato_5                           119 non-null    bool   \n",
      " 11  Estrato_6                           119 non-null    bool   \n",
      " 12  Antigüedad_1 a 8 años               119 non-null    bool   \n",
      " 13  Antigüedad_16 a 30 años             119 non-null    bool   \n",
      " 14  Antigüedad_9 a 15 años              119 non-null    bool   \n",
      " 15  Antigüedad_menor a 1 año            119 non-null    bool   \n",
      " 16  Antigüedad_más de 30 años           119 non-null    bool   \n",
      "dtypes: bool(10), float64(3), int64(4)\n",
      "memory usage: 8.6 KB\n"
     ]
    }
   ],
   "source": [
    "# one hot encoding para las variables 'Estrato' y 'Antigüedad'\n",
    "datos_apartamentos = pd.get_dummies(datos_apartamentos, columns=['Estrato', 'Antigüedad'], prefix=['Estrato', 'Antigüedad'])\n",
    "# revisión de la nueva estructura\n",
    "datos_apartamentos.info()\n"
   ]
  },
  {
   "cell_type": "markdown",
   "id": "edcadc9f",
   "metadata": {},
   "source": [
    "### Variables numéricas"
   ]
  },
  {
   "cell_type": "markdown",
   "id": "0d78151d",
   "metadata": {},
   "source": [
    "#### Identificación de datos atípicos"
   ]
  },
  {
   "cell_type": "markdown",
   "id": "7ecb1af5",
   "metadata": {},
   "source": [
    "Se realiza una identificación de valores atípicos. La única variable para la que se sospecha esta situación es el área construida, por lo que se identifican los casos atípicos según el criterio de rango intercuantílico."
   ]
  },
  {
   "cell_type": "code",
   "execution_count": 22,
   "id": "6577135b",
   "metadata": {},
   "outputs": [
    {
     "name": "stdout",
     "output_type": "stream",
     "text": [
      "Proporción de atípicos identificados: 6.72%\n"
     ]
    }
   ],
   "source": [
    "# cálculo de los cuantiles 5 y 95\n",
    "q01 = datos_apartamentos['Área Construida (metros cuadrados)'].quantile(0.01)\n",
    "q95 = datos_apartamentos['Área Construida (metros cuadrados)'].quantile(0.95)\n",
    "\n",
    "# se usan ambos umbrales para identificar atípicos\n",
    "datos_apartamentos['atipico_area'] = (\n",
    "    (datos_apartamentos['Área Construida (metros cuadrados)'] < q01) |\n",
    "    (datos_apartamentos['Área Construida (metros cuadrados)'] > q95)\n",
    ").astype(int)\n",
    "\n",
    "proporcion_atipicos = datos_apartamentos['atipico_area'].mean()\n",
    "print(f'Proporción de atípicos identificados: {proporcion_atipicos*100:.2f}%')"
   ]
  },
  {
   "cell_type": "markdown",
   "id": "f2af140c",
   "metadata": {},
   "source": [
    "#### Imputación de valores atípicos"
   ]
  },
  {
   "cell_type": "markdown",
   "id": "03795a79",
   "metadata": {},
   "source": [
    "Se realiza la imputación de los valores atípicos identificados:"
   ]
  },
  {
   "cell_type": "code",
   "execution_count": 23,
   "id": "16e0b6db",
   "metadata": {},
   "outputs": [
    {
     "data": {
      "text/plain": [
       "count    119.000000\n",
       "mean      74.267387\n",
       "std       32.265152\n",
       "min       36.000000\n",
       "25%       56.000000\n",
       "50%       68.000000\n",
       "75%       80.000000\n",
       "max      212.000000\n",
       "Name: Área Construida (metros cuadrados), dtype: float64"
      ]
     },
     "execution_count": 23,
     "metadata": {},
     "output_type": "execute_result"
    }
   ],
   "source": [
    "# imputación de valores atípicos\n",
    "media_area = datos_apartamentos.loc[datos_apartamentos['atipico_area'] == 0, 'Área Construida (metros cuadrados)'].mean()\n",
    "datos_apartamentos.loc[datos_apartamentos['atipico_area'] == 1, 'Área Construida (metros cuadrados)'] = media_area\n",
    "\n",
    "# eliminación de la columna auxiliar\n",
    "datos_apartamentos = datos_apartamentos.drop(columns=['atipico_area'])\n",
    "\n",
    "# impresión del resumen estadístico\n",
    "datos_apartamentos['Área Construida (metros cuadrados)'].describe()\n"
   ]
  },
  {
   "cell_type": "markdown",
   "id": "75b6c160",
   "metadata": {},
   "source": [
    "## Base definitiva"
   ]
  },
  {
   "cell_type": "markdown",
   "id": "3720ca76",
   "metadata": {},
   "source": [
    "Se consolida la base de datos definitiva para el modelamiento:"
   ]
  },
  {
   "cell_type": "code",
   "execution_count": 24,
   "id": "54d7183b",
   "metadata": {},
   "outputs": [
    {
     "name": "stdout",
     "output_type": "stream",
     "text": [
      "<class 'pandas.core.frame.DataFrame'>\n",
      "Index: 119 entries, 0 to 119\n",
      "Data columns (total 16 columns):\n",
      " #   Column                              Non-Null Count  Dtype  \n",
      "---  ------                              --------------  -----  \n",
      " 0   Área Construida (metros cuadrados)  119 non-null    float64\n",
      " 1   Habitaciones                        119 non-null    int64  \n",
      " 2   Baños                               119 non-null    int64  \n",
      " 3   Latitud                             119 non-null    float64\n",
      " 4   Longitud                            119 non-null    float64\n",
      " 5   Precio                              119 non-null    int64  \n",
      " 6   Estrato_2                           119 non-null    bool   \n",
      " 7   Estrato_3                           119 non-null    bool   \n",
      " 8   Estrato_4                           119 non-null    bool   \n",
      " 9   Estrato_5                           119 non-null    bool   \n",
      " 10  Estrato_6                           119 non-null    bool   \n",
      " 11  Antigüedad_1 a 8 años               119 non-null    bool   \n",
      " 12  Antigüedad_16 a 30 años             119 non-null    bool   \n",
      " 13  Antigüedad_9 a 15 años              119 non-null    bool   \n",
      " 14  Antigüedad_menor a 1 año            119 non-null    bool   \n",
      " 15  Antigüedad_más de 30 años           119 non-null    bool   \n",
      "dtypes: bool(10), float64(3), int64(3)\n",
      "memory usage: 7.7 KB\n"
     ]
    }
   ],
   "source": [
    "# listado de columnas con nombre conocido\n",
    "columnas_base = [\n",
    "    'Área Construida (metros cuadrados)', 'Habitaciones', 'Baños',\n",
    "    'Latitud', 'Longitud', 'Precio'\n",
    "]\n",
    "\n",
    "# selección de columnas del one-hot encodign\n",
    "columnas_base += [col for col in datos_apartamentos.columns if col.startswith('Estrato_') and 'Identificador' not in col]\n",
    "columnas_base += [col for col in datos_apartamentos.columns if col.startswith('Antigüedad_') and 'Identificador' not in col]\n",
    "\n",
    "base_final = datos_apartamentos[columnas_base]\n",
    "base_final.info()"
   ]
  },
  {
   "cell_type": "markdown",
   "id": "bdac3545",
   "metadata": {},
   "source": [
    "# Modelamiento"
   ]
  },
  {
   "cell_type": "markdown",
   "id": "754cd49a",
   "metadata": {},
   "source": [
    "## Regresión lineal"
   ]
  },
  {
   "cell_type": "markdown",
   "id": "89dd8817",
   "metadata": {},
   "source": [
    "Se inicia realizando el proceso"
   ]
  },
  {
   "cell_type": "code",
   "execution_count": null,
   "id": "34fd595e",
   "metadata": {},
   "outputs": [
    {
     "name": "stdout",
     "output_type": "stream",
     "text": [
      "\n",
      "Validación con conjunto de prueba = 20% y entrenamiento = 80%\n",
      "R^2 en entrenamiento: 0.7131\n",
      "R^2 en prueba: 0.5903\n",
      "\n",
      "Validación con conjunto de prueba = 30% y entrenamiento = 70%\n",
      "R^2 en entrenamiento: 0.7078\n",
      "R^2 en prueba: 0.5833\n",
      "\n",
      "Validación con conjunto de prueba = 40% y entrenamiento = 60%\n",
      "R^2 en entrenamiento: 0.7227\n",
      "R^2 en prueba: 0.4598\n",
      "\n",
      "Validación cruzada con KFold (5 particiones):\n",
      "R^2 promedio: 0.3745\n",
      "Desviación estándar: 0.3223\n",
      "\n",
      "Modelo final entrenado con todos los datos.\n"
     ]
    }
   ],
   "source": [
    "# definición de variables predictoras y variable objetivo\n",
    "X = base_final.drop('Precio', axis=1)\n",
    "y = base_final['Precio']\n",
    "\n",
    "# Configuraciones de proporciones de entrenamiento/prueba\n",
    "proporciones = [0.2, 0.3, 0.4]\n",
    "\n",
    "for test_size in proporciones:\n",
    "    print(f\"\\nValidación con conjunto de prueba = {int(test_size*100)}% y entrenamiento = {int((1-test_size)*100)}%\")\n",
    "    X_train, X_test, y_train, y_test = train_test_split(X, y, test_size=test_size, random_state=42)\n",
    "    modelo = LinearRegression()\n",
    "    modelo.fit(X_train, y_train)\n",
    "    score_entrenamiento = modelo.score(X_train, y_train)\n",
    "    score_prueba = modelo.score(X_test, y_test)\n",
    "    print(f\"R^2 en entrenamiento: {score_entrenamiento:.4f}\")\n",
    "    print(f\"R^2 en prueba: {score_prueba:.4f}\")\n",
    "\n",
    "# Validación cruzada con KFold\n",
    "print(\"\\nValidación cruzada con KFold (5 particiones):\")\n",
    "kf = KFold(n_splits=5, shuffle=True, random_state=42)\n",
    "modelo = LinearRegression()\n",
    "scores = cross_val_score(modelo, X, y, cv=kf, scoring='r2')\n",
    "print(f\"R^2 promedio: {np.mean(scores):.4f}\")\n",
    "print(f\"Desviación estándar: {np.std(scores):.4f}\")\n",
    "\n",
    "# Entrenamiento final del modelo con todos los datos\n",
    "modelo.fit(X, y)\n",
    "print(\"\\nModelo final entrenado con todos los datos.\")\n"
   ]
  }
 ],
 "metadata": {
  "kernelspec": {
   "display_name": "base",
   "language": "python",
   "name": "python3"
  },
  "language_info": {
   "codemirror_mode": {
    "name": "ipython",
    "version": 3
   },
   "file_extension": ".py",
   "mimetype": "text/x-python",
   "name": "python",
   "nbconvert_exporter": "python",
   "pygments_lexer": "ipython3",
   "version": "3.13.5"
  }
 },
 "nbformat": 4,
 "nbformat_minor": 5
}
